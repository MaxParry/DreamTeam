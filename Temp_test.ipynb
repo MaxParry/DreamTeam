{
 "cells": [
  {
   "cell_type": "code",
   "execution_count": 1,
   "metadata": {},
   "outputs": [],
   "source": [
    "import pandas as pd"
   ]
  },
  {
   "cell_type": "code",
   "execution_count": 2,
   "metadata": {},
   "outputs": [
    {
     "name": "stdout",
     "output_type": "stream",
     "text": [
      "21613\n"
     ]
    }
   ],
   "source": [
    "data = pd.read_csv(\"kc_house_data.csv\")\n",
    "print(len(data))"
   ]
  },
  {
   "cell_type": "code",
   "execution_count": 3,
   "metadata": {},
   "outputs": [
    {
     "name": "stdout",
     "output_type": "stream",
     "text": [
      "21436\n"
     ]
    }
   ],
   "source": [
    "data = data.drop_duplicates(subset='id', keep='first')\n",
    "print(len(data))"
   ]
  },
  {
   "cell_type": "code",
   "execution_count": 4,
   "metadata": {},
   "outputs": [],
   "source": [
    "data['lat_group'] = \"\"\n",
    "data['long_group']=''"
   ]
  },
  {
   "cell_type": "code",
   "execution_count": 5,
   "metadata": {},
   "outputs": [],
   "source": [
    "max_long = max(data['long'])\n",
    "min_long = min(data['long'])\n",
    "max_lat = max(data['lat'])\n",
    "min_lat = min(data['lat'])"
   ]
  },
  {
   "cell_type": "code",
   "execution_count": 9,
   "metadata": {},
   "outputs": [
    {
     "name": "stdout",
     "output_type": "stream",
     "text": [
      "max_long:  -121.315\n",
      "min_long:  -122.51899999999999\n",
      "max_lat:  47.7776\n",
      "min_lat:  47.1559\n"
     ]
    }
   ],
   "source": [
    "print('max_long: ', max_long)\n",
    "print('min_long: ', min_long)\n",
    "print('max_lat: ', max_lat)\n",
    "print('min_lat: ', min_lat)"
   ]
  },
  {
   "cell_type": "code",
   "execution_count": null,
   "metadata": {},
   "outputs": [],
   "source": []
  },
  {
   "cell_type": "code",
   "execution_count": 10,
   "metadata": {},
   "outputs": [],
   "source": [
    "iter_long = (max_long-min_long)/43\n",
    "iter_lat = (max_lat-min_lat)/56"
   ]
  },
  {
   "cell_type": "code",
   "execution_count": 11,
   "metadata": {},
   "outputs": [
    {
     "name": "stdout",
     "output_type": "stream",
     "text": [
      "-122.49099999999999\n",
      "47.16700178571429\n"
     ]
    }
   ],
   "source": [
    "print(min_long+iter_long)\n",
    "print(min_lat+iter_lat)"
   ]
  },
  {
   "cell_type": "code",
   "execution_count": 8,
   "metadata": {},
   "outputs": [
    {
     "name": "stdout",
     "output_type": "stream",
     "text": [
      "0.027999999999999848\n",
      "0.011101785714285661\n"
     ]
    }
   ],
   "source": [
    "print(iter_long)\n",
    "print(iter_lat)"
   ]
  },
  {
   "cell_type": "code",
   "execution_count": null,
   "metadata": {},
   "outputs": [],
   "source": [
    "lat_list = []\n",
    "long_list = []"
   ]
  },
  {
   "cell_type": "code",
   "execution_count": null,
   "metadata": {},
   "outputs": [],
   "source": [
    "for i, row in data.iterrows():\n",
    "    if i%1000 ==0:\n",
    "        print(i)\n",
    "    grouped_lat ='n'\n",
    "    lat = min_lat\n",
    "    while lat <= max_lat+iter_lat and grouped_lat == 'n':\n",
    "        lat_test = data.get_value(i, 'lat', takeable=False)\n",
    "        if lat_test <= lat:\n",
    "            lat_group = lat\n",
    "            lat_list.append(lat - (iter_lat)/2)\n",
    "            grouped_lat = 'y'\n",
    "            #print(lat - (iter_lat)/2)\n",
    "        else:\n",
    "            lat = lat + iter_lat\n",
    "            #print('else')\n",
    "            \n",
    "    grouped_long = 'n'\n",
    "    long = min_long\n",
    "    while long <= max_long+iter_long and grouped_long == 'n':\n",
    "        long_test = data.get_value(i, 'long', takeable=False)\n",
    "        if long_test <= long:\n",
    "            long_group = long\n",
    "            long_list.append(long - (iter_long)/2)\n",
    "            grouped_long = 'y'\n",
    "        else:\n",
    "            long = long + iter_long"
   ]
  },
  {
   "cell_type": "code",
   "execution_count": null,
   "metadata": {},
   "outputs": [],
   "source": [
    "            \n",
    "lat_se = pd.Series(lat_list)\n",
    "long_se = pd.Series(long_list)"
   ]
  },
  {
   "cell_type": "code",
   "execution_count": null,
   "metadata": {},
   "outputs": [],
   "source": [
    "data['lat_group'] = lat_se.values\n",
    "data['long_group']=long_se.values"
   ]
  },
  {
   "cell_type": "code",
   "execution_count": null,
   "metadata": {},
   "outputs": [],
   "source": [
    "writer = pd.ExcelWriter('lat_lon_grouped.xlsx')\n",
    "data.to_excel(writer,'data')"
   ]
  }
 ],
 "metadata": {
  "kernelspec": {
   "display_name": "Python 3",
   "language": "python",
   "name": "python3"
  },
  "language_info": {
   "codemirror_mode": {
    "name": "ipython",
    "version": 3
   },
   "file_extension": ".py",
   "mimetype": "text/x-python",
   "name": "python",
   "nbconvert_exporter": "python",
   "pygments_lexer": "ipython3",
   "version": "3.6.3"
  }
 },
 "nbformat": 4,
 "nbformat_minor": 2
}
