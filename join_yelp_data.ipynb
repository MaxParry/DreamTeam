{
 "cells": [
  {
   "cell_type": "markdown",
   "metadata": {},
   "source": [
    "# Joining Yelp Data to Original Dataset"
   ]
  },
  {
   "cell_type": "markdown",
   "metadata": {},
   "source": [
    "#### Import dependencies"
   ]
  },
  {
   "cell_type": "code",
   "execution_count": 80,
   "metadata": {},
   "outputs": [],
   "source": [
    "import pandas as pd\n",
    "import matplotlib.pyplot as plt\n",
    "import numpy as np"
   ]
  },
  {
   "cell_type": "markdown",
   "metadata": {},
   "source": [
    "#### Read in CSVs"
   ]
  },
  {
   "cell_type": "code",
   "execution_count": 81,
   "metadata": {},
   "outputs": [],
   "source": [
    "csv1 = pd.read_csv('joinable_kc_dataset.csv')\n",
    "csv2 = pd.read_csv('most_of_yelp_coffee')"
   ]
  },
  {
   "cell_type": "code",
   "execution_count": 82,
   "metadata": {},
   "outputs": [],
   "source": [
    "joinable_raw_data = pd.DataFrame(csv1)\n",
    "coffee_ratings = pd.DataFrame(csv2)"
   ]
  },
  {
   "cell_type": "markdown",
   "metadata": {},
   "source": [
    "#### View the datasets"
   ]
  },
  {
   "cell_type": "code",
   "execution_count": 15,
   "metadata": {},
   "outputs": [
    {
     "data": {
      "text/html": [
       "<div>\n",
       "<style scoped>\n",
       "    .dataframe tbody tr th:only-of-type {\n",
       "        vertical-align: middle;\n",
       "    }\n",
       "\n",
       "    .dataframe tbody tr th {\n",
       "        vertical-align: top;\n",
       "    }\n",
       "\n",
       "    .dataframe thead th {\n",
       "        text-align: right;\n",
       "    }\n",
       "</style>\n",
       "<table border=\"1\" class=\"dataframe\">\n",
       "  <thead>\n",
       "    <tr style=\"text-align: right;\">\n",
       "      <th></th>\n",
       "      <th>id</th>\n",
       "      <th>date</th>\n",
       "      <th>price</th>\n",
       "      <th>bedrooms</th>\n",
       "      <th>bathrooms</th>\n",
       "      <th>sqft_living</th>\n",
       "      <th>sqft_lot</th>\n",
       "      <th>floors</th>\n",
       "      <th>waterfront</th>\n",
       "      <th>view</th>\n",
       "      <th>...</th>\n",
       "      <th>yr_built</th>\n",
       "      <th>yr_renovated</th>\n",
       "      <th>zipcode</th>\n",
       "      <th>lat</th>\n",
       "      <th>long</th>\n",
       "      <th>sqft_living15</th>\n",
       "      <th>sqft_lot15</th>\n",
       "      <th>lat_group</th>\n",
       "      <th>long_group</th>\n",
       "      <th>lat+long_group</th>\n",
       "    </tr>\n",
       "  </thead>\n",
       "  <tbody>\n",
       "    <tr>\n",
       "      <th>0</th>\n",
       "      <td>7129300520</td>\n",
       "      <td>20141013T000000</td>\n",
       "      <td>221900</td>\n",
       "      <td>3</td>\n",
       "      <td>1.00</td>\n",
       "      <td>1180</td>\n",
       "      <td>5650</td>\n",
       "      <td>1.0</td>\n",
       "      <td>0</td>\n",
       "      <td>0</td>\n",
       "      <td>...</td>\n",
       "      <td>1955</td>\n",
       "      <td>0</td>\n",
       "      <td>98178</td>\n",
       "      <td>47.5112</td>\n",
       "      <td>-122.257</td>\n",
       "      <td>1340</td>\n",
       "      <td>5650</td>\n",
       "      <td>47.516708</td>\n",
       "      <td>-122.253</td>\n",
       "      <td>47.51670803571437,-122.2529999999999</td>\n",
       "    </tr>\n",
       "    <tr>\n",
       "      <th>1</th>\n",
       "      <td>6414100192</td>\n",
       "      <td>20141209T000000</td>\n",
       "      <td>538000</td>\n",
       "      <td>3</td>\n",
       "      <td>2.25</td>\n",
       "      <td>2570</td>\n",
       "      <td>7242</td>\n",
       "      <td>2.0</td>\n",
       "      <td>0</td>\n",
       "      <td>0</td>\n",
       "      <td>...</td>\n",
       "      <td>1951</td>\n",
       "      <td>1991</td>\n",
       "      <td>98125</td>\n",
       "      <td>47.7210</td>\n",
       "      <td>-122.319</td>\n",
       "      <td>1690</td>\n",
       "      <td>7639</td>\n",
       "      <td>47.716540</td>\n",
       "      <td>-122.309</td>\n",
       "      <td>47.71654017857156,-122.3089999999999</td>\n",
       "    </tr>\n",
       "    <tr>\n",
       "      <th>2</th>\n",
       "      <td>5631500400</td>\n",
       "      <td>20150225T000000</td>\n",
       "      <td>180000</td>\n",
       "      <td>2</td>\n",
       "      <td>1.00</td>\n",
       "      <td>770</td>\n",
       "      <td>10000</td>\n",
       "      <td>1.0</td>\n",
       "      <td>0</td>\n",
       "      <td>0</td>\n",
       "      <td>...</td>\n",
       "      <td>1933</td>\n",
       "      <td>0</td>\n",
       "      <td>98028</td>\n",
       "      <td>47.7379</td>\n",
       "      <td>-122.233</td>\n",
       "      <td>2720</td>\n",
       "      <td>8062</td>\n",
       "      <td>47.738744</td>\n",
       "      <td>-122.225</td>\n",
       "      <td>47.73874375000014,-122.2249999999999</td>\n",
       "    </tr>\n",
       "    <tr>\n",
       "      <th>3</th>\n",
       "      <td>2487200875</td>\n",
       "      <td>20141209T000000</td>\n",
       "      <td>604000</td>\n",
       "      <td>4</td>\n",
       "      <td>3.00</td>\n",
       "      <td>1960</td>\n",
       "      <td>5000</td>\n",
       "      <td>1.0</td>\n",
       "      <td>0</td>\n",
       "      <td>0</td>\n",
       "      <td>...</td>\n",
       "      <td>1965</td>\n",
       "      <td>0</td>\n",
       "      <td>98136</td>\n",
       "      <td>47.5208</td>\n",
       "      <td>-122.393</td>\n",
       "      <td>1360</td>\n",
       "      <td>5000</td>\n",
       "      <td>47.516708</td>\n",
       "      <td>-122.393</td>\n",
       "      <td>47.51670803571437,-122.393</td>\n",
       "    </tr>\n",
       "    <tr>\n",
       "      <th>4</th>\n",
       "      <td>1954400510</td>\n",
       "      <td>20150218T000000</td>\n",
       "      <td>510000</td>\n",
       "      <td>3</td>\n",
       "      <td>2.00</td>\n",
       "      <td>1680</td>\n",
       "      <td>8080</td>\n",
       "      <td>1.0</td>\n",
       "      <td>0</td>\n",
       "      <td>0</td>\n",
       "      <td>...</td>\n",
       "      <td>1987</td>\n",
       "      <td>0</td>\n",
       "      <td>98074</td>\n",
       "      <td>47.6168</td>\n",
       "      <td>-122.045</td>\n",
       "      <td>1800</td>\n",
       "      <td>7503</td>\n",
       "      <td>47.616624</td>\n",
       "      <td>-122.057</td>\n",
       "      <td>47.61662410714297,-122.0569999999999</td>\n",
       "    </tr>\n",
       "  </tbody>\n",
       "</table>\n",
       "<p>5 rows × 24 columns</p>\n",
       "</div>"
      ],
      "text/plain": [
       "           id             date   price  bedrooms  bathrooms  sqft_living  \\\n",
       "0  7129300520  20141013T000000  221900         3       1.00         1180   \n",
       "1  6414100192  20141209T000000  538000         3       2.25         2570   \n",
       "2  5631500400  20150225T000000  180000         2       1.00          770   \n",
       "3  2487200875  20141209T000000  604000         4       3.00         1960   \n",
       "4  1954400510  20150218T000000  510000         3       2.00         1680   \n",
       "\n",
       "   sqft_lot  floors  waterfront  view                  ...                   \\\n",
       "0      5650     1.0           0     0                  ...                    \n",
       "1      7242     2.0           0     0                  ...                    \n",
       "2     10000     1.0           0     0                  ...                    \n",
       "3      5000     1.0           0     0                  ...                    \n",
       "4      8080     1.0           0     0                  ...                    \n",
       "\n",
       "   yr_built  yr_renovated  zipcode      lat     long  sqft_living15  \\\n",
       "0      1955             0    98178  47.5112 -122.257           1340   \n",
       "1      1951          1991    98125  47.7210 -122.319           1690   \n",
       "2      1933             0    98028  47.7379 -122.233           2720   \n",
       "3      1965             0    98136  47.5208 -122.393           1360   \n",
       "4      1987             0    98074  47.6168 -122.045           1800   \n",
       "\n",
       "   sqft_lot15  lat_group  long_group                        lat+long_group  \n",
       "0        5650  47.516708    -122.253  47.51670803571437,-122.2529999999999  \n",
       "1        7639  47.716540    -122.309  47.71654017857156,-122.3089999999999  \n",
       "2        8062  47.738744    -122.225  47.73874375000014,-122.2249999999999  \n",
       "3        5000  47.516708    -122.393            47.51670803571437,-122.393  \n",
       "4        7503  47.616624    -122.057  47.61662410714297,-122.0569999999999  \n",
       "\n",
       "[5 rows x 24 columns]"
      ]
     },
     "execution_count": 15,
     "metadata": {},
     "output_type": "execute_result"
    }
   ],
   "source": [
    "joinable_raw_data.head()"
   ]
  },
  {
   "cell_type": "code",
   "execution_count": 83,
   "metadata": {},
   "outputs": [
    {
     "data": {
      "text/html": [
       "<div>\n",
       "<style scoped>\n",
       "    .dataframe tbody tr th:only-of-type {\n",
       "        vertical-align: middle;\n",
       "    }\n",
       "\n",
       "    .dataframe tbody tr th {\n",
       "        vertical-align: top;\n",
       "    }\n",
       "\n",
       "    .dataframe thead th {\n",
       "        text-align: right;\n",
       "    }\n",
       "</style>\n",
       "<table border=\"1\" class=\"dataframe\">\n",
       "  <thead>\n",
       "    <tr style=\"text-align: right;\">\n",
       "      <th></th>\n",
       "      <th>lat+long_group</th>\n",
       "      <th>Review Count</th>\n",
       "      <th>Average Rating</th>\n",
       "      <th>Weighted Rating</th>\n",
       "    </tr>\n",
       "  </thead>\n",
       "  <tbody>\n",
       "    <tr>\n",
       "      <th>0</th>\n",
       "      <td>47.51670803571437,-122.2529999999999</td>\n",
       "      <td>709</td>\n",
       "      <td>4.155853</td>\n",
       "      <td>2946.5</td>\n",
       "    </tr>\n",
       "    <tr>\n",
       "      <th>1</th>\n",
       "      <td>47.71654017857156,-122.3089999999999</td>\n",
       "      <td>471</td>\n",
       "      <td>3.324841</td>\n",
       "      <td>1566.0</td>\n",
       "    </tr>\n",
       "    <tr>\n",
       "      <th>2</th>\n",
       "      <td>47.73874375000014,-122.2249999999999</td>\n",
       "      <td>0</td>\n",
       "      <td>NaN</td>\n",
       "      <td>NaN</td>\n",
       "    </tr>\n",
       "    <tr>\n",
       "      <th>3</th>\n",
       "      <td>47.51670803571437,-122.393</td>\n",
       "      <td>144</td>\n",
       "      <td>4.500000</td>\n",
       "      <td>648.0</td>\n",
       "    </tr>\n",
       "    <tr>\n",
       "      <th>4</th>\n",
       "      <td>47.61662410714297,-122.0569999999999</td>\n",
       "      <td>0</td>\n",
       "      <td>NaN</td>\n",
       "      <td>NaN</td>\n",
       "    </tr>\n",
       "  </tbody>\n",
       "</table>\n",
       "</div>"
      ],
      "text/plain": [
       "                         lat+long_group  Review Count  Average Rating  \\\n",
       "0  47.51670803571437,-122.2529999999999           709        4.155853   \n",
       "1  47.71654017857156,-122.3089999999999           471        3.324841   \n",
       "2  47.73874375000014,-122.2249999999999             0             NaN   \n",
       "3            47.51670803571437,-122.393           144        4.500000   \n",
       "4  47.61662410714297,-122.0569999999999             0             NaN   \n",
       "\n",
       "   Weighted Rating  \n",
       "0           2946.5  \n",
       "1           1566.0  \n",
       "2              NaN  \n",
       "3            648.0  \n",
       "4              NaN  "
      ]
     },
     "execution_count": 83,
     "metadata": {},
     "output_type": "execute_result"
    }
   ],
   "source": [
    "coffee_ratings.head()"
   ]
  },
  {
   "cell_type": "markdown",
   "metadata": {},
   "source": [
    "#### Join datasets"
   ]
  },
  {
   "cell_type": "code",
   "execution_count": 86,
   "metadata": {},
   "outputs": [
    {
     "data": {
      "text/html": [
       "<div>\n",
       "<style scoped>\n",
       "    .dataframe tbody tr th:only-of-type {\n",
       "        vertical-align: middle;\n",
       "    }\n",
       "\n",
       "    .dataframe tbody tr th {\n",
       "        vertical-align: top;\n",
       "    }\n",
       "\n",
       "    .dataframe thead th {\n",
       "        text-align: right;\n",
       "    }\n",
       "</style>\n",
       "<table border=\"1\" class=\"dataframe\">\n",
       "  <thead>\n",
       "    <tr style=\"text-align: right;\">\n",
       "      <th></th>\n",
       "      <th>id</th>\n",
       "      <th>date</th>\n",
       "      <th>price</th>\n",
       "      <th>bedrooms</th>\n",
       "      <th>bathrooms</th>\n",
       "      <th>sqft_living</th>\n",
       "      <th>sqft_lot</th>\n",
       "      <th>floors</th>\n",
       "      <th>waterfront</th>\n",
       "      <th>view</th>\n",
       "      <th>...</th>\n",
       "      <th>lat</th>\n",
       "      <th>long</th>\n",
       "      <th>sqft_living15</th>\n",
       "      <th>sqft_lot15</th>\n",
       "      <th>lat_group</th>\n",
       "      <th>long_group</th>\n",
       "      <th>lat+long_group</th>\n",
       "      <th>Review Count</th>\n",
       "      <th>Average Rating</th>\n",
       "      <th>Weighted Rating</th>\n",
       "    </tr>\n",
       "  </thead>\n",
       "  <tbody>\n",
       "    <tr>\n",
       "      <th>0</th>\n",
       "      <td>7129300520</td>\n",
       "      <td>20141013T000000</td>\n",
       "      <td>221900</td>\n",
       "      <td>3</td>\n",
       "      <td>1.00</td>\n",
       "      <td>1180</td>\n",
       "      <td>5650</td>\n",
       "      <td>1.0</td>\n",
       "      <td>0</td>\n",
       "      <td>0</td>\n",
       "      <td>...</td>\n",
       "      <td>47.5112</td>\n",
       "      <td>-122.257</td>\n",
       "      <td>1340</td>\n",
       "      <td>5650</td>\n",
       "      <td>47.516708</td>\n",
       "      <td>-122.253</td>\n",
       "      <td>47.51670803571437,-122.2529999999999</td>\n",
       "      <td>709</td>\n",
       "      <td>4.155853</td>\n",
       "      <td>2946.5</td>\n",
       "    </tr>\n",
       "    <tr>\n",
       "      <th>1</th>\n",
       "      <td>1895000260</td>\n",
       "      <td>20140721T000000</td>\n",
       "      <td>207950</td>\n",
       "      <td>2</td>\n",
       "      <td>2.00</td>\n",
       "      <td>890</td>\n",
       "      <td>5000</td>\n",
       "      <td>1.0</td>\n",
       "      <td>0</td>\n",
       "      <td>0</td>\n",
       "      <td>...</td>\n",
       "      <td>47.5158</td>\n",
       "      <td>-122.264</td>\n",
       "      <td>1860</td>\n",
       "      <td>5000</td>\n",
       "      <td>47.516708</td>\n",
       "      <td>-122.253</td>\n",
       "      <td>47.51670803571437,-122.2529999999999</td>\n",
       "      <td>709</td>\n",
       "      <td>4.155853</td>\n",
       "      <td>2946.5</td>\n",
       "    </tr>\n",
       "    <tr>\n",
       "      <th>2</th>\n",
       "      <td>1895000045</td>\n",
       "      <td>20150504T000000</td>\n",
       "      <td>195000</td>\n",
       "      <td>2</td>\n",
       "      <td>1.00</td>\n",
       "      <td>820</td>\n",
       "      <td>5100</td>\n",
       "      <td>1.0</td>\n",
       "      <td>0</td>\n",
       "      <td>0</td>\n",
       "      <td>...</td>\n",
       "      <td>47.5156</td>\n",
       "      <td>-122.262</td>\n",
       "      <td>1170</td>\n",
       "      <td>5304</td>\n",
       "      <td>47.516708</td>\n",
       "      <td>-122.253</td>\n",
       "      <td>47.51670803571437,-122.2529999999999</td>\n",
       "      <td>709</td>\n",
       "      <td>4.155853</td>\n",
       "      <td>2946.5</td>\n",
       "    </tr>\n",
       "    <tr>\n",
       "      <th>3</th>\n",
       "      <td>770000045</td>\n",
       "      <td>20141024T000000</td>\n",
       "      <td>405600</td>\n",
       "      <td>5</td>\n",
       "      <td>1.50</td>\n",
       "      <td>2830</td>\n",
       "      <td>4000</td>\n",
       "      <td>2.5</td>\n",
       "      <td>0</td>\n",
       "      <td>0</td>\n",
       "      <td>...</td>\n",
       "      <td>47.5132</td>\n",
       "      <td>-122.262</td>\n",
       "      <td>1480</td>\n",
       "      <td>4000</td>\n",
       "      <td>47.516708</td>\n",
       "      <td>-122.253</td>\n",
       "      <td>47.51670803571437,-122.2529999999999</td>\n",
       "      <td>709</td>\n",
       "      <td>4.155853</td>\n",
       "      <td>2946.5</td>\n",
       "    </tr>\n",
       "    <tr>\n",
       "      <th>4</th>\n",
       "      <td>8073000550</td>\n",
       "      <td>20150415T000000</td>\n",
       "      <td>1700000</td>\n",
       "      <td>4</td>\n",
       "      <td>3.75</td>\n",
       "      <td>3190</td>\n",
       "      <td>17186</td>\n",
       "      <td>2.0</td>\n",
       "      <td>1</td>\n",
       "      <td>4</td>\n",
       "      <td>...</td>\n",
       "      <td>47.5115</td>\n",
       "      <td>-122.246</td>\n",
       "      <td>2290</td>\n",
       "      <td>13496</td>\n",
       "      <td>47.516708</td>\n",
       "      <td>-122.253</td>\n",
       "      <td>47.51670803571437,-122.2529999999999</td>\n",
       "      <td>709</td>\n",
       "      <td>4.155853</td>\n",
       "      <td>2946.5</td>\n",
       "    </tr>\n",
       "  </tbody>\n",
       "</table>\n",
       "<p>5 rows × 27 columns</p>\n",
       "</div>"
      ],
      "text/plain": [
       "           id             date    price  bedrooms  bathrooms  sqft_living  \\\n",
       "0  7129300520  20141013T000000   221900         3       1.00         1180   \n",
       "1  1895000260  20140721T000000   207950         2       2.00          890   \n",
       "2  1895000045  20150504T000000   195000         2       1.00          820   \n",
       "3   770000045  20141024T000000   405600         5       1.50         2830   \n",
       "4  8073000550  20150415T000000  1700000         4       3.75         3190   \n",
       "\n",
       "   sqft_lot  floors  waterfront  view       ...             lat     long  \\\n",
       "0      5650     1.0           0     0       ...         47.5112 -122.257   \n",
       "1      5000     1.0           0     0       ...         47.5158 -122.264   \n",
       "2      5100     1.0           0     0       ...         47.5156 -122.262   \n",
       "3      4000     2.5           0     0       ...         47.5132 -122.262   \n",
       "4     17186     2.0           1     4       ...         47.5115 -122.246   \n",
       "\n",
       "   sqft_living15  sqft_lot15  lat_group  long_group  \\\n",
       "0           1340        5650  47.516708    -122.253   \n",
       "1           1860        5000  47.516708    -122.253   \n",
       "2           1170        5304  47.516708    -122.253   \n",
       "3           1480        4000  47.516708    -122.253   \n",
       "4           2290       13496  47.516708    -122.253   \n",
       "\n",
       "                         lat+long_group  Review Count  Average Rating  \\\n",
       "0  47.51670803571437,-122.2529999999999           709        4.155853   \n",
       "1  47.51670803571437,-122.2529999999999           709        4.155853   \n",
       "2  47.51670803571437,-122.2529999999999           709        4.155853   \n",
       "3  47.51670803571437,-122.2529999999999           709        4.155853   \n",
       "4  47.51670803571437,-122.2529999999999           709        4.155853   \n",
       "\n",
       "   Weighted Rating  \n",
       "0           2946.5  \n",
       "1           2946.5  \n",
       "2           2946.5  \n",
       "3           2946.5  \n",
       "4           2946.5  \n",
       "\n",
       "[5 rows x 27 columns]"
      ]
     },
     "execution_count": 86,
     "metadata": {},
     "output_type": "execute_result"
    }
   ],
   "source": [
    "df = pd.merge(joinable_raw_data, coffee_ratings, on='lat+long_group')\n",
    "df.head()"
   ]
  },
  {
   "cell_type": "markdown",
   "metadata": {},
   "source": [
    "#### Drop rows with no data"
   ]
  },
  {
   "cell_type": "code",
   "execution_count": 85,
   "metadata": {},
   "outputs": [
    {
     "data": {
      "text/plain": [
       "21318"
      ]
     },
     "execution_count": 85,
     "metadata": {},
     "output_type": "execute_result"
    }
   ],
   "source": [
    "len(df)"
   ]
  },
  {
   "cell_type": "code",
   "execution_count": 19,
   "metadata": {},
   "outputs": [],
   "source": [
    "df2 = df.dropna()"
   ]
  },
  {
   "cell_type": "code",
   "execution_count": 87,
   "metadata": {},
   "outputs": [
    {
     "data": {
      "text/plain": [
       "17086"
      ]
     },
     "execution_count": 87,
     "metadata": {},
     "output_type": "execute_result"
    }
   ],
   "source": [
    "len(df2)"
   ]
  },
  {
   "cell_type": "markdown",
   "metadata": {},
   "source": [
    "#### Plot"
   ]
  },
  {
   "cell_type": "code",
   "execution_count": 90,
   "metadata": {},
   "outputs": [
    {
     "data": {
      "image/png": "[encoded data removed]",
      "text/plain": [
       "<matplotlib.figure.Figure at 0x119f71278>"
      ]
     },
     "metadata": {},
     "output_type": "display_data"
    }
   ],
   "source": [
    "plt.figure(figsize=(20,10))\n",
    "plt.scatter(df2['price'], df2['Average Rating'], s=2)\n",
    "plt.xlim(0,8000000)\n",
    "plt.show()"
   ]
  },
  {
   "cell_type": "markdown",
   "metadata": {},
   "source": [
    "#### Linear Regression"
   ]
  },
  {
   "cell_type": "code",
   "execution_count": 94,
   "metadata": {},
   "outputs": [
    {
     "data": {
      "text/plain": [
       "<matplotlib.collections.PathCollection at 0x119364160>"
      ]
     },
     "execution_count": 94,
     "metadata": {},
     "output_type": "execute_result"
    }
   ],
   "source": [
    "fig, ax = plt.subplots()\n",
    "fit = np.polyfit(df2['price'], df2['Average Rating'], deg=1)\n",
    "ax.plot(df2['price'], fit[0] * df2['price'] + fit[1], color='red')\n",
    "ax.scatter(df2['price'], df2['Average Rating'], s=1)\n",
    "\n"
   ]
  },
  {
   "cell_type": "code",
   "execution_count": 95,
   "metadata": {},
   "outputs": [
    {
     "data": {
      "image/png": "[encoded data removed]",
      "text/plain": [
       "<matplotlib.figure.Figure at 0x11935ce10>"
      ]
     },
     "metadata": {},
     "output_type": "display_data"
    }
   ],
   "source": [
    "plt.show()"
   ]
  },
  {
   "cell_type": "markdown",
   "metadata": {},
   "source": [
    "#### Pearson's Correlation"
   ]
  },
  {
   "cell_type": "code",
   "execution_count": 91,
   "metadata": {},
   "outputs": [
    {
     "data": {
      "text/plain": [
       "0.089107709686061992"
      ]
     },
     "execution_count": 91,
     "metadata": {},
     "output_type": "execute_result"
    }
   ],
   "source": [
    "df2['price'].corr(df2['Average Rating'])"
   ]
  },
  {
   "cell_type": "code",
   "execution_count": 92,
   "metadata": {},
   "outputs": [
    {
     "data": {
      "text/plain": [
       "0.14421961461807623"
      ]
     },
     "execution_count": 92,
     "metadata": {},
     "output_type": "execute_result"
    }
   ],
   "source": [
    "df2['price'].corr(df2['Weighted Rating'])"
   ]
  }
 ],
 "metadata": {
  "kernelspec": {
   "display_name": "Python 3",
   "language": "python",
   "name": "python3"
  },
  "language_info": {
   "codemirror_mode": {
    "name": "ipython",
    "version": 3
   },
   "file_extension": ".py",
   "mimetype": "text/x-python",
   "name": "python",
   "nbconvert_exporter": "python",
   "pygments_lexer": "ipython3",
   "version": "3.6.3"
  }
 },
 "nbformat": 4,
 "nbformat_minor": 2
}
