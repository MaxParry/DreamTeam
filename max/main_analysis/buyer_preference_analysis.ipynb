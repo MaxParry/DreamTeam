{
 "cells": [
  {
   "cell_type": "markdown",
   "metadata": {},
   "source": [
    "# Data Meta-analysis"
   ]
  },
  {
   "cell_type": "code",
   "execution_count": 1,
   "metadata": {},
   "outputs": [],
   "source": [
    "import pandas as pd\n",
    "import numpy as np\n",
    "import matplotlib.pyplot as plt\n",
    "import matplotlib\n",
    "from scipy.stats import ttest_ind"
   ]
  },
  {
   "cell_type": "code",
   "execution_count": 2,
   "metadata": {},
   "outputs": [],
   "source": [
    "csv = pd.read_csv('joinable_kc_dataset.csv')\n",
    "df = pd.DataFrame(csv)"
   ]
  },
  {
   "cell_type": "code",
   "execution_count": 3,
   "metadata": {},
   "outputs": [
    {
     "data": {
      "text/plain": [
       "Index(['id', 'date', 'price', 'bedrooms', 'bathrooms', 'sqft_living',\n",
       "       'sqft_lot', 'floors', 'waterfront', 'view', 'condition', 'grade',\n",
       "       'sqft_above', 'sqft_basement', 'yr_built', 'yr_renovated', 'zipcode',\n",
       "       'lat', 'long', 'sqft_living15', 'sqft_lot15', 'lat_group', 'long_group',\n",
       "       'lat+long_group'],\n",
       "      dtype='object')"
      ]
     },
     "execution_count": 3,
     "metadata": {},
     "output_type": "execute_result"
    }
   ],
   "source": [
    "df.columns"
   ]
  },
  {
   "cell_type": "markdown",
   "metadata": {},
   "source": [
    "### What are the most and least valuable neighborhoods?\n",
    "- create new price per square foot (PPSF) column in the dataframe\n",
    "- groupby lat+long_group\n",
    "- return mean of each neighborhood PPSF from the groupby object\n",
    "    - set this as a new dataframe\n",
    "- find maximum row\n",
    "- find minimum row\n",
    "- draw a .5 mile radius circle around each\n",
    "    - high in green\n",
    "    - low in blue"
   ]
  },
  {
   "cell_type": "code",
   "execution_count": 4,
   "metadata": {},
   "outputs": [
    {
     "data": {
      "text/html": [
       "<div>\n",
       "<style scoped>\n",
       "    .dataframe tbody tr th:only-of-type {\n",
       "        vertical-align: middle;\n",
       "    }\n",
       "\n",
       "    .dataframe tbody tr th {\n",
       "        vertical-align: top;\n",
       "    }\n",
       "\n",
       "    .dataframe thead th {\n",
       "        text-align: right;\n",
       "    }\n",
       "</style>\n",
       "<table border=\"1\" class=\"dataframe\">\n",
       "  <thead>\n",
       "    <tr style=\"text-align: right;\">\n",
       "      <th></th>\n",
       "      <th>id</th>\n",
       "      <th>date</th>\n",
       "      <th>price</th>\n",
       "      <th>bedrooms</th>\n",
       "      <th>bathrooms</th>\n",
       "      <th>sqft_living</th>\n",
       "      <th>sqft_lot</th>\n",
       "      <th>floors</th>\n",
       "      <th>waterfront</th>\n",
       "      <th>view</th>\n",
       "      <th>...</th>\n",
       "      <th>yr_renovated</th>\n",
       "      <th>zipcode</th>\n",
       "      <th>lat</th>\n",
       "      <th>long</th>\n",
       "      <th>sqft_living15</th>\n",
       "      <th>sqft_lot15</th>\n",
       "      <th>lat_group</th>\n",
       "      <th>long_group</th>\n",
       "      <th>lat+long_group</th>\n",
       "      <th>price_per_sqft</th>\n",
       "    </tr>\n",
       "  </thead>\n",
       "  <tbody>\n",
       "    <tr>\n",
       "      <th>0</th>\n",
       "      <td>7129300520</td>\n",
       "      <td>20141013T000000</td>\n",
       "      <td>221900</td>\n",
       "      <td>3</td>\n",
       "      <td>1.00</td>\n",
       "      <td>1180</td>\n",
       "      <td>5650</td>\n",
       "      <td>1.0</td>\n",
       "      <td>0</td>\n",
       "      <td>0</td>\n",
       "      <td>...</td>\n",
       "      <td>0</td>\n",
       "      <td>98178</td>\n",
       "      <td>47.5112</td>\n",
       "      <td>-122.257</td>\n",
       "      <td>1340</td>\n",
       "      <td>5650</td>\n",
       "      <td>47.516708</td>\n",
       "      <td>-122.253</td>\n",
       "      <td>47.51670803571437,-122.2529999999999</td>\n",
       "      <td>188.050847</td>\n",
       "    </tr>\n",
       "    <tr>\n",
       "      <th>1</th>\n",
       "      <td>6414100192</td>\n",
       "      <td>20141209T000000</td>\n",
       "      <td>538000</td>\n",
       "      <td>3</td>\n",
       "      <td>2.25</td>\n",
       "      <td>2570</td>\n",
       "      <td>7242</td>\n",
       "      <td>2.0</td>\n",
       "      <td>0</td>\n",
       "      <td>0</td>\n",
       "      <td>...</td>\n",
       "      <td>1991</td>\n",
       "      <td>98125</td>\n",
       "      <td>47.7210</td>\n",
       "      <td>-122.319</td>\n",
       "      <td>1690</td>\n",
       "      <td>7639</td>\n",
       "      <td>47.716540</td>\n",
       "      <td>-122.309</td>\n",
       "      <td>47.71654017857156,-122.3089999999999</td>\n",
       "      <td>209.338521</td>\n",
       "    </tr>\n",
       "    <tr>\n",
       "      <th>2</th>\n",
       "      <td>5631500400</td>\n",
       "      <td>20150225T000000</td>\n",
       "      <td>180000</td>\n",
       "      <td>2</td>\n",
       "      <td>1.00</td>\n",
       "      <td>770</td>\n",
       "      <td>10000</td>\n",
       "      <td>1.0</td>\n",
       "      <td>0</td>\n",
       "      <td>0</td>\n",
       "      <td>...</td>\n",
       "      <td>0</td>\n",
       "      <td>98028</td>\n",
       "      <td>47.7379</td>\n",
       "      <td>-122.233</td>\n",
       "      <td>2720</td>\n",
       "      <td>8062</td>\n",
       "      <td>47.738744</td>\n",
       "      <td>-122.225</td>\n",
       "      <td>47.73874375000014,-122.2249999999999</td>\n",
       "      <td>233.766234</td>\n",
       "    </tr>\n",
       "    <tr>\n",
       "      <th>3</th>\n",
       "      <td>2487200875</td>\n",
       "      <td>20141209T000000</td>\n",
       "      <td>604000</td>\n",
       "      <td>4</td>\n",
       "      <td>3.00</td>\n",
       "      <td>1960</td>\n",
       "      <td>5000</td>\n",
       "      <td>1.0</td>\n",
       "      <td>0</td>\n",
       "      <td>0</td>\n",
       "      <td>...</td>\n",
       "      <td>0</td>\n",
       "      <td>98136</td>\n",
       "      <td>47.5208</td>\n",
       "      <td>-122.393</td>\n",
       "      <td>1360</td>\n",
       "      <td>5000</td>\n",
       "      <td>47.516708</td>\n",
       "      <td>-122.393</td>\n",
       "      <td>47.51670803571437,-122.393</td>\n",
       "      <td>308.163265</td>\n",
       "    </tr>\n",
       "    <tr>\n",
       "      <th>4</th>\n",
       "      <td>1954400510</td>\n",
       "      <td>20150218T000000</td>\n",
       "      <td>510000</td>\n",
       "      <td>3</td>\n",
       "      <td>2.00</td>\n",
       "      <td>1680</td>\n",
       "      <td>8080</td>\n",
       "      <td>1.0</td>\n",
       "      <td>0</td>\n",
       "      <td>0</td>\n",
       "      <td>...</td>\n",
       "      <td>0</td>\n",
       "      <td>98074</td>\n",
       "      <td>47.6168</td>\n",
       "      <td>-122.045</td>\n",
       "      <td>1800</td>\n",
       "      <td>7503</td>\n",
       "      <td>47.616624</td>\n",
       "      <td>-122.057</td>\n",
       "      <td>47.61662410714297,-122.0569999999999</td>\n",
       "      <td>303.571429</td>\n",
       "    </tr>\n",
       "  </tbody>\n",
       "</table>\n",
       "<p>5 rows × 25 columns</p>\n",
       "</div>"
      ],
      "text/plain": [
       "           id             date   price  bedrooms  bathrooms  sqft_living  \\\n",
       "0  7129300520  20141013T000000  221900         3       1.00         1180   \n",
       "1  6414100192  20141209T000000  538000         3       2.25         2570   \n",
       "2  5631500400  20150225T000000  180000         2       1.00          770   \n",
       "3  2487200875  20141209T000000  604000         4       3.00         1960   \n",
       "4  1954400510  20150218T000000  510000         3       2.00         1680   \n",
       "\n",
       "   sqft_lot  floors  waterfront  view       ...        yr_renovated  zipcode  \\\n",
       "0      5650     1.0           0     0       ...                   0    98178   \n",
       "1      7242     2.0           0     0       ...                1991    98125   \n",
       "2     10000     1.0           0     0       ...                   0    98028   \n",
       "3      5000     1.0           0     0       ...                   0    98136   \n",
       "4      8080     1.0           0     0       ...                   0    98074   \n",
       "\n",
       "       lat     long  sqft_living15  sqft_lot15  lat_group  long_group  \\\n",
       "0  47.5112 -122.257           1340        5650  47.516708    -122.253   \n",
       "1  47.7210 -122.319           1690        7639  47.716540    -122.309   \n",
       "2  47.7379 -122.233           2720        8062  47.738744    -122.225   \n",
       "3  47.5208 -122.393           1360        5000  47.516708    -122.393   \n",
       "4  47.6168 -122.045           1800        7503  47.616624    -122.057   \n",
       "\n",
       "                         lat+long_group  price_per_sqft  \n",
       "0  47.51670803571437,-122.2529999999999      188.050847  \n",
       "1  47.71654017857156,-122.3089999999999      209.338521  \n",
       "2  47.73874375000014,-122.2249999999999      233.766234  \n",
       "3            47.51670803571437,-122.393      308.163265  \n",
       "4  47.61662410714297,-122.0569999999999      303.571429  \n",
       "\n",
       "[5 rows x 25 columns]"
      ]
     },
     "execution_count": 4,
     "metadata": {},
     "output_type": "execute_result"
    }
   ],
   "source": [
    "df['price_per_sqft'] = df['price']/df['sqft_living']\n",
    "df.head()"
   ]
  },
  {
   "cell_type": "code",
   "execution_count": 5,
   "metadata": {},
   "outputs": [
    {
     "data": {
      "text/html": [
       "<div>\n",
       "<style scoped>\n",
       "    .dataframe tbody tr th:only-of-type {\n",
       "        vertical-align: middle;\n",
       "    }\n",
       "\n",
       "    .dataframe tbody tr th {\n",
       "        vertical-align: top;\n",
       "    }\n",
       "\n",
       "    .dataframe thead th {\n",
       "        text-align: right;\n",
       "    }\n",
       "</style>\n",
       "<table border=\"1\" class=\"dataframe\">\n",
       "  <thead>\n",
       "    <tr style=\"text-align: right;\">\n",
       "      <th></th>\n",
       "      <th>lat+long_group</th>\n",
       "      <th>price_per_sqft</th>\n",
       "    </tr>\n",
       "  </thead>\n",
       "  <tbody>\n",
       "    <tr>\n",
       "      <th>0</th>\n",
       "      <td>47.15034910714286,-121.6369999999998</td>\n",
       "      <td>204.301075</td>\n",
       "    </tr>\n",
       "    <tr>\n",
       "      <th>1</th>\n",
       "      <td>47.16145089285715,-121.9449999999999</td>\n",
       "      <td>156.136364</td>\n",
       "    </tr>\n",
       "    <tr>\n",
       "      <th>2</th>\n",
       "      <td>47.16145089285715,-121.9729999999999</td>\n",
       "      <td>242.086783</td>\n",
       "    </tr>\n",
       "    <tr>\n",
       "      <th>3</th>\n",
       "      <td>47.17255267857144,-121.9449999999999</td>\n",
       "      <td>209.708738</td>\n",
       "    </tr>\n",
       "    <tr>\n",
       "      <th>4</th>\n",
       "      <td>47.17255267857144,-122.0009999999999</td>\n",
       "      <td>150.326797</td>\n",
       "    </tr>\n",
       "  </tbody>\n",
       "</table>\n",
       "</div>"
      ],
      "text/plain": [
       "                         lat+long_group  price_per_sqft\n",
       "0  47.15034910714286,-121.6369999999998      204.301075\n",
       "1  47.16145089285715,-121.9449999999999      156.136364\n",
       "2  47.16145089285715,-121.9729999999999      242.086783\n",
       "3  47.17255267857144,-121.9449999999999      209.708738\n",
       "4  47.17255267857144,-122.0009999999999      150.326797"
      ]
     },
     "execution_count": 5,
     "metadata": {},
     "output_type": "execute_result"
    }
   ],
   "source": [
    "areas = df.groupby('lat+long_group')\n",
    "av_ppsqft = pd.DataFrame(areas['price_per_sqft'].mean().reset_index())\n",
    "av_ppsqft.head()"
   ]
  },
  {
   "cell_type": "code",
   "execution_count": 6,
   "metadata": {},
   "outputs": [
    {
     "name": "stdout",
     "output_type": "stream",
     "text": [
      "Lat, Long Center of Highest PPsqft area:\n",
      " lat+long_group    47.69433660714299,-122.2529999999999\n",
      "price_per_sqft                                 694.878\n",
      "Name: 723, dtype: object\n"
     ]
    }
   ],
   "source": [
    "print('Lat, Long Center of Highest PPsqft area:\\n', av_ppsqft.iloc[(av_ppsqft['price_per_sqft'].idxmax())])"
   ]
  },
  {
   "cell_type": "code",
   "execution_count": 7,
   "metadata": {},
   "outputs": [
    {
     "name": "stdout",
     "output_type": "stream",
     "text": [
      "Lat, Long Center of Highest PPsqft area:\n",
      " lat+long_group    47.28357053571432,-122.1689999999999\n",
      "price_per_sqft                                  99.963\n",
      "Name: 66, dtype: object\n"
     ]
    }
   ],
   "source": [
    "print('Lat, Long Center of Highest PPsqft area:\\n', av_ppsqft.iloc[(av_ppsqft['price_per_sqft'].idxmin())])"
   ]
  },
  {
   "cell_type": "markdown",
   "metadata": {},
   "source": [
    "Plugging in these two latitudes and longitudes into google maps, we get the two following neighborhood names:\n",
    "- Highest average PPsqft area: Shorelines of Sand Point and Inglewood-Finn Hill (\\$695 / sqft)\n",
    "    - Below in green\n",
    "- Lowest average PPsqft area: Southeast Auburn (\\$100 / sqft)\n",
    "    - Below in blue"
   ]
  },
  {
   "cell_type": "code",
   "execution_count": 8,
   "metadata": {},
   "outputs": [
    {
     "name": "stdout",
     "output_type": "stream",
     "text": [
      "../DreamTeam/highest_and_lowest_areas.png\n"
     ]
    }
   ],
   "source": [
    "print('../DreamTeam/highest_and_lowest_areas.png')"
   ]
  },
  {
   "cell_type": "markdown",
   "metadata": {},
   "source": [
    "![title](highest_and_lowest_areas.png \"ShowMyImage\")"
   ]
  },
  {
   "cell_type": "markdown",
   "metadata": {},
   "source": [
    "### How many properties sold each month?\n",
    "\n",
    "- Parse date of sale to extract year, month in separate columns\n",
    "- groupby year, month\n",
    "    - get total count of records for each group\n",
    "    - plot as line graph"
   ]
  },
  {
   "cell_type": "code",
   "execution_count": 9,
   "metadata": {},
   "outputs": [
    {
     "data": {
      "text/html": [
       "<div>\n",
       "<style scoped>\n",
       "    .dataframe tbody tr th:only-of-type {\n",
       "        vertical-align: middle;\n",
       "    }\n",
       "\n",
       "    .dataframe tbody tr th {\n",
       "        vertical-align: top;\n",
       "    }\n",
       "\n",
       "    .dataframe thead th {\n",
       "        text-align: right;\n",
       "    }\n",
       "</style>\n",
       "<table border=\"1\" class=\"dataframe\">\n",
       "  <thead>\n",
       "    <tr style=\"text-align: right;\">\n",
       "      <th></th>\n",
       "      <th>id</th>\n",
       "      <th>date</th>\n",
       "      <th>price</th>\n",
       "      <th>bedrooms</th>\n",
       "      <th>bathrooms</th>\n",
       "      <th>sqft_living</th>\n",
       "      <th>sqft_lot</th>\n",
       "      <th>floors</th>\n",
       "      <th>waterfront</th>\n",
       "      <th>view</th>\n",
       "      <th>...</th>\n",
       "      <th>yr_renovated</th>\n",
       "      <th>zipcode</th>\n",
       "      <th>lat</th>\n",
       "      <th>long</th>\n",
       "      <th>sqft_living15</th>\n",
       "      <th>sqft_lot15</th>\n",
       "      <th>lat_group</th>\n",
       "      <th>long_group</th>\n",
       "      <th>lat+long_group</th>\n",
       "      <th>price_per_sqft</th>\n",
       "    </tr>\n",
       "  </thead>\n",
       "  <tbody>\n",
       "    <tr>\n",
       "      <th>0</th>\n",
       "      <td>7129300520</td>\n",
       "      <td>20141013T000000</td>\n",
       "      <td>221900</td>\n",
       "      <td>3</td>\n",
       "      <td>1.00</td>\n",
       "      <td>1180</td>\n",
       "      <td>5650</td>\n",
       "      <td>1.0</td>\n",
       "      <td>0</td>\n",
       "      <td>0</td>\n",
       "      <td>...</td>\n",
       "      <td>0</td>\n",
       "      <td>98178</td>\n",
       "      <td>47.5112</td>\n",
       "      <td>-122.257</td>\n",
       "      <td>1340</td>\n",
       "      <td>5650</td>\n",
       "      <td>47.516708</td>\n",
       "      <td>-122.253</td>\n",
       "      <td>47.51670803571437,-122.2529999999999</td>\n",
       "      <td>188.050847</td>\n",
       "    </tr>\n",
       "    <tr>\n",
       "      <th>1</th>\n",
       "      <td>6414100192</td>\n",
       "      <td>20141209T000000</td>\n",
       "      <td>538000</td>\n",
       "      <td>3</td>\n",
       "      <td>2.25</td>\n",
       "      <td>2570</td>\n",
       "      <td>7242</td>\n",
       "      <td>2.0</td>\n",
       "      <td>0</td>\n",
       "      <td>0</td>\n",
       "      <td>...</td>\n",
       "      <td>1991</td>\n",
       "      <td>98125</td>\n",
       "      <td>47.7210</td>\n",
       "      <td>-122.319</td>\n",
       "      <td>1690</td>\n",
       "      <td>7639</td>\n",
       "      <td>47.716540</td>\n",
       "      <td>-122.309</td>\n",
       "      <td>47.71654017857156,-122.3089999999999</td>\n",
       "      <td>209.338521</td>\n",
       "    </tr>\n",
       "    <tr>\n",
       "      <th>2</th>\n",
       "      <td>5631500400</td>\n",
       "      <td>20150225T000000</td>\n",
       "      <td>180000</td>\n",
       "      <td>2</td>\n",
       "      <td>1.00</td>\n",
       "      <td>770</td>\n",
       "      <td>10000</td>\n",
       "      <td>1.0</td>\n",
       "      <td>0</td>\n",
       "      <td>0</td>\n",
       "      <td>...</td>\n",
       "      <td>0</td>\n",
       "      <td>98028</td>\n",
       "      <td>47.7379</td>\n",
       "      <td>-122.233</td>\n",
       "      <td>2720</td>\n",
       "      <td>8062</td>\n",
       "      <td>47.738744</td>\n",
       "      <td>-122.225</td>\n",
       "      <td>47.73874375000014,-122.2249999999999</td>\n",
       "      <td>233.766234</td>\n",
       "    </tr>\n",
       "    <tr>\n",
       "      <th>3</th>\n",
       "      <td>2487200875</td>\n",
       "      <td>20141209T000000</td>\n",
       "      <td>604000</td>\n",
       "      <td>4</td>\n",
       "      <td>3.00</td>\n",
       "      <td>1960</td>\n",
       "      <td>5000</td>\n",
       "      <td>1.0</td>\n",
       "      <td>0</td>\n",
       "      <td>0</td>\n",
       "      <td>...</td>\n",
       "      <td>0</td>\n",
       "      <td>98136</td>\n",
       "      <td>47.5208</td>\n",
       "      <td>-122.393</td>\n",
       "      <td>1360</td>\n",
       "      <td>5000</td>\n",
       "      <td>47.516708</td>\n",
       "      <td>-122.393</td>\n",
       "      <td>47.51670803571437,-122.393</td>\n",
       "      <td>308.163265</td>\n",
       "    </tr>\n",
       "    <tr>\n",
       "      <th>4</th>\n",
       "      <td>1954400510</td>\n",
       "      <td>20150218T000000</td>\n",
       "      <td>510000</td>\n",
       "      <td>3</td>\n",
       "      <td>2.00</td>\n",
       "      <td>1680</td>\n",
       "      <td>8080</td>\n",
       "      <td>1.0</td>\n",
       "      <td>0</td>\n",
       "      <td>0</td>\n",
       "      <td>...</td>\n",
       "      <td>0</td>\n",
       "      <td>98074</td>\n",
       "      <td>47.6168</td>\n",
       "      <td>-122.045</td>\n",
       "      <td>1800</td>\n",
       "      <td>7503</td>\n",
       "      <td>47.616624</td>\n",
       "      <td>-122.057</td>\n",
       "      <td>47.61662410714297,-122.0569999999999</td>\n",
       "      <td>303.571429</td>\n",
       "    </tr>\n",
       "  </tbody>\n",
       "</table>\n",
       "<p>5 rows × 25 columns</p>\n",
       "</div>"
      ],
      "text/plain": [
       "           id             date   price  bedrooms  bathrooms  sqft_living  \\\n",
       "0  7129300520  20141013T000000  221900         3       1.00         1180   \n",
       "1  6414100192  20141209T000000  538000         3       2.25         2570   \n",
       "2  5631500400  20150225T000000  180000         2       1.00          770   \n",
       "3  2487200875  20141209T000000  604000         4       3.00         1960   \n",
       "4  1954400510  20150218T000000  510000         3       2.00         1680   \n",
       "\n",
       "   sqft_lot  floors  waterfront  view       ...        yr_renovated  zipcode  \\\n",
       "0      5650     1.0           0     0       ...                   0    98178   \n",
       "1      7242     2.0           0     0       ...                1991    98125   \n",
       "2     10000     1.0           0     0       ...                   0    98028   \n",
       "3      5000     1.0           0     0       ...                   0    98136   \n",
       "4      8080     1.0           0     0       ...                   0    98074   \n",
       "\n",
       "       lat     long  sqft_living15  sqft_lot15  lat_group  long_group  \\\n",
       "0  47.5112 -122.257           1340        5650  47.516708    -122.253   \n",
       "1  47.7210 -122.319           1690        7639  47.716540    -122.309   \n",
       "2  47.7379 -122.233           2720        8062  47.738744    -122.225   \n",
       "3  47.5208 -122.393           1360        5000  47.516708    -122.393   \n",
       "4  47.6168 -122.045           1800        7503  47.616624    -122.057   \n",
       "\n",
       "                         lat+long_group  price_per_sqft  \n",
       "0  47.51670803571437,-122.2529999999999      188.050847  \n",
       "1  47.71654017857156,-122.3089999999999      209.338521  \n",
       "2  47.73874375000014,-122.2249999999999      233.766234  \n",
       "3            47.51670803571437,-122.393      308.163265  \n",
       "4  47.61662410714297,-122.0569999999999      303.571429  \n",
       "\n",
       "[5 rows x 25 columns]"
      ]
     },
     "execution_count": 9,
     "metadata": {},
     "output_type": "execute_result"
    }
   ],
   "source": [
    "df.head()"
   ]
  },
  {
   "cell_type": "code",
   "execution_count": 10,
   "metadata": {},
   "outputs": [
    {
     "data": {
      "text/html": [
       "<div>\n",
       "<style scoped>\n",
       "    .dataframe tbody tr th:only-of-type {\n",
       "        vertical-align: middle;\n",
       "    }\n",
       "\n",
       "    .dataframe tbody tr th {\n",
       "        vertical-align: top;\n",
       "    }\n",
       "\n",
       "    .dataframe thead th {\n",
       "        text-align: right;\n",
       "    }\n",
       "</style>\n",
       "<table border=\"1\" class=\"dataframe\">\n",
       "  <thead>\n",
       "    <tr style=\"text-align: right;\">\n",
       "      <th></th>\n",
       "      <th>id</th>\n",
       "      <th>date</th>\n",
       "      <th>price</th>\n",
       "      <th>bedrooms</th>\n",
       "      <th>bathrooms</th>\n",
       "      <th>sqft_living</th>\n",
       "      <th>sqft_lot</th>\n",
       "      <th>floors</th>\n",
       "      <th>waterfront</th>\n",
       "      <th>view</th>\n",
       "      <th>...</th>\n",
       "      <th>zipcode</th>\n",
       "      <th>lat</th>\n",
       "      <th>long</th>\n",
       "      <th>sqft_living15</th>\n",
       "      <th>sqft_lot15</th>\n",
       "      <th>lat_group</th>\n",
       "      <th>long_group</th>\n",
       "      <th>lat+long_group</th>\n",
       "      <th>price_per_sqft</th>\n",
       "      <th>year_month</th>\n",
       "    </tr>\n",
       "  </thead>\n",
       "  <tbody>\n",
       "    <tr>\n",
       "      <th>0</th>\n",
       "      <td>7129300520</td>\n",
       "      <td>20141013T000000</td>\n",
       "      <td>221900</td>\n",
       "      <td>3</td>\n",
       "      <td>1.00</td>\n",
       "      <td>1180</td>\n",
       "      <td>5650</td>\n",
       "      <td>1.0</td>\n",
       "      <td>0</td>\n",
       "      <td>0</td>\n",
       "      <td>...</td>\n",
       "      <td>98178</td>\n",
       "      <td>47.5112</td>\n",
       "      <td>-122.257</td>\n",
       "      <td>1340</td>\n",
       "      <td>5650</td>\n",
       "      <td>47.516708</td>\n",
       "      <td>-122.253</td>\n",
       "      <td>47.51670803571437,-122.2529999999999</td>\n",
       "      <td>188.050847</td>\n",
       "      <td>201410</td>\n",
       "    </tr>\n",
       "    <tr>\n",
       "      <th>1</th>\n",
       "      <td>6414100192</td>\n",
       "      <td>20141209T000000</td>\n",
       "      <td>538000</td>\n",
       "      <td>3</td>\n",
       "      <td>2.25</td>\n",
       "      <td>2570</td>\n",
       "      <td>7242</td>\n",
       "      <td>2.0</td>\n",
       "      <td>0</td>\n",
       "      <td>0</td>\n",
       "      <td>...</td>\n",
       "      <td>98125</td>\n",
       "      <td>47.7210</td>\n",
       "      <td>-122.319</td>\n",
       "      <td>1690</td>\n",
       "      <td>7639</td>\n",
       "      <td>47.716540</td>\n",
       "      <td>-122.309</td>\n",
       "      <td>47.71654017857156,-122.3089999999999</td>\n",
       "      <td>209.338521</td>\n",
       "      <td>201412</td>\n",
       "    </tr>\n",
       "    <tr>\n",
       "      <th>2</th>\n",
       "      <td>5631500400</td>\n",
       "      <td>20150225T000000</td>\n",
       "      <td>180000</td>\n",
       "      <td>2</td>\n",
       "      <td>1.00</td>\n",
       "      <td>770</td>\n",
       "      <td>10000</td>\n",
       "      <td>1.0</td>\n",
       "      <td>0</td>\n",
       "      <td>0</td>\n",
       "      <td>...</td>\n",
       "      <td>98028</td>\n",
       "      <td>47.7379</td>\n",
       "      <td>-122.233</td>\n",
       "      <td>2720</td>\n",
       "      <td>8062</td>\n",
       "      <td>47.738744</td>\n",
       "      <td>-122.225</td>\n",
       "      <td>47.73874375000014,-122.2249999999999</td>\n",
       "      <td>233.766234</td>\n",
       "      <td>201502</td>\n",
       "    </tr>\n",
       "    <tr>\n",
       "      <th>3</th>\n",
       "      <td>2487200875</td>\n",
       "      <td>20141209T000000</td>\n",
       "      <td>604000</td>\n",
       "      <td>4</td>\n",
       "      <td>3.00</td>\n",
       "      <td>1960</td>\n",
       "      <td>5000</td>\n",
       "      <td>1.0</td>\n",
       "      <td>0</td>\n",
       "      <td>0</td>\n",
       "      <td>...</td>\n",
       "      <td>98136</td>\n",
       "      <td>47.5208</td>\n",
       "      <td>-122.393</td>\n",
       "      <td>1360</td>\n",
       "      <td>5000</td>\n",
       "      <td>47.516708</td>\n",
       "      <td>-122.393</td>\n",
       "      <td>47.51670803571437,-122.393</td>\n",
       "      <td>308.163265</td>\n",
       "      <td>201412</td>\n",
       "    </tr>\n",
       "    <tr>\n",
       "      <th>4</th>\n",
       "      <td>1954400510</td>\n",
       "      <td>20150218T000000</td>\n",
       "      <td>510000</td>\n",
       "      <td>3</td>\n",
       "      <td>2.00</td>\n",
       "      <td>1680</td>\n",
       "      <td>8080</td>\n",
       "      <td>1.0</td>\n",
       "      <td>0</td>\n",
       "      <td>0</td>\n",
       "      <td>...</td>\n",
       "      <td>98074</td>\n",
       "      <td>47.6168</td>\n",
       "      <td>-122.045</td>\n",
       "      <td>1800</td>\n",
       "      <td>7503</td>\n",
       "      <td>47.616624</td>\n",
       "      <td>-122.057</td>\n",
       "      <td>47.61662410714297,-122.0569999999999</td>\n",
       "      <td>303.571429</td>\n",
       "      <td>201502</td>\n",
       "    </tr>\n",
       "  </tbody>\n",
       "</table>\n",
       "<p>5 rows × 26 columns</p>\n",
       "</div>"
      ],
      "text/plain": [
       "           id             date   price  bedrooms  bathrooms  sqft_living  \\\n",
       "0  7129300520  20141013T000000  221900         3       1.00         1180   \n",
       "1  6414100192  20141209T000000  538000         3       2.25         2570   \n",
       "2  5631500400  20150225T000000  180000         2       1.00          770   \n",
       "3  2487200875  20141209T000000  604000         4       3.00         1960   \n",
       "4  1954400510  20150218T000000  510000         3       2.00         1680   \n",
       "\n",
       "   sqft_lot  floors  waterfront  view     ...      zipcode      lat     long  \\\n",
       "0      5650     1.0           0     0     ...        98178  47.5112 -122.257   \n",
       "1      7242     2.0           0     0     ...        98125  47.7210 -122.319   \n",
       "2     10000     1.0           0     0     ...        98028  47.7379 -122.233   \n",
       "3      5000     1.0           0     0     ...        98136  47.5208 -122.393   \n",
       "4      8080     1.0           0     0     ...        98074  47.6168 -122.045   \n",
       "\n",
       "   sqft_living15  sqft_lot15  lat_group  long_group  \\\n",
       "0           1340        5650  47.516708    -122.253   \n",
       "1           1690        7639  47.716540    -122.309   \n",
       "2           2720        8062  47.738744    -122.225   \n",
       "3           1360        5000  47.516708    -122.393   \n",
       "4           1800        7503  47.616624    -122.057   \n",
       "\n",
       "                         lat+long_group  price_per_sqft  year_month  \n",
       "0  47.51670803571437,-122.2529999999999      188.050847      201410  \n",
       "1  47.71654017857156,-122.3089999999999      209.338521      201412  \n",
       "2  47.73874375000014,-122.2249999999999      233.766234      201502  \n",
       "3            47.51670803571437,-122.393      308.163265      201412  \n",
       "4  47.61662410714297,-122.0569999999999      303.571429      201502  \n",
       "\n",
       "[5 rows x 26 columns]"
      ]
     },
     "execution_count": 10,
     "metadata": {},
     "output_type": "execute_result"
    }
   ],
   "source": [
    "df['year_month'] = df['date'].str[0:6]\n",
    "df.head()"
   ]
  },
  {
   "cell_type": "code",
   "execution_count": 11,
   "metadata": {},
   "outputs": [
    {
     "data": {
      "text/html": [
       "<div>\n",
       "<style scoped>\n",
       "    .dataframe tbody tr th:only-of-type {\n",
       "        vertical-align: middle;\n",
       "    }\n",
       "\n",
       "    .dataframe tbody tr th {\n",
       "        vertical-align: top;\n",
       "    }\n",
       "\n",
       "    .dataframe thead th {\n",
       "        text-align: right;\n",
       "    }\n",
       "</style>\n",
       "<table border=\"1\" class=\"dataframe\">\n",
       "  <thead>\n",
       "    <tr style=\"text-align: right;\">\n",
       "      <th></th>\n",
       "      <th>year_month</th>\n",
       "      <th>id</th>\n",
       "    </tr>\n",
       "  </thead>\n",
       "  <tbody>\n",
       "    <tr>\n",
       "      <th>0</th>\n",
       "      <td>201405</td>\n",
       "      <td>1768</td>\n",
       "    </tr>\n",
       "    <tr>\n",
       "      <th>1</th>\n",
       "      <td>201406</td>\n",
       "      <td>2180</td>\n",
       "    </tr>\n",
       "    <tr>\n",
       "      <th>2</th>\n",
       "      <td>201407</td>\n",
       "      <td>2211</td>\n",
       "    </tr>\n",
       "    <tr>\n",
       "      <th>3</th>\n",
       "      <td>201408</td>\n",
       "      <td>1937</td>\n",
       "    </tr>\n",
       "    <tr>\n",
       "      <th>4</th>\n",
       "      <td>201409</td>\n",
       "      <td>1773</td>\n",
       "    </tr>\n",
       "  </tbody>\n",
       "</table>\n",
       "</div>"
      ],
      "text/plain": [
       "  year_month    id\n",
       "0     201405  1768\n",
       "1     201406  2180\n",
       "2     201407  2211\n",
       "3     201408  1937\n",
       "4     201409  1773"
      ]
     },
     "execution_count": 11,
     "metadata": {},
     "output_type": "execute_result"
    }
   ],
   "source": [
    "timegroup = df.groupby('year_month')\n",
    "timeframe = pd.DataFrame(timegroup.id.count().reset_index())\n",
    "timeframe.head()"
   ]
  },
  {
   "cell_type": "code",
   "execution_count": 12,
   "metadata": {},
   "outputs": [
    {
     "data": {
      "image/png": "[encoded data removed]",
      "text/plain": [
       "<matplotlib.figure.Figure at 0x10e2392e8>"
      ]
     },
     "metadata": {},
     "output_type": "display_data"
    }
   ],
   "source": [
    "plt.figure(figsize=(20,5))\n",
    "x = np.arange(0, len(timeframe), 1)\n",
    "plt.plot(x, timeframe['id'])\n",
    "plt.xticks(x, timeframe['year_month'])\n",
    "plt.title(\"Number of Property Sales in King County by Month\")\n",
    "plt.xlabel('Year, Month (YYYYMM)')\n",
    "plt.ylabel('Number of Property Sales in King County')\n",
    "plt.savefig('MonthSale.png')\n",
    "plt.show()"
   ]
  },
  {
   "cell_type": "markdown",
   "metadata": {},
   "source": [
    "### How did average price per square foot fluctuate over time?\n",
    "\n",
    "- Same analysis as above, but for price per square foot column:"
   ]
  },
  {
   "cell_type": "code",
   "execution_count": 13,
   "metadata": {},
   "outputs": [
    {
     "data": {
      "text/html": [
       "<div>\n",
       "<style scoped>\n",
       "    .dataframe tbody tr th:only-of-type {\n",
       "        vertical-align: middle;\n",
       "    }\n",
       "\n",
       "    .dataframe tbody tr th {\n",
       "        vertical-align: top;\n",
       "    }\n",
       "\n",
       "    .dataframe thead th {\n",
       "        text-align: right;\n",
       "    }\n",
       "</style>\n",
       "<table border=\"1\" class=\"dataframe\">\n",
       "  <thead>\n",
       "    <tr style=\"text-align: right;\">\n",
       "      <th></th>\n",
       "      <th>year_month</th>\n",
       "      <th>price_per_sqft</th>\n",
       "    </tr>\n",
       "  </thead>\n",
       "  <tbody>\n",
       "    <tr>\n",
       "      <th>0</th>\n",
       "      <td>201405</td>\n",
       "      <td>263.511893</td>\n",
       "    </tr>\n",
       "    <tr>\n",
       "      <th>1</th>\n",
       "      <td>201406</td>\n",
       "      <td>264.854879</td>\n",
       "    </tr>\n",
       "    <tr>\n",
       "      <th>2</th>\n",
       "      <td>201407</td>\n",
       "      <td>259.691581</td>\n",
       "    </tr>\n",
       "    <tr>\n",
       "      <th>3</th>\n",
       "      <td>201408</td>\n",
       "      <td>259.837879</td>\n",
       "    </tr>\n",
       "    <tr>\n",
       "      <th>4</th>\n",
       "      <td>201409</td>\n",
       "      <td>259.640026</td>\n",
       "    </tr>\n",
       "  </tbody>\n",
       "</table>\n",
       "</div>"
      ],
      "text/plain": [
       "  year_month  price_per_sqft\n",
       "0     201405      263.511893\n",
       "1     201406      264.854879\n",
       "2     201407      259.691581\n",
       "3     201408      259.837879\n",
       "4     201409      259.640026"
      ]
     },
     "execution_count": 13,
     "metadata": {},
     "output_type": "execute_result"
    }
   ],
   "source": [
    "timeframe2 = pd.DataFrame(timegroup['price_per_sqft'].mean().reset_index())\n",
    "timeframe2.head()"
   ]
  },
  {
   "cell_type": "code",
   "execution_count": 14,
   "metadata": {},
   "outputs": [
    {
     "data": {
      "image/png": "[encoded data removed]",
      "text/plain": [
       "<matplotlib.figure.Figure at 0x10ea658d0>"
      ]
     },
     "metadata": {},
     "output_type": "display_data"
    }
   ],
   "source": [
    "plt.figure(figsize=(20,5))\n",
    "x = np.arange(0, len(timeframe), 1)\n",
    "plt.plot(x, timeframe2['price_per_sqft'])\n",
    "plt.xticks(x, timeframe2['year_month'])\n",
    "plt.title(\"Average Price Per Square Foot in King County by Month\")\n",
    "plt.xlabel('Year, Month (YYYYMM)')\n",
    "plt.ylabel('Average Price Per Square Foot ($)')\n",
    "plt.savefig('MonthPPsqft.png')\n",
    "plt.show()"
   ]
  },
  {
   "cell_type": "markdown",
   "metadata": {},
   "source": [
    "### How many properties were sold in each \\$100,000 price range?\n",
    "\n",
    "- Bin home sale price, bin width of 100,000\n",
    "- Plot as histogram"
   ]
  },
  {
   "cell_type": "code",
   "execution_count": 15,
   "metadata": {},
   "outputs": [
    {
     "data": {
      "image/png": "[encoded data removed]",
      "text/plain": [
       "<matplotlib.figure.Figure at 0x10ec1e4e0>"
      ]
     },
     "metadata": {},
     "output_type": "display_data"
    }
   ],
   "source": [
    "bins = [0,\n",
    "        100000,\n",
    "        200000,\n",
    "        300000,\n",
    "        400000,\n",
    "        500000,\n",
    "        600000,\n",
    "        700000,\n",
    "        800000,\n",
    "        900000,\n",
    "       1000000,\n",
    "       1100000,\n",
    "       1200000,\n",
    "       1300000,\n",
    "       1400000,\n",
    "       1500000,\n",
    "       1600000,\n",
    "       1700000,\n",
    "       1800000,\n",
    "       1900000,\n",
    "       2000000,\n",
    "       2100000,\n",
    "       2200000,\n",
    "       2300000,\n",
    "       2400000,\n",
    "       2500000,\n",
    "       2600000,\n",
    "       2700000,\n",
    "       2800000,\n",
    "       2900000,\n",
    "       3000000]\n",
    "df2 = df.groupby(pd.cut(df['price'], bins=bins)).price.count()\n",
    "plt.figure(figsize=(15,7.5))\n",
    "df2.plot(kind='bar', width=1)\n",
    "plt.title('Distribution of Home Sale Prices')\n",
    "plt.xlabel('Price Bin')\n",
    "plt.ylabel('Number of Properties Sold')\n",
    "plt.savefig('DistPrice.png')\n",
    "plt.show()"
   ]
  },
  {
   "cell_type": "markdown",
   "metadata": {},
   "source": [
    "### Which bedroom amount has the highest price per square foot?\n",
    "- Group the dataframe on number of bedrooms\n",
    "- return the mean price per square foot for each bedroom amount\n",
    "- bar chart it"
   ]
  },
  {
   "cell_type": "code",
   "execution_count": 16,
   "metadata": {},
   "outputs": [
    {
     "data": {
      "image/png": "[encoded data removed]",
      "text/plain": [
       "<matplotlib.figure.Figure at 0x10ec2e4e0>"
      ]
     },
     "metadata": {},
     "output_type": "display_data"
    }
   ],
   "source": [
    "bedgroup = df.groupby('bedrooms')\n",
    "df3 = bedgroup['price_per_sqft'].mean()\n",
    "plt.figure(figsize=(15,7.5))\n",
    "df3.plot(kind='bar')\n",
    "plt.title('Mean Price Per Sqft vs. Number of Bedrooms')\n",
    "plt.xlabel('Number of Bedrooms')\n",
    "plt.ylabel('Average Price Per Sqft')\n",
    "plt.savefig('DistBed.png')\n",
    "plt.show()"
   ]
  },
  {
   "cell_type": "markdown",
   "metadata": {},
   "source": [
    "### Where does the premium on newness stop?\n",
    "#### That is, how does year built (or renovated) correlate with both price and price per sqft?\n",
    "- Create a new calculated column for age of house\n",
    "    - If the house is renovated, we will take that as the built year instead.\n",
    "- Plot a line chart with price per square foot vs. age"
   ]
  },
  {
   "cell_type": "code",
   "execution_count": 17,
   "metadata": {},
   "outputs": [
    {
     "data": {
      "text/html": [
       "<div>\n",
       "<style scoped>\n",
       "    .dataframe tbody tr th:only-of-type {\n",
       "        vertical-align: middle;\n",
       "    }\n",
       "\n",
       "    .dataframe tbody tr th {\n",
       "        vertical-align: top;\n",
       "    }\n",
       "\n",
       "    .dataframe thead th {\n",
       "        text-align: right;\n",
       "    }\n",
       "</style>\n",
       "<table border=\"1\" class=\"dataframe\">\n",
       "  <thead>\n",
       "    <tr style=\"text-align: right;\">\n",
       "      <th></th>\n",
       "      <th>age</th>\n",
       "    </tr>\n",
       "  </thead>\n",
       "  <tbody>\n",
       "  </tbody>\n",
       "</table>\n",
       "</div>"
      ],
      "text/plain": [
       "Empty DataFrame\n",
       "Columns: [age]\n",
       "Index: []"
      ]
     },
     "execution_count": 17,
     "metadata": {},
     "output_type": "execute_result"
    }
   ],
   "source": [
    "df4 = pd.DataFrame()\n",
    "df4['age'] = ''\n",
    "df4.head()"
   ]
  },
  {
   "cell_type": "code",
   "execution_count": 18,
   "metadata": {},
   "outputs": [
    {
     "name": "stderr",
     "output_type": "stream",
     "text": [
      "/anaconda/lib/python3.6/site-packages/ipykernel_launcher.py:8: FutureWarning: set_value is deprecated and will be removed in a future release. Please use .at[] or .iat[] accessors instead\n",
      "  \n"
     ]
    }
   ],
   "source": [
    "for index, row in df.iterrows():\n",
    "    if row['yr_renovated'] != 0:\n",
    "        year = row['yr_renovated']\n",
    "    else:\n",
    "        year = row['yr_built']\n",
    "    now = int(row['date'][0:4])\n",
    "    age = int(now - year)\n",
    "    df4.set_value(index, 'age', age)"
   ]
  },
  {
   "cell_type": "code",
   "execution_count": 19,
   "metadata": {},
   "outputs": [
    {
     "data": {
      "text/html": [
       "<div>\n",
       "<style scoped>\n",
       "    .dataframe tbody tr th:only-of-type {\n",
       "        vertical-align: middle;\n",
       "    }\n",
       "\n",
       "    .dataframe tbody tr th {\n",
       "        vertical-align: top;\n",
       "    }\n",
       "\n",
       "    .dataframe thead th {\n",
       "        text-align: right;\n",
       "    }\n",
       "</style>\n",
       "<table border=\"1\" class=\"dataframe\">\n",
       "  <thead>\n",
       "    <tr style=\"text-align: right;\">\n",
       "      <th></th>\n",
       "      <th>age</th>\n",
       "    </tr>\n",
       "  </thead>\n",
       "  <tbody>\n",
       "    <tr>\n",
       "      <th>0</th>\n",
       "      <td>59.0</td>\n",
       "    </tr>\n",
       "    <tr>\n",
       "      <th>1</th>\n",
       "      <td>23.0</td>\n",
       "    </tr>\n",
       "    <tr>\n",
       "      <th>2</th>\n",
       "      <td>82.0</td>\n",
       "    </tr>\n",
       "    <tr>\n",
       "      <th>3</th>\n",
       "      <td>49.0</td>\n",
       "    </tr>\n",
       "    <tr>\n",
       "      <th>4</th>\n",
       "      <td>28.0</td>\n",
       "    </tr>\n",
       "  </tbody>\n",
       "</table>\n",
       "</div>"
      ],
      "text/plain": [
       "    age\n",
       "0  59.0\n",
       "1  23.0\n",
       "2  82.0\n",
       "3  49.0\n",
       "4  28.0"
      ]
     },
     "execution_count": 19,
     "metadata": {},
     "output_type": "execute_result"
    }
   ],
   "source": [
    "df4.head()"
   ]
  },
  {
   "cell_type": "code",
   "execution_count": 20,
   "metadata": {},
   "outputs": [
    {
     "data": {
      "text/html": [
       "<div>\n",
       "<style scoped>\n",
       "    .dataframe tbody tr th:only-of-type {\n",
       "        vertical-align: middle;\n",
       "    }\n",
       "\n",
       "    .dataframe tbody tr th {\n",
       "        vertical-align: top;\n",
       "    }\n",
       "\n",
       "    .dataframe thead th {\n",
       "        text-align: right;\n",
       "    }\n",
       "</style>\n",
       "<table border=\"1\" class=\"dataframe\">\n",
       "  <thead>\n",
       "    <tr style=\"text-align: right;\">\n",
       "      <th></th>\n",
       "      <th>id</th>\n",
       "      <th>date</th>\n",
       "      <th>price</th>\n",
       "      <th>bedrooms</th>\n",
       "      <th>bathrooms</th>\n",
       "      <th>sqft_living</th>\n",
       "      <th>sqft_lot</th>\n",
       "      <th>floors</th>\n",
       "      <th>waterfront</th>\n",
       "      <th>view</th>\n",
       "      <th>...</th>\n",
       "      <th>lat</th>\n",
       "      <th>long</th>\n",
       "      <th>sqft_living15</th>\n",
       "      <th>sqft_lot15</th>\n",
       "      <th>lat_group</th>\n",
       "      <th>long_group</th>\n",
       "      <th>lat+long_group</th>\n",
       "      <th>price_per_sqft</th>\n",
       "      <th>year_month</th>\n",
       "      <th>age</th>\n",
       "    </tr>\n",
       "  </thead>\n",
       "  <tbody>\n",
       "    <tr>\n",
       "      <th>0</th>\n",
       "      <td>7129300520</td>\n",
       "      <td>20141013T000000</td>\n",
       "      <td>221900</td>\n",
       "      <td>3</td>\n",
       "      <td>1.00</td>\n",
       "      <td>1180</td>\n",
       "      <td>5650</td>\n",
       "      <td>1.0</td>\n",
       "      <td>0</td>\n",
       "      <td>0</td>\n",
       "      <td>...</td>\n",
       "      <td>47.5112</td>\n",
       "      <td>-122.257</td>\n",
       "      <td>1340</td>\n",
       "      <td>5650</td>\n",
       "      <td>47.516708</td>\n",
       "      <td>-122.253</td>\n",
       "      <td>47.51670803571437,-122.2529999999999</td>\n",
       "      <td>188.050847</td>\n",
       "      <td>201410</td>\n",
       "      <td>59.0</td>\n",
       "    </tr>\n",
       "    <tr>\n",
       "      <th>1</th>\n",
       "      <td>6414100192</td>\n",
       "      <td>20141209T000000</td>\n",
       "      <td>538000</td>\n",
       "      <td>3</td>\n",
       "      <td>2.25</td>\n",
       "      <td>2570</td>\n",
       "      <td>7242</td>\n",
       "      <td>2.0</td>\n",
       "      <td>0</td>\n",
       "      <td>0</td>\n",
       "      <td>...</td>\n",
       "      <td>47.7210</td>\n",
       "      <td>-122.319</td>\n",
       "      <td>1690</td>\n",
       "      <td>7639</td>\n",
       "      <td>47.716540</td>\n",
       "      <td>-122.309</td>\n",
       "      <td>47.71654017857156,-122.3089999999999</td>\n",
       "      <td>209.338521</td>\n",
       "      <td>201412</td>\n",
       "      <td>23.0</td>\n",
       "    </tr>\n",
       "    <tr>\n",
       "      <th>2</th>\n",
       "      <td>5631500400</td>\n",
       "      <td>20150225T000000</td>\n",
       "      <td>180000</td>\n",
       "      <td>2</td>\n",
       "      <td>1.00</td>\n",
       "      <td>770</td>\n",
       "      <td>10000</td>\n",
       "      <td>1.0</td>\n",
       "      <td>0</td>\n",
       "      <td>0</td>\n",
       "      <td>...</td>\n",
       "      <td>47.7379</td>\n",
       "      <td>-122.233</td>\n",
       "      <td>2720</td>\n",
       "      <td>8062</td>\n",
       "      <td>47.738744</td>\n",
       "      <td>-122.225</td>\n",
       "      <td>47.73874375000014,-122.2249999999999</td>\n",
       "      <td>233.766234</td>\n",
       "      <td>201502</td>\n",
       "      <td>82.0</td>\n",
       "    </tr>\n",
       "    <tr>\n",
       "      <th>3</th>\n",
       "      <td>2487200875</td>\n",
       "      <td>20141209T000000</td>\n",
       "      <td>604000</td>\n",
       "      <td>4</td>\n",
       "      <td>3.00</td>\n",
       "      <td>1960</td>\n",
       "      <td>5000</td>\n",
       "      <td>1.0</td>\n",
       "      <td>0</td>\n",
       "      <td>0</td>\n",
       "      <td>...</td>\n",
       "      <td>47.5208</td>\n",
       "      <td>-122.393</td>\n",
       "      <td>1360</td>\n",
       "      <td>5000</td>\n",
       "      <td>47.516708</td>\n",
       "      <td>-122.393</td>\n",
       "      <td>47.51670803571437,-122.393</td>\n",
       "      <td>308.163265</td>\n",
       "      <td>201412</td>\n",
       "      <td>49.0</td>\n",
       "    </tr>\n",
       "    <tr>\n",
       "      <th>4</th>\n",
       "      <td>1954400510</td>\n",
       "      <td>20150218T000000</td>\n",
       "      <td>510000</td>\n",
       "      <td>3</td>\n",
       "      <td>2.00</td>\n",
       "      <td>1680</td>\n",
       "      <td>8080</td>\n",
       "      <td>1.0</td>\n",
       "      <td>0</td>\n",
       "      <td>0</td>\n",
       "      <td>...</td>\n",
       "      <td>47.6168</td>\n",
       "      <td>-122.045</td>\n",
       "      <td>1800</td>\n",
       "      <td>7503</td>\n",
       "      <td>47.616624</td>\n",
       "      <td>-122.057</td>\n",
       "      <td>47.61662410714297,-122.0569999999999</td>\n",
       "      <td>303.571429</td>\n",
       "      <td>201502</td>\n",
       "      <td>28.0</td>\n",
       "    </tr>\n",
       "  </tbody>\n",
       "</table>\n",
       "<p>5 rows × 27 columns</p>\n",
       "</div>"
      ],
      "text/plain": [
       "           id             date   price  bedrooms  bathrooms  sqft_living  \\\n",
       "0  7129300520  20141013T000000  221900         3       1.00         1180   \n",
       "1  6414100192  20141209T000000  538000         3       2.25         2570   \n",
       "2  5631500400  20150225T000000  180000         2       1.00          770   \n",
       "3  2487200875  20141209T000000  604000         4       3.00         1960   \n",
       "4  1954400510  20150218T000000  510000         3       2.00         1680   \n",
       "\n",
       "   sqft_lot  floors  waterfront  view  ...       lat     long  sqft_living15  \\\n",
       "0      5650     1.0           0     0  ...   47.5112 -122.257           1340   \n",
       "1      7242     2.0           0     0  ...   47.7210 -122.319           1690   \n",
       "2     10000     1.0           0     0  ...   47.7379 -122.233           2720   \n",
       "3      5000     1.0           0     0  ...   47.5208 -122.393           1360   \n",
       "4      8080     1.0           0     0  ...   47.6168 -122.045           1800   \n",
       "\n",
       "   sqft_lot15  lat_group  long_group                        lat+long_group  \\\n",
       "0        5650  47.516708    -122.253  47.51670803571437,-122.2529999999999   \n",
       "1        7639  47.716540    -122.309  47.71654017857156,-122.3089999999999   \n",
       "2        8062  47.738744    -122.225  47.73874375000014,-122.2249999999999   \n",
       "3        5000  47.516708    -122.393            47.51670803571437,-122.393   \n",
       "4        7503  47.616624    -122.057  47.61662410714297,-122.0569999999999   \n",
       "\n",
       "   price_per_sqft  year_month   age  \n",
       "0      188.050847      201410  59.0  \n",
       "1      209.338521      201412  23.0  \n",
       "2      233.766234      201502  82.0  \n",
       "3      308.163265      201412  49.0  \n",
       "4      303.571429      201502  28.0  \n",
       "\n",
       "[5 rows x 27 columns]"
      ]
     },
     "execution_count": 20,
     "metadata": {},
     "output_type": "execute_result"
    }
   ],
   "source": [
    "df5 = df.join(df4['age'], how='outer')\n",
    "df5.head()"
   ]
  },
  {
   "cell_type": "code",
   "execution_count": 117,
   "metadata": {},
   "outputs": [],
   "source": [
    "age_group = df5.groupby('age')\n",
    "df6 = pd.DataFrame(age_group['price'].mean().reset_index())"
   ]
  },
  {
   "cell_type": "code",
   "execution_count": 118,
   "metadata": {},
   "outputs": [
    {
     "data": {
      "text/html": [
       "<div>\n",
       "<style scoped>\n",
       "    .dataframe tbody tr th:only-of-type {\n",
       "        vertical-align: middle;\n",
       "    }\n",
       "\n",
       "    .dataframe tbody tr th {\n",
       "        vertical-align: top;\n",
       "    }\n",
       "\n",
       "    .dataframe thead th {\n",
       "        text-align: right;\n",
       "    }\n",
       "</style>\n",
       "<table border=\"1\" class=\"dataframe\">\n",
       "  <thead>\n",
       "    <tr style=\"text-align: right;\">\n",
       "      <th></th>\n",
       "      <th>age</th>\n",
       "      <th>price</th>\n",
       "    </tr>\n",
       "  </thead>\n",
       "  <tbody>\n",
       "    <tr>\n",
       "      <th>0</th>\n",
       "      <td>-1.0</td>\n",
       "      <td>522989.222222</td>\n",
       "    </tr>\n",
       "    <tr>\n",
       "      <th>1</th>\n",
       "      <td>0.0</td>\n",
       "      <td>685312.874031</td>\n",
       "    </tr>\n",
       "    <tr>\n",
       "      <th>2</th>\n",
       "      <td>1.0</td>\n",
       "      <td>684327.530303</td>\n",
       "    </tr>\n",
       "    <tr>\n",
       "      <th>3</th>\n",
       "      <td>2.0</td>\n",
       "      <td>592684.260638</td>\n",
       "    </tr>\n",
       "    <tr>\n",
       "      <th>4</th>\n",
       "      <td>3.0</td>\n",
       "      <td>555586.802260</td>\n",
       "    </tr>\n",
       "  </tbody>\n",
       "</table>\n",
       "</div>"
      ],
      "text/plain": [
       "   age          price\n",
       "0 -1.0  522989.222222\n",
       "1  0.0  685312.874031\n",
       "2  1.0  684327.530303\n",
       "3  2.0  592684.260638\n",
       "4  3.0  555586.802260"
      ]
     },
     "execution_count": 118,
     "metadata": {},
     "output_type": "execute_result"
    }
   ],
   "source": [
    "df6.head()"
   ]
  },
  {
   "cell_type": "code",
   "execution_count": 119,
   "metadata": {},
   "outputs": [
    {
     "data": {
      "text/plain": [
       "115.0"
      ]
     },
     "execution_count": 119,
     "metadata": {},
     "output_type": "execute_result"
    }
   ],
   "source": [
    "df5['age'].max()"
   ]
  },
  {
   "cell_type": "code",
   "execution_count": 138,
   "metadata": {},
   "outputs": [],
   "source": [
    "fig_size = plt.rcParams[\"figure.figsize\"]\n",
    "fig_size[0] = 24.15\n",
    "fig_size[1] = 4.5\n",
    "plt.rcParams[\"figure.figsize\"] = fig_size"
   ]
  },
  {
   "cell_type": "code",
   "execution_count": 139,
   "metadata": {},
   "outputs": [
    {
     "data": {
      "text/html": [
       "<div>\n",
       "<style scoped>\n",
       "    .dataframe tbody tr th:only-of-type {\n",
       "        vertical-align: middle;\n",
       "    }\n",
       "\n",
       "    .dataframe tbody tr th {\n",
       "        vertical-align: top;\n",
       "    }\n",
       "\n",
       "    .dataframe thead th {\n",
       "        text-align: right;\n",
       "    }\n",
       "</style>\n",
       "<table border=\"1\" class=\"dataframe\">\n",
       "  <thead>\n",
       "    <tr style=\"text-align: right;\">\n",
       "      <th></th>\n",
       "      <th>age</th>\n",
       "      <th>price</th>\n",
       "    </tr>\n",
       "  </thead>\n",
       "  <tbody>\n",
       "    <tr>\n",
       "      <th>0</th>\n",
       "      <td>-1.0</td>\n",
       "      <td>522989.222222</td>\n",
       "    </tr>\n",
       "    <tr>\n",
       "      <th>1</th>\n",
       "      <td>0.0</td>\n",
       "      <td>685312.874031</td>\n",
       "    </tr>\n",
       "    <tr>\n",
       "      <th>2</th>\n",
       "      <td>1.0</td>\n",
       "      <td>684327.530303</td>\n",
       "    </tr>\n",
       "    <tr>\n",
       "      <th>3</th>\n",
       "      <td>2.0</td>\n",
       "      <td>592684.260638</td>\n",
       "    </tr>\n",
       "    <tr>\n",
       "      <th>4</th>\n",
       "      <td>3.0</td>\n",
       "      <td>555586.802260</td>\n",
       "    </tr>\n",
       "  </tbody>\n",
       "</table>\n",
       "</div>"
      ],
      "text/plain": [
       "   age          price\n",
       "0 -1.0  522989.222222\n",
       "1  0.0  685312.874031\n",
       "2  1.0  684327.530303\n",
       "3  2.0  592684.260638\n",
       "4  3.0  555586.802260"
      ]
     },
     "execution_count": 139,
     "metadata": {},
     "output_type": "execute_result"
    }
   ],
   "source": [
    "df6.head()"
   ]
  },
  {
   "cell_type": "code",
   "execution_count": 140,
   "metadata": {},
   "outputs": [
    {
     "data": {
      "image/png": "[encoded data removed]",
      "text/plain": [
       "<matplotlib.figure.Figure at 0x1a1f08be80>"
      ]
     },
     "metadata": {},
     "output_type": "display_data"
    }
   ],
   "source": [
    "\n",
    "df6['price'].plot(kind='bar', color='steelblue')\n",
    "plt.title('Age of Property vs. Average Price')\n",
    "plt.xlabel('Age of Property')\n",
    "plt.ylabel('Average Price ')\n",
    "plt.tight_layout()\n",
    "plt.savefig('AgePrice.png')\n",
    "plt.show()"
   ]
  },
  {
   "cell_type": "markdown",
   "metadata": {},
   "source": [
    "#### Same analysis, but with price per square feet instead of price:"
   ]
  },
  {
   "cell_type": "code",
   "execution_count": 141,
   "metadata": {},
   "outputs": [],
   "source": [
    "df7 = pd.DataFrame(age_group['price_per_sqft'].mean().reset_index())"
   ]
  },
  {
   "cell_type": "code",
   "execution_count": 142,
   "metadata": {},
   "outputs": [
    {
     "data": {
      "image/png": "[encoded data removed]",
      "text/plain": [
       "<matplotlib.figure.Figure at 0x1a1eea3630>"
      ]
     },
     "metadata": {},
     "output_type": "display_data"
    }
   ],
   "source": [
    "df7['price_per_sqft'].plot(kind='bar', color='steelblue')\n",
    "plt.title('Age of Property vs. Average Price per Sqft')\n",
    "plt.xlabel('Age of Property')\n",
    "plt.ylabel('Average Price per Sqft')\n",
    "plt.tight_layout()\n",
    "plt.savefig('AgePPsqft.png')\n",
    "plt.show()"
   ]
  },
  {
   "cell_type": "markdown",
   "metadata": {},
   "source": [
    "### Of the homes that were above vs. below the median price per sqft for their area, what were their characteristics?\n",
    "- iterate through dataframe, test if property ppsqft is above or below area median\n",
    "    - assign 'above' or 'below'\n",
    "- plot bar graph of:\n",
    "    - mean waterfront\n",
    "    - mean grade\n",
    "    - mean bedrooms\n",
    "    - mean condition\n",
    "    - mean views\n",
    "    - total sqft\n",
    "    "
   ]
  },
  {
   "cell_type": "code",
   "execution_count": 28,
   "metadata": {},
   "outputs": [
    {
     "data": {
      "text/html": [
       "<div>\n",
       "<style scoped>\n",
       "    .dataframe tbody tr th:only-of-type {\n",
       "        vertical-align: middle;\n",
       "    }\n",
       "\n",
       "    .dataframe tbody tr th {\n",
       "        vertical-align: top;\n",
       "    }\n",
       "\n",
       "    .dataframe thead th {\n",
       "        text-align: right;\n",
       "    }\n",
       "</style>\n",
       "<table border=\"1\" class=\"dataframe\">\n",
       "  <thead>\n",
       "    <tr style=\"text-align: right;\">\n",
       "      <th></th>\n",
       "      <th>id</th>\n",
       "      <th>date</th>\n",
       "      <th>price</th>\n",
       "      <th>bedrooms</th>\n",
       "      <th>bathrooms</th>\n",
       "      <th>sqft_living</th>\n",
       "      <th>sqft_lot</th>\n",
       "      <th>floors</th>\n",
       "      <th>waterfront</th>\n",
       "      <th>view</th>\n",
       "      <th>...</th>\n",
       "      <th>zipcode</th>\n",
       "      <th>lat</th>\n",
       "      <th>long</th>\n",
       "      <th>sqft_living15</th>\n",
       "      <th>sqft_lot15</th>\n",
       "      <th>lat_group</th>\n",
       "      <th>long_group</th>\n",
       "      <th>lat+long_group</th>\n",
       "      <th>price_per_sqft</th>\n",
       "      <th>year_month</th>\n",
       "    </tr>\n",
       "  </thead>\n",
       "  <tbody>\n",
       "    <tr>\n",
       "      <th>0</th>\n",
       "      <td>7129300520</td>\n",
       "      <td>20141013T000000</td>\n",
       "      <td>221900</td>\n",
       "      <td>3</td>\n",
       "      <td>1.00</td>\n",
       "      <td>1180</td>\n",
       "      <td>5650</td>\n",
       "      <td>1.0</td>\n",
       "      <td>0</td>\n",
       "      <td>0</td>\n",
       "      <td>...</td>\n",
       "      <td>98178</td>\n",
       "      <td>47.5112</td>\n",
       "      <td>-122.257</td>\n",
       "      <td>1340</td>\n",
       "      <td>5650</td>\n",
       "      <td>47.516708</td>\n",
       "      <td>-122.253</td>\n",
       "      <td>47.51670803571437,-122.2529999999999</td>\n",
       "      <td>188.050847</td>\n",
       "      <td>201410</td>\n",
       "    </tr>\n",
       "    <tr>\n",
       "      <th>1</th>\n",
       "      <td>6414100192</td>\n",
       "      <td>20141209T000000</td>\n",
       "      <td>538000</td>\n",
       "      <td>3</td>\n",
       "      <td>2.25</td>\n",
       "      <td>2570</td>\n",
       "      <td>7242</td>\n",
       "      <td>2.0</td>\n",
       "      <td>0</td>\n",
       "      <td>0</td>\n",
       "      <td>...</td>\n",
       "      <td>98125</td>\n",
       "      <td>47.7210</td>\n",
       "      <td>-122.319</td>\n",
       "      <td>1690</td>\n",
       "      <td>7639</td>\n",
       "      <td>47.716540</td>\n",
       "      <td>-122.309</td>\n",
       "      <td>47.71654017857156,-122.3089999999999</td>\n",
       "      <td>209.338521</td>\n",
       "      <td>201412</td>\n",
       "    </tr>\n",
       "    <tr>\n",
       "      <th>2</th>\n",
       "      <td>5631500400</td>\n",
       "      <td>20150225T000000</td>\n",
       "      <td>180000</td>\n",
       "      <td>2</td>\n",
       "      <td>1.00</td>\n",
       "      <td>770</td>\n",
       "      <td>10000</td>\n",
       "      <td>1.0</td>\n",
       "      <td>0</td>\n",
       "      <td>0</td>\n",
       "      <td>...</td>\n",
       "      <td>98028</td>\n",
       "      <td>47.7379</td>\n",
       "      <td>-122.233</td>\n",
       "      <td>2720</td>\n",
       "      <td>8062</td>\n",
       "      <td>47.738744</td>\n",
       "      <td>-122.225</td>\n",
       "      <td>47.73874375000014,-122.2249999999999</td>\n",
       "      <td>233.766234</td>\n",
       "      <td>201502</td>\n",
       "    </tr>\n",
       "    <tr>\n",
       "      <th>3</th>\n",
       "      <td>2487200875</td>\n",
       "      <td>20141209T000000</td>\n",
       "      <td>604000</td>\n",
       "      <td>4</td>\n",
       "      <td>3.00</td>\n",
       "      <td>1960</td>\n",
       "      <td>5000</td>\n",
       "      <td>1.0</td>\n",
       "      <td>0</td>\n",
       "      <td>0</td>\n",
       "      <td>...</td>\n",
       "      <td>98136</td>\n",
       "      <td>47.5208</td>\n",
       "      <td>-122.393</td>\n",
       "      <td>1360</td>\n",
       "      <td>5000</td>\n",
       "      <td>47.516708</td>\n",
       "      <td>-122.393</td>\n",
       "      <td>47.51670803571437,-122.393</td>\n",
       "      <td>308.163265</td>\n",
       "      <td>201412</td>\n",
       "    </tr>\n",
       "    <tr>\n",
       "      <th>4</th>\n",
       "      <td>1954400510</td>\n",
       "      <td>20150218T000000</td>\n",
       "      <td>510000</td>\n",
       "      <td>3</td>\n",
       "      <td>2.00</td>\n",
       "      <td>1680</td>\n",
       "      <td>8080</td>\n",
       "      <td>1.0</td>\n",
       "      <td>0</td>\n",
       "      <td>0</td>\n",
       "      <td>...</td>\n",
       "      <td>98074</td>\n",
       "      <td>47.6168</td>\n",
       "      <td>-122.045</td>\n",
       "      <td>1800</td>\n",
       "      <td>7503</td>\n",
       "      <td>47.616624</td>\n",
       "      <td>-122.057</td>\n",
       "      <td>47.61662410714297,-122.0569999999999</td>\n",
       "      <td>303.571429</td>\n",
       "      <td>201502</td>\n",
       "    </tr>\n",
       "  </tbody>\n",
       "</table>\n",
       "<p>5 rows × 26 columns</p>\n",
       "</div>"
      ],
      "text/plain": [
       "           id             date   price  bedrooms  bathrooms  sqft_living  \\\n",
       "0  7129300520  20141013T000000  221900         3       1.00         1180   \n",
       "1  6414100192  20141209T000000  538000         3       2.25         2570   \n",
       "2  5631500400  20150225T000000  180000         2       1.00          770   \n",
       "3  2487200875  20141209T000000  604000         4       3.00         1960   \n",
       "4  1954400510  20150218T000000  510000         3       2.00         1680   \n",
       "\n",
       "   sqft_lot  floors  waterfront  view     ...      zipcode      lat     long  \\\n",
       "0      5650     1.0           0     0     ...        98178  47.5112 -122.257   \n",
       "1      7242     2.0           0     0     ...        98125  47.7210 -122.319   \n",
       "2     10000     1.0           0     0     ...        98028  47.7379 -122.233   \n",
       "3      5000     1.0           0     0     ...        98136  47.5208 -122.393   \n",
       "4      8080     1.0           0     0     ...        98074  47.6168 -122.045   \n",
       "\n",
       "   sqft_living15  sqft_lot15  lat_group  long_group  \\\n",
       "0           1340        5650  47.516708    -122.253   \n",
       "1           1690        7639  47.716540    -122.309   \n",
       "2           2720        8062  47.738744    -122.225   \n",
       "3           1360        5000  47.516708    -122.393   \n",
       "4           1800        7503  47.616624    -122.057   \n",
       "\n",
       "                         lat+long_group  price_per_sqft  year_month  \n",
       "0  47.51670803571437,-122.2529999999999      188.050847      201410  \n",
       "1  47.71654017857156,-122.3089999999999      209.338521      201412  \n",
       "2  47.73874375000014,-122.2249999999999      233.766234      201502  \n",
       "3            47.51670803571437,-122.393      308.163265      201412  \n",
       "4  47.61662410714297,-122.0569999999999      303.571429      201502  \n",
       "\n",
       "[5 rows x 26 columns]"
      ]
     },
     "execution_count": 28,
     "metadata": {},
     "output_type": "execute_result"
    }
   ],
   "source": [
    "df.head()"
   ]
  },
  {
   "cell_type": "markdown",
   "metadata": {},
   "source": [
    "#### Add a column of unique lat, long pairs to give a unique identifier for each area"
   ]
  },
  {
   "cell_type": "code",
   "execution_count": 29,
   "metadata": {},
   "outputs": [
    {
     "name": "stderr",
     "output_type": "stream",
     "text": [
      "/anaconda/lib/python3.6/site-packages/ipykernel_launcher.py:5: FutureWarning: set_value is deprecated and will be removed in a future release. Please use .at[] or .iat[] accessors instead\n",
      "  \"\"\"\n"
     ]
    },
    {
     "data": {
      "text/html": [
       "<div>\n",
       "<style scoped>\n",
       "    .dataframe tbody tr th:only-of-type {\n",
       "        vertical-align: middle;\n",
       "    }\n",
       "\n",
       "    .dataframe tbody tr th {\n",
       "        vertical-align: top;\n",
       "    }\n",
       "\n",
       "    .dataframe thead th {\n",
       "        text-align: right;\n",
       "    }\n",
       "</style>\n",
       "<table border=\"1\" class=\"dataframe\">\n",
       "  <thead>\n",
       "    <tr style=\"text-align: right;\">\n",
       "      <th></th>\n",
       "      <th>id</th>\n",
       "      <th>date</th>\n",
       "      <th>price</th>\n",
       "      <th>bedrooms</th>\n",
       "      <th>bathrooms</th>\n",
       "      <th>sqft_living</th>\n",
       "      <th>sqft_lot</th>\n",
       "      <th>floors</th>\n",
       "      <th>waterfront</th>\n",
       "      <th>view</th>\n",
       "      <th>...</th>\n",
       "      <th>zipcode</th>\n",
       "      <th>lat</th>\n",
       "      <th>long</th>\n",
       "      <th>sqft_living15</th>\n",
       "      <th>sqft_lot15</th>\n",
       "      <th>lat_group</th>\n",
       "      <th>long_group</th>\n",
       "      <th>lat+long_group</th>\n",
       "      <th>price_per_sqft</th>\n",
       "      <th>year_month</th>\n",
       "    </tr>\n",
       "  </thead>\n",
       "  <tbody>\n",
       "    <tr>\n",
       "      <th>0</th>\n",
       "      <td>7129300520</td>\n",
       "      <td>20141013T000000</td>\n",
       "      <td>221900</td>\n",
       "      <td>3</td>\n",
       "      <td>1.00</td>\n",
       "      <td>1180</td>\n",
       "      <td>5650</td>\n",
       "      <td>1.0</td>\n",
       "      <td>0</td>\n",
       "      <td>0</td>\n",
       "      <td>...</td>\n",
       "      <td>98178</td>\n",
       "      <td>47.5112</td>\n",
       "      <td>-122.257</td>\n",
       "      <td>1340</td>\n",
       "      <td>5650</td>\n",
       "      <td>47.516708</td>\n",
       "      <td>-122.253</td>\n",
       "      <td>47.516708035714366,-122.2529999999999</td>\n",
       "      <td>188.050847</td>\n",
       "      <td>201410</td>\n",
       "    </tr>\n",
       "    <tr>\n",
       "      <th>1</th>\n",
       "      <td>6414100192</td>\n",
       "      <td>20141209T000000</td>\n",
       "      <td>538000</td>\n",
       "      <td>3</td>\n",
       "      <td>2.25</td>\n",
       "      <td>2570</td>\n",
       "      <td>7242</td>\n",
       "      <td>2.0</td>\n",
       "      <td>0</td>\n",
       "      <td>0</td>\n",
       "      <td>...</td>\n",
       "      <td>98125</td>\n",
       "      <td>47.7210</td>\n",
       "      <td>-122.319</td>\n",
       "      <td>1690</td>\n",
       "      <td>7639</td>\n",
       "      <td>47.716540</td>\n",
       "      <td>-122.309</td>\n",
       "      <td>47.716540178571556,-122.3089999999999</td>\n",
       "      <td>209.338521</td>\n",
       "      <td>201412</td>\n",
       "    </tr>\n",
       "    <tr>\n",
       "      <th>2</th>\n",
       "      <td>5631500400</td>\n",
       "      <td>20150225T000000</td>\n",
       "      <td>180000</td>\n",
       "      <td>2</td>\n",
       "      <td>1.00</td>\n",
       "      <td>770</td>\n",
       "      <td>10000</td>\n",
       "      <td>1.0</td>\n",
       "      <td>0</td>\n",
       "      <td>0</td>\n",
       "      <td>...</td>\n",
       "      <td>98028</td>\n",
       "      <td>47.7379</td>\n",
       "      <td>-122.233</td>\n",
       "      <td>2720</td>\n",
       "      <td>8062</td>\n",
       "      <td>47.738744</td>\n",
       "      <td>-122.225</td>\n",
       "      <td>47.73874375000014,-122.22499999999991</td>\n",
       "      <td>233.766234</td>\n",
       "      <td>201502</td>\n",
       "    </tr>\n",
       "    <tr>\n",
       "      <th>3</th>\n",
       "      <td>2487200875</td>\n",
       "      <td>20141209T000000</td>\n",
       "      <td>604000</td>\n",
       "      <td>4</td>\n",
       "      <td>3.00</td>\n",
       "      <td>1960</td>\n",
       "      <td>5000</td>\n",
       "      <td>1.0</td>\n",
       "      <td>0</td>\n",
       "      <td>0</td>\n",
       "      <td>...</td>\n",
       "      <td>98136</td>\n",
       "      <td>47.5208</td>\n",
       "      <td>-122.393</td>\n",
       "      <td>1360</td>\n",
       "      <td>5000</td>\n",
       "      <td>47.516708</td>\n",
       "      <td>-122.393</td>\n",
       "      <td>47.516708035714366,-122.39299999999999</td>\n",
       "      <td>308.163265</td>\n",
       "      <td>201412</td>\n",
       "    </tr>\n",
       "    <tr>\n",
       "      <th>4</th>\n",
       "      <td>1954400510</td>\n",
       "      <td>20150218T000000</td>\n",
       "      <td>510000</td>\n",
       "      <td>3</td>\n",
       "      <td>2.00</td>\n",
       "      <td>1680</td>\n",
       "      <td>8080</td>\n",
       "      <td>1.0</td>\n",
       "      <td>0</td>\n",
       "      <td>0</td>\n",
       "      <td>...</td>\n",
       "      <td>98074</td>\n",
       "      <td>47.6168</td>\n",
       "      <td>-122.045</td>\n",
       "      <td>1800</td>\n",
       "      <td>7503</td>\n",
       "      <td>47.616624</td>\n",
       "      <td>-122.057</td>\n",
       "      <td>47.616624107142975,-122.0569999999999</td>\n",
       "      <td>303.571429</td>\n",
       "      <td>201502</td>\n",
       "    </tr>\n",
       "  </tbody>\n",
       "</table>\n",
       "<p>5 rows × 26 columns</p>\n",
       "</div>"
      ],
      "text/plain": [
       "           id             date   price  bedrooms  bathrooms  sqft_living  \\\n",
       "0  7129300520  20141013T000000  221900         3       1.00         1180   \n",
       "1  6414100192  20141209T000000  538000         3       2.25         2570   \n",
       "2  5631500400  20150225T000000  180000         2       1.00          770   \n",
       "3  2487200875  20141209T000000  604000         4       3.00         1960   \n",
       "4  1954400510  20150218T000000  510000         3       2.00         1680   \n",
       "\n",
       "   sqft_lot  floors  waterfront  view     ...      zipcode      lat     long  \\\n",
       "0      5650     1.0           0     0     ...        98178  47.5112 -122.257   \n",
       "1      7242     2.0           0     0     ...        98125  47.7210 -122.319   \n",
       "2     10000     1.0           0     0     ...        98028  47.7379 -122.233   \n",
       "3      5000     1.0           0     0     ...        98136  47.5208 -122.393   \n",
       "4      8080     1.0           0     0     ...        98074  47.6168 -122.045   \n",
       "\n",
       "   sqft_living15  sqft_lot15  lat_group  long_group  \\\n",
       "0           1340        5650  47.516708    -122.253   \n",
       "1           1690        7639  47.716540    -122.309   \n",
       "2           2720        8062  47.738744    -122.225   \n",
       "3           1360        5000  47.516708    -122.393   \n",
       "4           1800        7503  47.616624    -122.057   \n",
       "\n",
       "                           lat+long_group  price_per_sqft  year_month  \n",
       "0   47.516708035714366,-122.2529999999999      188.050847      201410  \n",
       "1   47.716540178571556,-122.3089999999999      209.338521      201412  \n",
       "2   47.73874375000014,-122.22499999999991      233.766234      201502  \n",
       "3  47.516708035714366,-122.39299999999999      308.163265      201412  \n",
       "4   47.616624107142975,-122.0569999999999      303.571429      201502  \n",
       "\n",
       "[5 rows x 26 columns]"
      ]
     },
     "execution_count": 29,
     "metadata": {},
     "output_type": "execute_result"
    }
   ],
   "source": [
    "df['lat+long_group'] = ''\n",
    "\n",
    "for index, row in df.iterrows():\n",
    "    coordgroup = str(row['lat_group']) + ',' + str(row['long_group'])\n",
    "    df.set_value(index,'lat+long_group',coordgroup)\n",
    "    \n",
    "df.head()"
   ]
  },
  {
   "cell_type": "markdown",
   "metadata": {},
   "source": [
    "#### Now find mean for each group"
   ]
  },
  {
   "cell_type": "code",
   "execution_count": 30,
   "metadata": {},
   "outputs": [
    {
     "data": {
      "text/html": [
       "<div>\n",
       "<style scoped>\n",
       "    .dataframe tbody tr th:only-of-type {\n",
       "        vertical-align: middle;\n",
       "    }\n",
       "\n",
       "    .dataframe tbody tr th {\n",
       "        vertical-align: top;\n",
       "    }\n",
       "\n",
       "    .dataframe thead th {\n",
       "        text-align: right;\n",
       "    }\n",
       "</style>\n",
       "<table border=\"1\" class=\"dataframe\">\n",
       "  <thead>\n",
       "    <tr style=\"text-align: right;\">\n",
       "      <th></th>\n",
       "      <th>lat+long_group</th>\n",
       "      <th>area_ppsqft_mean</th>\n",
       "    </tr>\n",
       "  </thead>\n",
       "  <tbody>\n",
       "    <tr>\n",
       "      <th>0</th>\n",
       "      <td>47.15034910714286,-121.63699999999979</td>\n",
       "      <td>204.301075</td>\n",
       "    </tr>\n",
       "    <tr>\n",
       "      <th>1</th>\n",
       "      <td>47.161450892857154,-121.94499999999991</td>\n",
       "      <td>156.136364</td>\n",
       "    </tr>\n",
       "    <tr>\n",
       "      <th>2</th>\n",
       "      <td>47.161450892857154,-121.9729999999999</td>\n",
       "      <td>242.086783</td>\n",
       "    </tr>\n",
       "    <tr>\n",
       "      <th>3</th>\n",
       "      <td>47.172552678571435,-121.94499999999991</td>\n",
       "      <td>209.708738</td>\n",
       "    </tr>\n",
       "    <tr>\n",
       "      <th>4</th>\n",
       "      <td>47.172552678571435,-122.0009999999999</td>\n",
       "      <td>150.326797</td>\n",
       "    </tr>\n",
       "  </tbody>\n",
       "</table>\n",
       "</div>"
      ],
      "text/plain": [
       "                           lat+long_group  area_ppsqft_mean\n",
       "0   47.15034910714286,-121.63699999999979        204.301075\n",
       "1  47.161450892857154,-121.94499999999991        156.136364\n",
       "2   47.161450892857154,-121.9729999999999        242.086783\n",
       "3  47.172552678571435,-121.94499999999991        209.708738\n",
       "4   47.172552678571435,-122.0009999999999        150.326797"
      ]
     },
     "execution_count": 30,
     "metadata": {},
     "output_type": "execute_result"
    }
   ],
   "source": [
    "grouped = df.groupby('lat+long_group')\n",
    "df7 = pd.DataFrame(grouped['price_per_sqft'].mean().reset_index())\n",
    "df8 = df7.rename(columns={'price_per_sqft': 'area_ppsqft_mean'})\n",
    "df8.head()"
   ]
  },
  {
   "cell_type": "markdown",
   "metadata": {},
   "source": [
    "#### Join this back to dataset, create new column for difference between property's ppsqft and its area's mean ppsqft"
   ]
  },
  {
   "cell_type": "code",
   "execution_count": 31,
   "metadata": {},
   "outputs": [
    {
     "data": {
      "text/html": [
       "<div>\n",
       "<style scoped>\n",
       "    .dataframe tbody tr th:only-of-type {\n",
       "        vertical-align: middle;\n",
       "    }\n",
       "\n",
       "    .dataframe tbody tr th {\n",
       "        vertical-align: top;\n",
       "    }\n",
       "\n",
       "    .dataframe thead th {\n",
       "        text-align: right;\n",
       "    }\n",
       "</style>\n",
       "<table border=\"1\" class=\"dataframe\">\n",
       "  <thead>\n",
       "    <tr style=\"text-align: right;\">\n",
       "      <th></th>\n",
       "      <th>id</th>\n",
       "      <th>date</th>\n",
       "      <th>price</th>\n",
       "      <th>bedrooms</th>\n",
       "      <th>bathrooms</th>\n",
       "      <th>sqft_living</th>\n",
       "      <th>sqft_lot</th>\n",
       "      <th>floors</th>\n",
       "      <th>waterfront</th>\n",
       "      <th>view</th>\n",
       "      <th>...</th>\n",
       "      <th>lat</th>\n",
       "      <th>long</th>\n",
       "      <th>sqft_living15</th>\n",
       "      <th>sqft_lot15</th>\n",
       "      <th>lat_group</th>\n",
       "      <th>long_group</th>\n",
       "      <th>lat+long_group</th>\n",
       "      <th>price_per_sqft</th>\n",
       "      <th>year_month</th>\n",
       "      <th>area_ppsqft_mean</th>\n",
       "    </tr>\n",
       "  </thead>\n",
       "  <tbody>\n",
       "    <tr>\n",
       "      <th>0</th>\n",
       "      <td>7129300520</td>\n",
       "      <td>20141013T000000</td>\n",
       "      <td>221900</td>\n",
       "      <td>3</td>\n",
       "      <td>1.00</td>\n",
       "      <td>1180</td>\n",
       "      <td>5650</td>\n",
       "      <td>1.0</td>\n",
       "      <td>0</td>\n",
       "      <td>0</td>\n",
       "      <td>...</td>\n",
       "      <td>47.5112</td>\n",
       "      <td>-122.257</td>\n",
       "      <td>1340</td>\n",
       "      <td>5650</td>\n",
       "      <td>47.516708</td>\n",
       "      <td>-122.253</td>\n",
       "      <td>47.516708035714366,-122.2529999999999</td>\n",
       "      <td>188.050847</td>\n",
       "      <td>201410</td>\n",
       "      <td>243.299842</td>\n",
       "    </tr>\n",
       "    <tr>\n",
       "      <th>1</th>\n",
       "      <td>6414100192</td>\n",
       "      <td>20141209T000000</td>\n",
       "      <td>538000</td>\n",
       "      <td>3</td>\n",
       "      <td>2.25</td>\n",
       "      <td>2570</td>\n",
       "      <td>7242</td>\n",
       "      <td>2.0</td>\n",
       "      <td>0</td>\n",
       "      <td>0</td>\n",
       "      <td>...</td>\n",
       "      <td>47.7210</td>\n",
       "      <td>-122.319</td>\n",
       "      <td>1690</td>\n",
       "      <td>7639</td>\n",
       "      <td>47.716540</td>\n",
       "      <td>-122.309</td>\n",
       "      <td>47.716540178571556,-122.3089999999999</td>\n",
       "      <td>209.338521</td>\n",
       "      <td>201412</td>\n",
       "      <td>277.174508</td>\n",
       "    </tr>\n",
       "    <tr>\n",
       "      <th>2</th>\n",
       "      <td>5631500400</td>\n",
       "      <td>20150225T000000</td>\n",
       "      <td>180000</td>\n",
       "      <td>2</td>\n",
       "      <td>1.00</td>\n",
       "      <td>770</td>\n",
       "      <td>10000</td>\n",
       "      <td>1.0</td>\n",
       "      <td>0</td>\n",
       "      <td>0</td>\n",
       "      <td>...</td>\n",
       "      <td>47.7379</td>\n",
       "      <td>-122.233</td>\n",
       "      <td>2720</td>\n",
       "      <td>8062</td>\n",
       "      <td>47.738744</td>\n",
       "      <td>-122.225</td>\n",
       "      <td>47.73874375000014,-122.22499999999991</td>\n",
       "      <td>233.766234</td>\n",
       "      <td>201502</td>\n",
       "      <td>231.885335</td>\n",
       "    </tr>\n",
       "    <tr>\n",
       "      <th>3</th>\n",
       "      <td>2487200875</td>\n",
       "      <td>20141209T000000</td>\n",
       "      <td>604000</td>\n",
       "      <td>4</td>\n",
       "      <td>3.00</td>\n",
       "      <td>1960</td>\n",
       "      <td>5000</td>\n",
       "      <td>1.0</td>\n",
       "      <td>0</td>\n",
       "      <td>0</td>\n",
       "      <td>...</td>\n",
       "      <td>47.5208</td>\n",
       "      <td>-122.393</td>\n",
       "      <td>1360</td>\n",
       "      <td>5000</td>\n",
       "      <td>47.516708</td>\n",
       "      <td>-122.393</td>\n",
       "      <td>47.516708035714366,-122.39299999999999</td>\n",
       "      <td>308.163265</td>\n",
       "      <td>201412</td>\n",
       "      <td>301.727101</td>\n",
       "    </tr>\n",
       "    <tr>\n",
       "      <th>4</th>\n",
       "      <td>1954400510</td>\n",
       "      <td>20150218T000000</td>\n",
       "      <td>510000</td>\n",
       "      <td>3</td>\n",
       "      <td>2.00</td>\n",
       "      <td>1680</td>\n",
       "      <td>8080</td>\n",
       "      <td>1.0</td>\n",
       "      <td>0</td>\n",
       "      <td>0</td>\n",
       "      <td>...</td>\n",
       "      <td>47.6168</td>\n",
       "      <td>-122.045</td>\n",
       "      <td>1800</td>\n",
       "      <td>7503</td>\n",
       "      <td>47.616624</td>\n",
       "      <td>-122.057</td>\n",
       "      <td>47.616624107142975,-122.0569999999999</td>\n",
       "      <td>303.571429</td>\n",
       "      <td>201502</td>\n",
       "      <td>275.153881</td>\n",
       "    </tr>\n",
       "  </tbody>\n",
       "</table>\n",
       "<p>5 rows × 27 columns</p>\n",
       "</div>"
      ],
      "text/plain": [
       "           id             date   price  bedrooms  bathrooms  sqft_living  \\\n",
       "0  7129300520  20141013T000000  221900         3       1.00         1180   \n",
       "1  6414100192  20141209T000000  538000         3       2.25         2570   \n",
       "2  5631500400  20150225T000000  180000         2       1.00          770   \n",
       "3  2487200875  20141209T000000  604000         4       3.00         1960   \n",
       "4  1954400510  20150218T000000  510000         3       2.00         1680   \n",
       "\n",
       "   sqft_lot  floors  waterfront  view        ...             lat     long  \\\n",
       "0      5650     1.0           0     0        ...         47.5112 -122.257   \n",
       "1      7242     2.0           0     0        ...         47.7210 -122.319   \n",
       "2     10000     1.0           0     0        ...         47.7379 -122.233   \n",
       "3      5000     1.0           0     0        ...         47.5208 -122.393   \n",
       "4      8080     1.0           0     0        ...         47.6168 -122.045   \n",
       "\n",
       "   sqft_living15  sqft_lot15  lat_group  long_group  \\\n",
       "0           1340        5650  47.516708    -122.253   \n",
       "1           1690        7639  47.716540    -122.309   \n",
       "2           2720        8062  47.738744    -122.225   \n",
       "3           1360        5000  47.516708    -122.393   \n",
       "4           1800        7503  47.616624    -122.057   \n",
       "\n",
       "                           lat+long_group  price_per_sqft  year_month  \\\n",
       "0   47.516708035714366,-122.2529999999999      188.050847      201410   \n",
       "1   47.716540178571556,-122.3089999999999      209.338521      201412   \n",
       "2   47.73874375000014,-122.22499999999991      233.766234      201502   \n",
       "3  47.516708035714366,-122.39299999999999      308.163265      201412   \n",
       "4   47.616624107142975,-122.0569999999999      303.571429      201502   \n",
       "\n",
       "   area_ppsqft_mean  \n",
       "0        243.299842  \n",
       "1        277.174508  \n",
       "2        231.885335  \n",
       "3        301.727101  \n",
       "4        275.153881  \n",
       "\n",
       "[5 rows x 27 columns]"
      ]
     },
     "execution_count": 31,
     "metadata": {},
     "output_type": "execute_result"
    }
   ],
   "source": [
    "df = df.merge(df8, on='lat+long_group', how='left')\n",
    "df.head()"
   ]
  },
  {
   "cell_type": "code",
   "execution_count": 32,
   "metadata": {},
   "outputs": [
    {
     "data": {
      "text/html": [
       "<div>\n",
       "<style scoped>\n",
       "    .dataframe tbody tr th:only-of-type {\n",
       "        vertical-align: middle;\n",
       "    }\n",
       "\n",
       "    .dataframe tbody tr th {\n",
       "        vertical-align: top;\n",
       "    }\n",
       "\n",
       "    .dataframe thead th {\n",
       "        text-align: right;\n",
       "    }\n",
       "</style>\n",
       "<table border=\"1\" class=\"dataframe\">\n",
       "  <thead>\n",
       "    <tr style=\"text-align: right;\">\n",
       "      <th></th>\n",
       "      <th>id</th>\n",
       "      <th>date</th>\n",
       "      <th>price</th>\n",
       "      <th>bedrooms</th>\n",
       "      <th>bathrooms</th>\n",
       "      <th>sqft_living</th>\n",
       "      <th>sqft_lot</th>\n",
       "      <th>floors</th>\n",
       "      <th>waterfront</th>\n",
       "      <th>view</th>\n",
       "      <th>...</th>\n",
       "      <th>long</th>\n",
       "      <th>sqft_living15</th>\n",
       "      <th>sqft_lot15</th>\n",
       "      <th>lat_group</th>\n",
       "      <th>long_group</th>\n",
       "      <th>lat+long_group</th>\n",
       "      <th>price_per_sqft</th>\n",
       "      <th>year_month</th>\n",
       "      <th>area_ppsqft_mean</th>\n",
       "      <th>ppsqft_diff</th>\n",
       "    </tr>\n",
       "  </thead>\n",
       "  <tbody>\n",
       "    <tr>\n",
       "      <th>0</th>\n",
       "      <td>7129300520</td>\n",
       "      <td>20141013T000000</td>\n",
       "      <td>221900</td>\n",
       "      <td>3</td>\n",
       "      <td>1.00</td>\n",
       "      <td>1180</td>\n",
       "      <td>5650</td>\n",
       "      <td>1.0</td>\n",
       "      <td>0</td>\n",
       "      <td>0</td>\n",
       "      <td>...</td>\n",
       "      <td>-122.257</td>\n",
       "      <td>1340</td>\n",
       "      <td>5650</td>\n",
       "      <td>47.516708</td>\n",
       "      <td>-122.253</td>\n",
       "      <td>47.516708035714366,-122.2529999999999</td>\n",
       "      <td>188.050847</td>\n",
       "      <td>201410</td>\n",
       "      <td>243.299842</td>\n",
       "      <td>-55.248994</td>\n",
       "    </tr>\n",
       "    <tr>\n",
       "      <th>1</th>\n",
       "      <td>6414100192</td>\n",
       "      <td>20141209T000000</td>\n",
       "      <td>538000</td>\n",
       "      <td>3</td>\n",
       "      <td>2.25</td>\n",
       "      <td>2570</td>\n",
       "      <td>7242</td>\n",
       "      <td>2.0</td>\n",
       "      <td>0</td>\n",
       "      <td>0</td>\n",
       "      <td>...</td>\n",
       "      <td>-122.319</td>\n",
       "      <td>1690</td>\n",
       "      <td>7639</td>\n",
       "      <td>47.716540</td>\n",
       "      <td>-122.309</td>\n",
       "      <td>47.716540178571556,-122.3089999999999</td>\n",
       "      <td>209.338521</td>\n",
       "      <td>201412</td>\n",
       "      <td>277.174508</td>\n",
       "      <td>-67.835986</td>\n",
       "    </tr>\n",
       "    <tr>\n",
       "      <th>2</th>\n",
       "      <td>5631500400</td>\n",
       "      <td>20150225T000000</td>\n",
       "      <td>180000</td>\n",
       "      <td>2</td>\n",
       "      <td>1.00</td>\n",
       "      <td>770</td>\n",
       "      <td>10000</td>\n",
       "      <td>1.0</td>\n",
       "      <td>0</td>\n",
       "      <td>0</td>\n",
       "      <td>...</td>\n",
       "      <td>-122.233</td>\n",
       "      <td>2720</td>\n",
       "      <td>8062</td>\n",
       "      <td>47.738744</td>\n",
       "      <td>-122.225</td>\n",
       "      <td>47.73874375000014,-122.22499999999991</td>\n",
       "      <td>233.766234</td>\n",
       "      <td>201502</td>\n",
       "      <td>231.885335</td>\n",
       "      <td>1.880899</td>\n",
       "    </tr>\n",
       "    <tr>\n",
       "      <th>3</th>\n",
       "      <td>2487200875</td>\n",
       "      <td>20141209T000000</td>\n",
       "      <td>604000</td>\n",
       "      <td>4</td>\n",
       "      <td>3.00</td>\n",
       "      <td>1960</td>\n",
       "      <td>5000</td>\n",
       "      <td>1.0</td>\n",
       "      <td>0</td>\n",
       "      <td>0</td>\n",
       "      <td>...</td>\n",
       "      <td>-122.393</td>\n",
       "      <td>1360</td>\n",
       "      <td>5000</td>\n",
       "      <td>47.516708</td>\n",
       "      <td>-122.393</td>\n",
       "      <td>47.516708035714366,-122.39299999999999</td>\n",
       "      <td>308.163265</td>\n",
       "      <td>201412</td>\n",
       "      <td>301.727101</td>\n",
       "      <td>6.436165</td>\n",
       "    </tr>\n",
       "    <tr>\n",
       "      <th>4</th>\n",
       "      <td>1954400510</td>\n",
       "      <td>20150218T000000</td>\n",
       "      <td>510000</td>\n",
       "      <td>3</td>\n",
       "      <td>2.00</td>\n",
       "      <td>1680</td>\n",
       "      <td>8080</td>\n",
       "      <td>1.0</td>\n",
       "      <td>0</td>\n",
       "      <td>0</td>\n",
       "      <td>...</td>\n",
       "      <td>-122.045</td>\n",
       "      <td>1800</td>\n",
       "      <td>7503</td>\n",
       "      <td>47.616624</td>\n",
       "      <td>-122.057</td>\n",
       "      <td>47.616624107142975,-122.0569999999999</td>\n",
       "      <td>303.571429</td>\n",
       "      <td>201502</td>\n",
       "      <td>275.153881</td>\n",
       "      <td>28.417547</td>\n",
       "    </tr>\n",
       "  </tbody>\n",
       "</table>\n",
       "<p>5 rows × 28 columns</p>\n",
       "</div>"
      ],
      "text/plain": [
       "           id             date   price  bedrooms  bathrooms  sqft_living  \\\n",
       "0  7129300520  20141013T000000  221900         3       1.00         1180   \n",
       "1  6414100192  20141209T000000  538000         3       2.25         2570   \n",
       "2  5631500400  20150225T000000  180000         2       1.00          770   \n",
       "3  2487200875  20141209T000000  604000         4       3.00         1960   \n",
       "4  1954400510  20150218T000000  510000         3       2.00         1680   \n",
       "\n",
       "   sqft_lot  floors  waterfront  view     ...          long  sqft_living15  \\\n",
       "0      5650     1.0           0     0     ...      -122.257           1340   \n",
       "1      7242     2.0           0     0     ...      -122.319           1690   \n",
       "2     10000     1.0           0     0     ...      -122.233           2720   \n",
       "3      5000     1.0           0     0     ...      -122.393           1360   \n",
       "4      8080     1.0           0     0     ...      -122.045           1800   \n",
       "\n",
       "   sqft_lot15  lat_group  long_group                          lat+long_group  \\\n",
       "0        5650  47.516708    -122.253   47.516708035714366,-122.2529999999999   \n",
       "1        7639  47.716540    -122.309   47.716540178571556,-122.3089999999999   \n",
       "2        8062  47.738744    -122.225   47.73874375000014,-122.22499999999991   \n",
       "3        5000  47.516708    -122.393  47.516708035714366,-122.39299999999999   \n",
       "4        7503  47.616624    -122.057   47.616624107142975,-122.0569999999999   \n",
       "\n",
       "   price_per_sqft  year_month  area_ppsqft_mean  ppsqft_diff  \n",
       "0      188.050847      201410        243.299842   -55.248994  \n",
       "1      209.338521      201412        277.174508   -67.835986  \n",
       "2      233.766234      201502        231.885335     1.880899  \n",
       "3      308.163265      201412        301.727101     6.436165  \n",
       "4      303.571429      201502        275.153881    28.417547  \n",
       "\n",
       "[5 rows x 28 columns]"
      ]
     },
     "execution_count": 32,
     "metadata": {},
     "output_type": "execute_result"
    }
   ],
   "source": [
    "df['ppsqft_diff'] = df['price_per_sqft'] - df['area_ppsqft_mean']\n",
    "df.head()"
   ]
  },
  {
   "cell_type": "markdown",
   "metadata": {},
   "source": [
    "#### Now divide the dataset into two groups and plot them against each other"
   ]
  },
  {
   "cell_type": "code",
   "execution_count": 33,
   "metadata": {},
   "outputs": [],
   "source": [
    "dfpos = df[df['ppsqft_diff'] >= 0]\n",
    "dfneg = df[df['ppsqft_diff'] < 0]"
   ]
  },
  {
   "cell_type": "code",
   "execution_count": 34,
   "metadata": {},
   "outputs": [
    {
     "data": {
      "text/plain": [
       "9562"
      ]
     },
     "execution_count": 34,
     "metadata": {},
     "output_type": "execute_result"
    }
   ],
   "source": [
    "len(dfpos)"
   ]
  },
  {
   "cell_type": "code",
   "execution_count": 35,
   "metadata": {},
   "outputs": [
    {
     "data": {
      "text/plain": [
       "11874"
      ]
     },
     "execution_count": 35,
     "metadata": {},
     "output_type": "execute_result"
    }
   ],
   "source": [
    "len(dfneg)"
   ]
  },
  {
   "cell_type": "markdown",
   "metadata": {},
   "source": [
    "#### Create a groupby object for each dataframe to create summaries"
   ]
  },
  {
   "cell_type": "code",
   "execution_count": 36,
   "metadata": {},
   "outputs": [],
   "source": [
    "posgroup = dfpos.groupby('lat+long_group')\n",
    "neggroup = dfneg.groupby('lat+long_group')"
   ]
  },
  {
   "cell_type": "markdown",
   "metadata": {},
   "source": [
    "#### Was mean square footage higher in the positive or negative group?"
   ]
  },
  {
   "cell_type": "code",
   "execution_count": 81,
   "metadata": {},
   "outputs": [],
   "source": [
    "dfC = posgroup['sqft_living'].mean().mean()\n"
   ]
  },
  {
   "cell_type": "code",
   "execution_count": 82,
   "metadata": {},
   "outputs": [
    {
     "data": {
      "text/plain": [
       "2072.7033580848524"
      ]
     },
     "execution_count": 82,
     "metadata": {},
     "output_type": "execute_result"
    }
   ],
   "source": [
    "dfC"
   ]
  },
  {
   "cell_type": "code",
   "execution_count": 83,
   "metadata": {},
   "outputs": [],
   "source": [
    "dfD = neggroup['sqft_living'].mean().mean()"
   ]
  },
  {
   "cell_type": "code",
   "execution_count": 84,
   "metadata": {},
   "outputs": [
    {
     "data": {
      "text/plain": [
       "2495.6720246053605"
      ]
     },
     "execution_count": 84,
     "metadata": {},
     "output_type": "execute_result"
    }
   ],
   "source": [
    "dfD"
   ]
  },
  {
   "cell_type": "code",
   "execution_count": 85,
   "metadata": {},
   "outputs": [],
   "source": [
    "# Change plot text size\n",
    "#matplotlib.rcParams.update({'font.size': 22})"
   ]
  },
  {
   "cell_type": "code",
   "execution_count": 86,
   "metadata": {
    "scrolled": true
   },
   "outputs": [
    {
     "data": {
      "image/png": "[encoded data removed]",
      "text/plain": [
       "<matplotlib.figure.Figure at 0x1a191f1710>"
      ]
     },
     "metadata": {},
     "output_type": "display_data"
    }
   ],
   "source": [
    "plt.figure(figsize=(5.2,3.1))\n",
    "plt.bar([0, 1], [dfC, dfD], color=['red', 'blue'])\n",
    "plt.title(\"Square Footage\")\n",
    "plt.ylabel('Average Square Feet of Group')\n",
    "plt.xticks([0, 1], ['Homes Selling Above Mean', 'Homes Selling Below Mean'])\n",
    "plt.savefig('AvSqft.png')\n",
    "plt.show()"
   ]
  },
  {
   "cell_type": "code",
   "execution_count": 68,
   "metadata": {},
   "outputs": [
    {
     "data": {
      "text/plain": [
       "Ttest_indResult(statistic=-9.4554686961260277, pvalue=1.0919817184073136e-20)"
      ]
     },
     "execution_count": 68,
     "metadata": {},
     "output_type": "execute_result"
    }
   ],
   "source": [
    "ttest_ind(posgroup['sqft_living'].mean(), neggroup['sqft_living'].mean())"
   ]
  },
  {
   "cell_type": "markdown",
   "metadata": {},
   "source": [
    "#### Was average view score higher in the above group?"
   ]
  },
  {
   "cell_type": "code",
   "execution_count": 69,
   "metadata": {},
   "outputs": [
    {
     "data": {
      "image/png": "[encoded data removed]",
      "text/plain": [
       "<matplotlib.figure.Figure at 0x1a1ef47c50>"
      ]
     },
     "metadata": {},
     "output_type": "display_data"
    }
   ],
   "source": [
    "plt.figure(figsize=(5.2,3.1))\n",
    "dfC = posgroup['view'].mean().mean()\n",
    "dfD = neggroup['view'].mean().mean()\n",
    "plt.bar([0, 1], [dfC, dfD], color=['red', 'blue'])\n",
    "plt.title(\"Average View Score\")\n",
    "plt.ylabel('Average View Score of Group')\n",
    "plt.xticks([0, 1], ['Homes Selling Above Mean', 'Homes Selling Below Mean'])\n",
    "plt.savefig('AvView.png')\n",
    "plt.show()"
   ]
  },
  {
   "cell_type": "code",
   "execution_count": 70,
   "metadata": {},
   "outputs": [
    {
     "data": {
      "text/plain": [
       "Ttest_indResult(statistic=5.5057176661248244, pvalue=4.2714122731173055e-08)"
      ]
     },
     "execution_count": 70,
     "metadata": {},
     "output_type": "execute_result"
    }
   ],
   "source": [
    "ttest_ind(posgroup['view'].mean(), neggroup['view'].mean())"
   ]
  },
  {
   "cell_type": "markdown",
   "metadata": {},
   "source": [
    "#### Was the average waterfront score higher in the above group?"
   ]
  },
  {
   "cell_type": "code",
   "execution_count": 71,
   "metadata": {},
   "outputs": [
    {
     "data": {
      "image/png": "[encoded data removed]",
      "text/plain": [
       "<matplotlib.figure.Figure at 0x1a1f096b00>"
      ]
     },
     "metadata": {},
     "output_type": "display_data"
    }
   ],
   "source": [
    "plt.figure(figsize=(5.2,3.1))\n",
    "dfC = posgroup['waterfront'].mean().mean()\n",
    "dfD = neggroup['waterfront'].mean().mean()\n",
    "plt.bar([0, 1], [dfC, dfD], color=['red', 'blue'])\n",
    "plt.title(\"Average Waterfront Score\")\n",
    "plt.ylabel('Average Waterfront Score of Group')\n",
    "plt.xticks([0, 1], ['Homes Selling Above Mean', 'Homes Selling Below Mean'])\n",
    "plt.savefig('AvWtrf.png')\n",
    "plt.show()"
   ]
  },
  {
   "cell_type": "code",
   "execution_count": 72,
   "metadata": {},
   "outputs": [
    {
     "data": {
      "text/plain": [
       "Ttest_indResult(statistic=5.8142043623240571, pvalue=7.3306688889467419e-09)"
      ]
     },
     "execution_count": 72,
     "metadata": {},
     "output_type": "execute_result"
    }
   ],
   "source": [
    "ttest_ind(posgroup['waterfront'].mean(), neggroup['waterfront'].mean())"
   ]
  },
  {
   "cell_type": "markdown",
   "metadata": {},
   "source": [
    "#### Was the grade steeper in the above group?"
   ]
  },
  {
   "cell_type": "code",
   "execution_count": 73,
   "metadata": {},
   "outputs": [
    {
     "data": {
      "image/png": "[encoded data removed]",
      "text/plain": [
       "<matplotlib.figure.Figure at 0x1a1edf1e48>"
      ]
     },
     "metadata": {},
     "output_type": "display_data"
    }
   ],
   "source": [
    "plt.figure(figsize=(5.2,3.1))\n",
    "dfC = posgroup['grade'].mean().mean()\n",
    "dfD = neggroup['grade'].mean().mean()\n",
    "plt.bar([0, 1], [dfC, dfD], color=['red', 'blue'])\n",
    "plt.title(\"Average Grade (Degrees)\")\n",
    "plt.ylabel('Average Grade of Group')\n",
    "plt.xticks([0, 1], ['Homes Selling Above Mean', 'Homes Selling Below Mean'])\n",
    "plt.savefig('AvGrad.png')\n",
    "plt.show()"
   ]
  },
  {
   "cell_type": "code",
   "execution_count": 74,
   "metadata": {},
   "outputs": [
    {
     "data": {
      "text/plain": [
       "Ttest_indResult(statistic=-2.0076601651476707, pvalue=0.044846030201000413)"
      ]
     },
     "execution_count": 74,
     "metadata": {},
     "output_type": "execute_result"
    }
   ],
   "source": [
    "ttest_ind(posgroup['grade'].mean(), neggroup['grade'].mean())"
   ]
  },
  {
   "cell_type": "markdown",
   "metadata": {},
   "source": [
    "#### Was the number of bedrooms higher in the above group?"
   ]
  },
  {
   "cell_type": "code",
   "execution_count": 75,
   "metadata": {},
   "outputs": [
    {
     "data": {
      "image/png": "[encoded data removed]",
      "text/plain": [
       "<matplotlib.figure.Figure at 0x1a1f078c18>"
      ]
     },
     "metadata": {},
     "output_type": "display_data"
    }
   ],
   "source": [
    "plt.figure(figsize=(5.2,3.1))\n",
    "dfC = posgroup['bedrooms'].mean().mean()\n",
    "dfD = neggroup['bedrooms'].mean().mean()\n",
    "plt.bar([0, 1], [dfC, dfD], color=['red', 'blue'])\n",
    "plt.title(\"Average Number of Bedrooms\")\n",
    "plt.ylabel('Average Number of Bedrooms of Group')\n",
    "plt.xticks([0, 1], ['Homes Selling Above Mean', 'Homes Selling Below Mean'])\n",
    "plt.savefig('AvBdrm.png')\n",
    "plt.show()"
   ]
  },
  {
   "cell_type": "code",
   "execution_count": 76,
   "metadata": {},
   "outputs": [
    {
     "data": {
      "text/plain": [
       "Ttest_indResult(statistic=-14.800350662967805, pvalue=1.4357991487307602e-46)"
      ]
     },
     "execution_count": 76,
     "metadata": {},
     "output_type": "execute_result"
    }
   ],
   "source": [
    "ttest_ind(posgroup['bedrooms'].mean(), neggroup['bedrooms'].mean())"
   ]
  },
  {
   "cell_type": "markdown",
   "metadata": {},
   "source": [
    "#### Was the average condition higher in the above group?"
   ]
  },
  {
   "cell_type": "code",
   "execution_count": 77,
   "metadata": {},
   "outputs": [
    {
     "data": {
      "image/png": "[encoded data removed]",
      "text/plain": [
       "<matplotlib.figure.Figure at 0x10e2394a8>"
      ]
     },
     "metadata": {},
     "output_type": "display_data"
    }
   ],
   "source": [
    "plt.figure(figsize=(5.2,3.1))\n",
    "dfC = posgroup['condition'].mean().mean()\n",
    "dfD = neggroup['condition'].mean().mean()\n",
    "plt.bar([0, 1], [dfC, dfD], color=['red', 'blue'])\n",
    "plt.title(\"Average Home Condition Score\")\n",
    "plt.ylabel('Average Home Condition of Group')\n",
    "plt.xticks([0, 1], ['Homes Selling Above Mean', 'Homes Selling Below Mean'])\n",
    "plt.savefig('AvCond.png')\n",
    "plt.show()"
   ]
  },
  {
   "cell_type": "code",
   "execution_count": 78,
   "metadata": {},
   "outputs": [
    {
     "data": {
      "text/plain": [
       "Ttest_indResult(statistic=3.1077385919485785, pvalue=0.0019181719929118885)"
      ]
     },
     "execution_count": 78,
     "metadata": {},
     "output_type": "execute_result"
    }
   ],
   "source": [
    "ttest_ind(posgroup['condition'].mean(), neggroup['condition'].mean())"
   ]
  },
  {
   "cell_type": "markdown",
   "metadata": {},
   "source": [
    "#### Was the number of bathrooms higher in the median?"
   ]
  },
  {
   "cell_type": "code",
   "execution_count": 79,
   "metadata": {},
   "outputs": [
    {
     "data": {
      "image/png": "[encoded data removed]",
      "text/plain": [
       "<matplotlib.figure.Figure at 0x10ec35208>"
      ]
     },
     "metadata": {},
     "output_type": "display_data"
    }
   ],
   "source": [
    "plt.figure(figsize=(5.2,3.1))\n",
    "dfC = posgroup['bathrooms'].mean().mean()\n",
    "dfD = neggroup['bathrooms'].mean().mean()\n",
    "plt.bar([0, 1], [dfC, dfD], color=['red', 'blue'])\n",
    "plt.title(\"Average Bathroom Number\")\n",
    "plt.ylabel('Average Bathroom Number of Group')\n",
    "plt.xticks([0, 1], ['Homes Selling Above Mean', 'Homes Selling Below Mean'])\n",
    "plt.savefig('AvBath.png')\n",
    "plt.show()"
   ]
  },
  {
   "cell_type": "code",
   "execution_count": 80,
   "metadata": {},
   "outputs": [
    {
     "data": {
      "text/plain": [
       "Ttest_indResult(statistic=-7.9380213680394043, pvalue=3.8158618157635575e-15)"
      ]
     },
     "execution_count": 80,
     "metadata": {},
     "output_type": "execute_result"
    }
   ],
   "source": [
    "ttest_ind(posgroup['bathrooms'].mean(), neggroup['bathrooms'].mean())"
   ]
  },
  {
   "cell_type": "code",
   "execution_count": null,
   "metadata": {},
   "outputs": [],
   "source": []
  },
  {
   "cell_type": "code",
   "execution_count": null,
   "metadata": {},
   "outputs": [],
   "source": []
  }
 ],
 "metadata": {
  "kernelspec": {
   "display_name": "Python 3",
   "language": "python",
   "name": "python3"
  },
  "language_info": {
   "codemirror_mode": {
    "name": "ipython",
    "version": 3
   },
   "file_extension": ".py",
   "mimetype": "text/x-python",
   "name": "python",
   "nbconvert_exporter": "python",
   "pygments_lexer": "ipython3",
   "version": "3.6.3"
  }
 },
 "nbformat": 4,
 "nbformat_minor": 2
}
