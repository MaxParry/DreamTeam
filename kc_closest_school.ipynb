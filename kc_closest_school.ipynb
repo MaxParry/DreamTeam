{
 "cells": [
  {
   "cell_type": "code",
   "execution_count": 9,
   "metadata": {
    "collapsed": true
   },
   "outputs": [],
   "source": [
    "import matplotlib.pyplot as plt"
   ]
  },
  {
   "cell_type": "code",
   "execution_count": 1,
   "metadata": {},
   "outputs": [
    {
     "data": {
      "text/html": [
       "<div>\n",
       "<style>\n",
       "    .dataframe thead tr:only-child th {\n",
       "        text-align: right;\n",
       "    }\n",
       "\n",
       "    .dataframe thead th {\n",
       "        text-align: left;\n",
       "    }\n",
       "\n",
       "    .dataframe tbody tr th {\n",
       "        vertical-align: top;\n",
       "    }\n",
       "</style>\n",
       "<table border=\"1\" class=\"dataframe\">\n",
       "  <thead>\n",
       "    <tr style=\"text-align: right;\">\n",
       "      <th></th>\n",
       "      <th>lat</th>\n",
       "      <th>long</th>\n",
       "      <th>schools</th>\n",
       "      <th>Type</th>\n",
       "    </tr>\n",
       "  </thead>\n",
       "  <tbody>\n",
       "    <tr>\n",
       "      <th>1</th>\n",
       "      <td>47.524375</td>\n",
       "      <td>-122.266113</td>\n",
       "      <td>Rainier Beach High School</td>\n",
       "      <td>High</td>\n",
       "    </tr>\n",
       "    <tr>\n",
       "      <th>2</th>\n",
       "      <td>47.514706</td>\n",
       "      <td>-122.258828</td>\n",
       "      <td>Emerson ` School</td>\n",
       "      <td>Elementary</td>\n",
       "    </tr>\n",
       "    <tr>\n",
       "      <th>3</th>\n",
       "      <td>47.707533</td>\n",
       "      <td>-122.295659</td>\n",
       "      <td>Nathan Hale High School</td>\n",
       "      <td>High</td>\n",
       "    </tr>\n",
       "    <tr>\n",
       "      <th>4</th>\n",
       "      <td>47.710453</td>\n",
       "      <td>-122.293231</td>\n",
       "      <td>Jane Addams Middle School</td>\n",
       "      <td>Middle</td>\n",
       "    </tr>\n",
       "    <tr>\n",
       "      <th>5</th>\n",
       "      <td>47.714717</td>\n",
       "      <td>-122.329337</td>\n",
       "      <td>Northgate Elementary School</td>\n",
       "      <td>Elementary</td>\n",
       "    </tr>\n",
       "  </tbody>\n",
       "</table>\n",
       "</div>"
      ],
      "text/plain": [
       "         lat        long                      schools        Type\n",
       "1  47.524375 -122.266113    Rainier Beach High School        High\n",
       "2  47.514706 -122.258828             Emerson ` School  Elementary\n",
       "3  47.707533 -122.295659      Nathan Hale High School        High\n",
       "4  47.710453 -122.293231    Jane Addams Middle School      Middle\n",
       "5  47.714717 -122.329337  Northgate Elementary School  Elementary"
      ]
     },
     "execution_count": 1,
     "metadata": {},
     "output_type": "execute_result"
    }
   ],
   "source": [
    "import pandas as pd\n",
    "from math import sin, cos, sqrt, atan2, radians\n",
    "\n",
    "house_data = pd.read_csv(\"kc_house_data.csv\")\n",
    "school_data =pd.read_excel('kc_schools.xlsx')\n",
    "school_data.head()"
   ]
  },
  {
   "cell_type": "code",
   "execution_count": 3,
   "metadata": {},
   "outputs": [
    {
     "data": {
      "text/html": [
       "<div>\n",
       "<style>\n",
       "    .dataframe thead tr:only-child th {\n",
       "        text-align: right;\n",
       "    }\n",
       "\n",
       "    .dataframe thead th {\n",
       "        text-align: left;\n",
       "    }\n",
       "\n",
       "    .dataframe tbody tr th {\n",
       "        vertical-align: top;\n",
       "    }\n",
       "</style>\n",
       "<table border=\"1\" class=\"dataframe\">\n",
       "  <thead>\n",
       "    <tr style=\"text-align: right;\">\n",
       "      <th></th>\n",
       "      <th>lat</th>\n",
       "      <th>long</th>\n",
       "      <th>schools</th>\n",
       "      <th>Type</th>\n",
       "    </tr>\n",
       "  </thead>\n",
       "  <tbody>\n",
       "    <tr>\n",
       "      <th>4</th>\n",
       "      <td>47.710453</td>\n",
       "      <td>-122.293231</td>\n",
       "      <td>Jane Addams Middle School</td>\n",
       "      <td>Middle</td>\n",
       "    </tr>\n",
       "    <tr>\n",
       "      <th>16</th>\n",
       "      <td>47.398634</td>\n",
       "      <td>-122.304303</td>\n",
       "      <td>Pacific Middle School</td>\n",
       "      <td>Middle</td>\n",
       "    </tr>\n",
       "    <tr>\n",
       "      <th>38</th>\n",
       "      <td>47.657181</td>\n",
       "      <td>-122.337914</td>\n",
       "      <td>Hamilton International Middle School</td>\n",
       "      <td>Middle</td>\n",
       "    </tr>\n",
       "    <tr>\n",
       "      <th>41</th>\n",
       "      <td>47.334171</td>\n",
       "      <td>-122.318149</td>\n",
       "      <td>Sacajawea Middle School</td>\n",
       "      <td>Middle</td>\n",
       "    </tr>\n",
       "    <tr>\n",
       "      <th>46</th>\n",
       "      <td>47.694691</td>\n",
       "      <td>-122.341202</td>\n",
       "      <td>Robert Eagle Staff Middle School</td>\n",
       "      <td>Middle</td>\n",
       "    </tr>\n",
       "  </tbody>\n",
       "</table>\n",
       "</div>"
      ],
      "text/plain": [
       "          lat        long                               schools    Type\n",
       "4   47.710453 -122.293231             Jane Addams Middle School  Middle\n",
       "16  47.398634 -122.304303                 Pacific Middle School  Middle\n",
       "38  47.657181 -122.337914  Hamilton International Middle School  Middle\n",
       "41  47.334171 -122.318149               Sacajawea Middle School  Middle\n",
       "46  47.694691 -122.341202      Robert Eagle Staff Middle School  Middle"
      ]
     },
     "execution_count": 3,
     "metadata": {},
     "output_type": "execute_result"
    }
   ],
   "source": [
    "hs_data = school_data[school_data['Type'] == 'High']\n",
    "ms_data = school_data[school_data['Type'] == 'Middle']\n",
    "es_data = school_data[school_data['Type'] == 'Elementary']\n",
    "ms_data.head()"
   ]
  },
  {
   "cell_type": "code",
   "execution_count": 4,
   "metadata": {
    "collapsed": true
   },
   "outputs": [],
   "source": [
    "def dist_between(lat_1,lon_1,lat_2,lon_2):\n",
    "    # approximate radius of earth in km\n",
    "    R = 6373.0\n",
    "    \n",
    "    lat1 = radians(lat_1)\n",
    "    lon1 = radians(lon_1)\n",
    "    lat2 = radians(lat_2)\n",
    "    lon2 = radians(lon_2)\n",
    "    \n",
    "    dlon = lon2 - lon1\n",
    "    dlat = lat2 - lat1\n",
    "    \n",
    "    a = sin(dlat / 2)**2 + cos(lat1) * cos(lat2) * sin(dlon / 2)**2\n",
    "    c = 2 * atan2(sqrt(a), sqrt(1 - a))\n",
    "    \n",
    "    distance = R * c\n",
    "    return distance"
   ]
  },
  {
   "cell_type": "code",
   "execution_count": 5,
   "metadata": {
    "collapsed": true
   },
   "outputs": [],
   "source": [
    "types = (hs_data,ms_data,es_data)"
   ]
  },
  {
   "cell_type": "code",
   "execution_count": 5,
   "metadata": {},
   "outputs": [
    {
     "name": "stdout",
     "output_type": "stream",
     "text": [
      "done\n"
     ]
    }
   ],
   "source": [
    "closest_school_name_list =[]\n",
    "closest_school_dist_list =[]\n",
    "for i, rowi in house_data.iterrows():\n",
    "    lat_house = house_data.get_value(i, 'lat', takeable=False)\n",
    "    long_house = house_data.get_value(i, 'long', takeable=False) \n",
    "    closest_school = 1000\n",
    "    for j, rowj in school_data.iterrows():\n",
    "        lat_school = school_data.get_value(j, 'lat', takeable=False)\n",
    "        long_school = school_data.get_value(j, 'long', takeable=False) \n",
    "\n",
    "        dist_2_school = dist_between(lat_house,long_house,lat_school,long_school)\n",
    "\n",
    "        if dist_2_school < closest_school:\n",
    "            closest_school = dist_2_school\n",
    "            closest_school_name = school_data.get_value(j, 'schools', takeable=False)\n",
    "    closest_school_name_list.append(closest_school_name)\n",
    "    closest_school_dist_list.append(closest_school)\n",
    "\n",
    "name_df = pd.Series(closest_school_name_list)\n",
    "dist_df = pd.Series(closest_school_dist_list)\n",
    "\n",
    "house_data['closest_school'] = name_df.values\n",
    "house_data['dist_2_closest'] = dist_df.values\n",
    "print('done')"
   ]
  },
  {
   "cell_type": "code",
   "execution_count": 28,
   "metadata": {},
   "outputs": [
    {
     "name": "stdout",
     "output_type": "stream",
     "text": [
      "done\n"
     ]
    }
   ],
   "source": [
    "closest_school_name_list =[]\n",
    "closest_school_dist_list =[]\n",
    "for i, rowi in house_data.iterrows():\n",
    "    lat_house = house_data.get_value(i, 'lat', takeable=False)\n",
    "    long_house = house_data.get_value(i, 'long', takeable=False) \n",
    "    closest_school = 1000\n",
    "    for j, rowj in hs_data.iterrows():\n",
    "        lat_school = hs_data.get_value(j, 'lat', takeable=False)\n",
    "        long_school = hs_data.get_value(j, 'long', takeable=False) \n",
    "\n",
    "        dist_2_school = dist_between(lat_house,long_house,lat_school,long_school)\n",
    "\n",
    "        if dist_2_school < closest_school:\n",
    "            closest_school = dist_2_school\n",
    "            closest_school_name = hs_data.get_value(j, 'schools', takeable=False)\n",
    "    closest_school_name_list.append(closest_school_name)\n",
    "    closest_school_dist_list.append(closest_school)\n",
    "\n",
    "name_df = pd.Series(closest_school_name_list)\n",
    "dist_df = pd.Series(closest_school_dist_list)\n",
    "\n",
    "house_data['closest_hs'] = name_df.values\n",
    "house_data['dist_2_hs'] = dist_df.values\n",
    "print('done')"
   ]
  },
  {
   "cell_type": "code",
   "execution_count": 30,
   "metadata": {},
   "outputs": [
    {
     "name": "stdout",
     "output_type": "stream",
     "text": [
      "done\n"
     ]
    }
   ],
   "source": [
    "closest_school_name_list =[]\n",
    "closest_school_dist_list =[]\n",
    "for i, rowi in house_data.iterrows():\n",
    "    lat_house = house_data.get_value(i, 'lat', takeable=False)\n",
    "    long_house = house_data.get_value(i, 'long', takeable=False) \n",
    "    closest_school = 1000\n",
    "    for j, rowj in ms_data.iterrows():\n",
    "        lat_school = ms_data.get_value(j, 'lat', takeable=False)\n",
    "        long_school = ms_data.get_value(j, 'long', takeable=False) \n",
    "\n",
    "        dist_2_school = dist_between(lat_house,long_house,lat_school,long_school)\n",
    "\n",
    "        if dist_2_school < closest_school:\n",
    "            closest_school = dist_2_school\n",
    "            closest_school_name = ms_data.get_value(j, 'schools', takeable=False)\n",
    "    closest_school_name_list.append(closest_school_name)\n",
    "    closest_school_dist_list.append(closest_school)\n",
    "\n",
    "name_df = pd.Series(closest_school_name_list)\n",
    "dist_df = pd.Series(closest_school_dist_list)\n",
    "\n",
    "house_data['closest_ms'] = name_df.values\n",
    "house_data['dist_2_ms'] = dist_df.values\n",
    "\n",
    "print('done')"
   ]
  },
  {
   "cell_type": "code",
   "execution_count": 32,
   "metadata": {},
   "outputs": [
    {
     "name": "stdout",
     "output_type": "stream",
     "text": [
      "done\n"
     ]
    }
   ],
   "source": [
    "closest_school_name_list =[]\n",
    "closest_school_dist_list =[]\n",
    "for i, rowi in house_data.iterrows():\n",
    "    lat_house = house_data.get_value(i, 'lat', takeable=False)\n",
    "    long_house = house_data.get_value(i, 'long', takeable=False) \n",
    "    closest_school = 1000\n",
    "    for j, rowj in es_data.iterrows():\n",
    "        lat_school = es_data.get_value(j, 'lat', takeable=False)\n",
    "        long_school = es_data.get_value(j, 'long', takeable=False) \n",
    "\n",
    "        dist_2_school = dist_between(lat_house,long_house,lat_school,long_school)\n",
    "\n",
    "        if dist_2_school < closest_school:\n",
    "            closest_school = dist_2_school\n",
    "            closest_school_name = es_data.get_value(j, 'schools', takeable=False)\n",
    "    closest_school_name_list.append(closest_school_name)\n",
    "    closest_school_dist_list.append(closest_school)\n",
    "\n",
    "name_df = pd.Series(closest_school_name_list)\n",
    "dist_df = pd.Series(closest_school_dist_list)\n",
    "\n",
    "house_data['closest_es'] = name_df.values\n",
    "house_data['dist_2_es'] = dist_df.values\n",
    "print('done')"
   ]
  },
  {
   "cell_type": "code",
   "execution_count": 6,
   "metadata": {},
   "outputs": [
    {
     "data": {
      "text/html": [
       "<div>\n",
       "<style>\n",
       "    .dataframe thead tr:only-child th {\n",
       "        text-align: right;\n",
       "    }\n",
       "\n",
       "    .dataframe thead th {\n",
       "        text-align: left;\n",
       "    }\n",
       "\n",
       "    .dataframe tbody tr th {\n",
       "        vertical-align: top;\n",
       "    }\n",
       "</style>\n",
       "<table border=\"1\" class=\"dataframe\">\n",
       "  <thead>\n",
       "    <tr style=\"text-align: right;\">\n",
       "      <th></th>\n",
       "      <th>id</th>\n",
       "      <th>date</th>\n",
       "      <th>price</th>\n",
       "      <th>bedrooms</th>\n",
       "      <th>bathrooms</th>\n",
       "      <th>sqft_living</th>\n",
       "      <th>sqft_lot</th>\n",
       "      <th>floors</th>\n",
       "      <th>waterfront</th>\n",
       "      <th>view</th>\n",
       "      <th>...</th>\n",
       "      <th>sqft_basement</th>\n",
       "      <th>yr_built</th>\n",
       "      <th>yr_renovated</th>\n",
       "      <th>zipcode</th>\n",
       "      <th>lat</th>\n",
       "      <th>long</th>\n",
       "      <th>sqft_living15</th>\n",
       "      <th>sqft_lot15</th>\n",
       "      <th>closest_school</th>\n",
       "      <th>dist_2_closest</th>\n",
       "    </tr>\n",
       "  </thead>\n",
       "  <tbody>\n",
       "    <tr>\n",
       "      <th>0</th>\n",
       "      <td>7129300520</td>\n",
       "      <td>20141013T000000</td>\n",
       "      <td>221900.0</td>\n",
       "      <td>3</td>\n",
       "      <td>1.00</td>\n",
       "      <td>1180</td>\n",
       "      <td>5650</td>\n",
       "      <td>1.0</td>\n",
       "      <td>0</td>\n",
       "      <td>0</td>\n",
       "      <td>...</td>\n",
       "      <td>0</td>\n",
       "      <td>1955</td>\n",
       "      <td>0</td>\n",
       "      <td>98178</td>\n",
       "      <td>47.5112</td>\n",
       "      <td>-122.257</td>\n",
       "      <td>1340</td>\n",
       "      <td>5650</td>\n",
       "      <td>Emerson ` School</td>\n",
       "      <td>0.413436</td>\n",
       "    </tr>\n",
       "    <tr>\n",
       "      <th>1</th>\n",
       "      <td>6414100192</td>\n",
       "      <td>20141209T000000</td>\n",
       "      <td>538000.0</td>\n",
       "      <td>3</td>\n",
       "      <td>2.25</td>\n",
       "      <td>2570</td>\n",
       "      <td>7242</td>\n",
       "      <td>2.0</td>\n",
       "      <td>0</td>\n",
       "      <td>0</td>\n",
       "      <td>...</td>\n",
       "      <td>400</td>\n",
       "      <td>1951</td>\n",
       "      <td>1991</td>\n",
       "      <td>98125</td>\n",
       "      <td>47.7210</td>\n",
       "      <td>-122.319</td>\n",
       "      <td>1690</td>\n",
       "      <td>7639</td>\n",
       "      <td>Olympic Hills Elementary School</td>\n",
       "      <td>0.957701</td>\n",
       "    </tr>\n",
       "    <tr>\n",
       "      <th>2</th>\n",
       "      <td>5631500400</td>\n",
       "      <td>20150225T000000</td>\n",
       "      <td>180000.0</td>\n",
       "      <td>2</td>\n",
       "      <td>1.00</td>\n",
       "      <td>770</td>\n",
       "      <td>10000</td>\n",
       "      <td>1.0</td>\n",
       "      <td>0</td>\n",
       "      <td>0</td>\n",
       "      <td>...</td>\n",
       "      <td>0</td>\n",
       "      <td>1933</td>\n",
       "      <td>0</td>\n",
       "      <td>98028</td>\n",
       "      <td>47.7379</td>\n",
       "      <td>-122.233</td>\n",
       "      <td>2720</td>\n",
       "      <td>8062</td>\n",
       "      <td>Moorlands Elementary School</td>\n",
       "      <td>0.171841</td>\n",
       "    </tr>\n",
       "    <tr>\n",
       "      <th>3</th>\n",
       "      <td>2487200875</td>\n",
       "      <td>20141209T000000</td>\n",
       "      <td>604000.0</td>\n",
       "      <td>4</td>\n",
       "      <td>3.00</td>\n",
       "      <td>1960</td>\n",
       "      <td>5000</td>\n",
       "      <td>1.0</td>\n",
       "      <td>0</td>\n",
       "      <td>0</td>\n",
       "      <td>...</td>\n",
       "      <td>910</td>\n",
       "      <td>1965</td>\n",
       "      <td>0</td>\n",
       "      <td>98136</td>\n",
       "      <td>47.5208</td>\n",
       "      <td>-122.393</td>\n",
       "      <td>1360</td>\n",
       "      <td>5000</td>\n",
       "      <td>Arbor Heights Elementary School</td>\n",
       "      <td>1.655133</td>\n",
       "    </tr>\n",
       "    <tr>\n",
       "      <th>4</th>\n",
       "      <td>1954400510</td>\n",
       "      <td>20150218T000000</td>\n",
       "      <td>510000.0</td>\n",
       "      <td>3</td>\n",
       "      <td>2.00</td>\n",
       "      <td>1680</td>\n",
       "      <td>8080</td>\n",
       "      <td>1.0</td>\n",
       "      <td>0</td>\n",
       "      <td>0</td>\n",
       "      <td>...</td>\n",
       "      <td>0</td>\n",
       "      <td>1987</td>\n",
       "      <td>0</td>\n",
       "      <td>98074</td>\n",
       "      <td>47.6168</td>\n",
       "      <td>-122.045</td>\n",
       "      <td>1800</td>\n",
       "      <td>7503</td>\n",
       "      <td>Eastlake Highschool</td>\n",
       "      <td>1.068886</td>\n",
       "    </tr>\n",
       "  </tbody>\n",
       "</table>\n",
       "<p>5 rows × 23 columns</p>\n",
       "</div>"
      ],
      "text/plain": [
       "           id             date     price  bedrooms  bathrooms  sqft_living  \\\n",
       "0  7129300520  20141013T000000  221900.0         3       1.00         1180   \n",
       "1  6414100192  20141209T000000  538000.0         3       2.25         2570   \n",
       "2  5631500400  20150225T000000  180000.0         2       1.00          770   \n",
       "3  2487200875  20141209T000000  604000.0         4       3.00         1960   \n",
       "4  1954400510  20150218T000000  510000.0         3       2.00         1680   \n",
       "\n",
       "   sqft_lot  floors  waterfront  view       ...        sqft_basement  \\\n",
       "0      5650     1.0           0     0       ...                    0   \n",
       "1      7242     2.0           0     0       ...                  400   \n",
       "2     10000     1.0           0     0       ...                    0   \n",
       "3      5000     1.0           0     0       ...                  910   \n",
       "4      8080     1.0           0     0       ...                    0   \n",
       "\n",
       "   yr_built  yr_renovated  zipcode      lat     long  sqft_living15  \\\n",
       "0      1955             0    98178  47.5112 -122.257           1340   \n",
       "1      1951          1991    98125  47.7210 -122.319           1690   \n",
       "2      1933             0    98028  47.7379 -122.233           2720   \n",
       "3      1965             0    98136  47.5208 -122.393           1360   \n",
       "4      1987             0    98074  47.6168 -122.045           1800   \n",
       "\n",
       "   sqft_lot15                   closest_school  dist_2_closest  \n",
       "0        5650                 Emerson ` School        0.413436  \n",
       "1        7639  Olympic Hills Elementary School        0.957701  \n",
       "2        8062      Moorlands Elementary School        0.171841  \n",
       "3        5000  Arbor Heights Elementary School        1.655133  \n",
       "4        7503              Eastlake Highschool        1.068886  \n",
       "\n",
       "[5 rows x 23 columns]"
      ]
     },
     "execution_count": 6,
     "metadata": {},
     "output_type": "execute_result"
    }
   ],
   "source": [
    "house_data.head()"
   ]
  },
  {
   "cell_type": "code",
   "execution_count": 35,
   "metadata": {
    "collapsed": true
   },
   "outputs": [],
   "source": [
    "writer = pd.ExcelWriter('kc_house_closest_school.xlsx')\n",
    "house_data.to_excel(writer,'house_school')"
   ]
  },
  {
   "cell_type": "code",
   "execution_count": 11,
   "metadata": {
    "collapsed": true
   },
   "outputs": [],
   "source": [
    "price_x = house_data['price'].tolist()\n",
    "dist_y = house_data['dist_2_closest'].tolist()"
   ]
  },
  {
   "cell_type": "code",
   "execution_count": 8,
   "metadata": {},
   "outputs": [
    {
     "data": {
      "text/plain": [
       "21613"
      ]
     },
     "execution_count": 8,
     "metadata": {},
     "output_type": "execute_result"
    }
   ],
   "source": [
    "len(pricex)"
   ]
  },
  {
   "cell_type": "code",
   "execution_count": 35,
   "metadata": {},
   "outputs": [
    {
     "data": {
      "image/png": "[encoded data removed]",
      "text/plain": [
       "<matplotlib.figure.Figure at 0x1abaef41390>"
      ]
     },
     "metadata": {},
     "output_type": "display_data"
    }
   ],
   "source": [
    "plt.figure(figsize=(10,8))\n",
    "plt.scatter(price_x, dist_y, s=9, cmap='blue',marker='o') \n",
    "plt.title('Distance to School vs Price', fontsize=18)\n",
    "plt.ylim(ymin=0)\n",
    "plt.xlim(xmin=0)\n",
    "plt.ylabel('Distance to School(km)',fontsize=18)\n",
    "plt.xlabel('Price', fontsize = 18)\n",
    "plt.xticks(rotation='vertical')\n",
    "plt.savefig('Distance_to_School')\n",
    "plt.show()"
   ]
  },
  {
   "cell_type": "code",
   "execution_count": null,
   "metadata": {
    "collapsed": true
   },
   "outputs": [],
   "source": []
  }
 ],
 "metadata": {
  "kernelspec": {
   "display_name": "Python 3",
   "language": "python",
   "name": "python3"
  },
  "language_info": {
   "codemirror_mode": {
    "name": "ipython",
    "version": 3
   },
   "file_extension": ".py",
   "mimetype": "text/x-python",
   "name": "python",
   "nbconvert_exporter": "python",
   "pygments_lexer": "ipython3",
   "version": "3.6.2"
  }
 },
 "nbformat": 4,
 "nbformat_minor": 2
}
