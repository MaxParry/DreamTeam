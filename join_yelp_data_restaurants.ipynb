{
 "cells": [
  {
   "cell_type": "markdown",
   "metadata": {},
   "source": [
    "# Joining Yelp Data to Original Dataset, Expensive Restaurants"
   ]
  },
  {
   "cell_type": "markdown",
   "metadata": {},
   "source": [
    "#### Import dependencies"
   ]
  },
  {
   "cell_type": "code",
   "execution_count": 156,
   "metadata": {},
   "outputs": [],
   "source": [
    "import pandas as pd\n",
    "import matplotlib.pyplot as plt\n",
    "import numpy as np"
   ]
  },
  {
   "cell_type": "markdown",
   "metadata": {},
   "source": [
    "#### Read in CSVs"
   ]
  },
  {
   "cell_type": "code",
   "execution_count": 157,
   "metadata": {},
   "outputs": [],
   "source": [
    "csv1 = pd.read_csv('joinable_kc_dataset.csv')\n",
    "csv2 = pd.read_csv('yelp_restaurants.csv')"
   ]
  },
  {
   "cell_type": "code",
   "execution_count": 158,
   "metadata": {},
   "outputs": [],
   "source": [
    "joinable_raw_data = pd.DataFrame(csv1)\n",
    "restaurants = pd.DataFrame(csv2)"
   ]
  },
  {
   "cell_type": "markdown",
   "metadata": {},
   "source": [
    "#### View the datasets"
   ]
  },
  {
   "cell_type": "code",
   "execution_count": 159,
   "metadata": {},
   "outputs": [
    {
     "data": {
      "text/html": [
       "<div>\n",
       "<style scoped>\n",
       "    .dataframe tbody tr th:only-of-type {\n",
       "        vertical-align: middle;\n",
       "    }\n",
       "\n",
       "    .dataframe tbody tr th {\n",
       "        vertical-align: top;\n",
       "    }\n",
       "\n",
       "    .dataframe thead th {\n",
       "        text-align: right;\n",
       "    }\n",
       "</style>\n",
       "<table border=\"1\" class=\"dataframe\">\n",
       "  <thead>\n",
       "    <tr style=\"text-align: right;\">\n",
       "      <th></th>\n",
       "      <th>id</th>\n",
       "      <th>date</th>\n",
       "      <th>price</th>\n",
       "      <th>bedrooms</th>\n",
       "      <th>bathrooms</th>\n",
       "      <th>sqft_living</th>\n",
       "      <th>sqft_lot</th>\n",
       "      <th>floors</th>\n",
       "      <th>waterfront</th>\n",
       "      <th>view</th>\n",
       "      <th>...</th>\n",
       "      <th>yr_built</th>\n",
       "      <th>yr_renovated</th>\n",
       "      <th>zipcode</th>\n",
       "      <th>lat</th>\n",
       "      <th>long</th>\n",
       "      <th>sqft_living15</th>\n",
       "      <th>sqft_lot15</th>\n",
       "      <th>lat_group</th>\n",
       "      <th>long_group</th>\n",
       "      <th>lat+long_group</th>\n",
       "    </tr>\n",
       "  </thead>\n",
       "  <tbody>\n",
       "    <tr>\n",
       "      <th>0</th>\n",
       "      <td>7129300520</td>\n",
       "      <td>20141013T000000</td>\n",
       "      <td>221900</td>\n",
       "      <td>3</td>\n",
       "      <td>1.00</td>\n",
       "      <td>1180</td>\n",
       "      <td>5650</td>\n",
       "      <td>1.0</td>\n",
       "      <td>0</td>\n",
       "      <td>0</td>\n",
       "      <td>...</td>\n",
       "      <td>1955</td>\n",
       "      <td>0</td>\n",
       "      <td>98178</td>\n",
       "      <td>47.5112</td>\n",
       "      <td>-122.257</td>\n",
       "      <td>1340</td>\n",
       "      <td>5650</td>\n",
       "      <td>47.516708</td>\n",
       "      <td>-122.253</td>\n",
       "      <td>47.51670803571437,-122.2529999999999</td>\n",
       "    </tr>\n",
       "    <tr>\n",
       "      <th>1</th>\n",
       "      <td>6414100192</td>\n",
       "      <td>20141209T000000</td>\n",
       "      <td>538000</td>\n",
       "      <td>3</td>\n",
       "      <td>2.25</td>\n",
       "      <td>2570</td>\n",
       "      <td>7242</td>\n",
       "      <td>2.0</td>\n",
       "      <td>0</td>\n",
       "      <td>0</td>\n",
       "      <td>...</td>\n",
       "      <td>1951</td>\n",
       "      <td>1991</td>\n",
       "      <td>98125</td>\n",
       "      <td>47.7210</td>\n",
       "      <td>-122.319</td>\n",
       "      <td>1690</td>\n",
       "      <td>7639</td>\n",
       "      <td>47.716540</td>\n",
       "      <td>-122.309</td>\n",
       "      <td>47.71654017857156,-122.3089999999999</td>\n",
       "    </tr>\n",
       "    <tr>\n",
       "      <th>2</th>\n",
       "      <td>5631500400</td>\n",
       "      <td>20150225T000000</td>\n",
       "      <td>180000</td>\n",
       "      <td>2</td>\n",
       "      <td>1.00</td>\n",
       "      <td>770</td>\n",
       "      <td>10000</td>\n",
       "      <td>1.0</td>\n",
       "      <td>0</td>\n",
       "      <td>0</td>\n",
       "      <td>...</td>\n",
       "      <td>1933</td>\n",
       "      <td>0</td>\n",
       "      <td>98028</td>\n",
       "      <td>47.7379</td>\n",
       "      <td>-122.233</td>\n",
       "      <td>2720</td>\n",
       "      <td>8062</td>\n",
       "      <td>47.738744</td>\n",
       "      <td>-122.225</td>\n",
       "      <td>47.73874375000014,-122.2249999999999</td>\n",
       "    </tr>\n",
       "    <tr>\n",
       "      <th>3</th>\n",
       "      <td>2487200875</td>\n",
       "      <td>20141209T000000</td>\n",
       "      <td>604000</td>\n",
       "      <td>4</td>\n",
       "      <td>3.00</td>\n",
       "      <td>1960</td>\n",
       "      <td>5000</td>\n",
       "      <td>1.0</td>\n",
       "      <td>0</td>\n",
       "      <td>0</td>\n",
       "      <td>...</td>\n",
       "      <td>1965</td>\n",
       "      <td>0</td>\n",
       "      <td>98136</td>\n",
       "      <td>47.5208</td>\n",
       "      <td>-122.393</td>\n",
       "      <td>1360</td>\n",
       "      <td>5000</td>\n",
       "      <td>47.516708</td>\n",
       "      <td>-122.393</td>\n",
       "      <td>47.51670803571437,-122.393</td>\n",
       "    </tr>\n",
       "    <tr>\n",
       "      <th>4</th>\n",
       "      <td>1954400510</td>\n",
       "      <td>20150218T000000</td>\n",
       "      <td>510000</td>\n",
       "      <td>3</td>\n",
       "      <td>2.00</td>\n",
       "      <td>1680</td>\n",
       "      <td>8080</td>\n",
       "      <td>1.0</td>\n",
       "      <td>0</td>\n",
       "      <td>0</td>\n",
       "      <td>...</td>\n",
       "      <td>1987</td>\n",
       "      <td>0</td>\n",
       "      <td>98074</td>\n",
       "      <td>47.6168</td>\n",
       "      <td>-122.045</td>\n",
       "      <td>1800</td>\n",
       "      <td>7503</td>\n",
       "      <td>47.616624</td>\n",
       "      <td>-122.057</td>\n",
       "      <td>47.61662410714297,-122.0569999999999</td>\n",
       "    </tr>\n",
       "  </tbody>\n",
       "</table>\n",
       "<p>5 rows × 24 columns</p>\n",
       "</div>"
      ],
      "text/plain": [
       "           id             date   price  bedrooms  bathrooms  sqft_living  \\\n",
       "0  7129300520  20141013T000000  221900         3       1.00         1180   \n",
       "1  6414100192  20141209T000000  538000         3       2.25         2570   \n",
       "2  5631500400  20150225T000000  180000         2       1.00          770   \n",
       "3  2487200875  20141209T000000  604000         4       3.00         1960   \n",
       "4  1954400510  20150218T000000  510000         3       2.00         1680   \n",
       "\n",
       "   sqft_lot  floors  waterfront  view                  ...                   \\\n",
       "0      5650     1.0           0     0                  ...                    \n",
       "1      7242     2.0           0     0                  ...                    \n",
       "2     10000     1.0           0     0                  ...                    \n",
       "3      5000     1.0           0     0                  ...                    \n",
       "4      8080     1.0           0     0                  ...                    \n",
       "\n",
       "   yr_built  yr_renovated  zipcode      lat     long  sqft_living15  \\\n",
       "0      1955             0    98178  47.5112 -122.257           1340   \n",
       "1      1951          1991    98125  47.7210 -122.319           1690   \n",
       "2      1933             0    98028  47.7379 -122.233           2720   \n",
       "3      1965             0    98136  47.5208 -122.393           1360   \n",
       "4      1987             0    98074  47.6168 -122.045           1800   \n",
       "\n",
       "   sqft_lot15  lat_group  long_group                        lat+long_group  \n",
       "0        5650  47.516708    -122.253  47.51670803571437,-122.2529999999999  \n",
       "1        7639  47.716540    -122.309  47.71654017857156,-122.3089999999999  \n",
       "2        8062  47.738744    -122.225  47.73874375000014,-122.2249999999999  \n",
       "3        5000  47.516708    -122.393            47.51670803571437,-122.393  \n",
       "4        7503  47.616624    -122.057  47.61662410714297,-122.0569999999999  \n",
       "\n",
       "[5 rows x 24 columns]"
      ]
     },
     "execution_count": 159,
     "metadata": {},
     "output_type": "execute_result"
    }
   ],
   "source": [
    "joinable_raw_data.head()"
   ]
  },
  {
   "cell_type": "code",
   "execution_count": 160,
   "metadata": {},
   "outputs": [
    {
     "data": {
      "text/plain": [
       "Index(['id', 'date', 'price', 'bedrooms', 'bathrooms', 'sqft_living',\n",
       "       'sqft_lot', 'floors', 'waterfront', 'view', 'condition', 'grade',\n",
       "       'sqft_above', 'sqft_basement', 'yr_built', 'yr_renovated', 'zipcode',\n",
       "       'lat', 'long', 'sqft_living15', 'sqft_lot15', 'lat_group', 'long_group',\n",
       "       'lat+long_group'],\n",
       "      dtype='object')"
      ]
     },
     "execution_count": 160,
     "metadata": {},
     "output_type": "execute_result"
    }
   ],
   "source": [
    "joinable_raw_data.columns"
   ]
  },
  {
   "cell_type": "code",
   "execution_count": 161,
   "metadata": {},
   "outputs": [
    {
     "data": {
      "text/html": [
       "<div>\n",
       "<style scoped>\n",
       "    .dataframe tbody tr th:only-of-type {\n",
       "        vertical-align: middle;\n",
       "    }\n",
       "\n",
       "    .dataframe tbody tr th {\n",
       "        vertical-align: top;\n",
       "    }\n",
       "\n",
       "    .dataframe thead th {\n",
       "        text-align: right;\n",
       "    }\n",
       "</style>\n",
       "<table border=\"1\" class=\"dataframe\">\n",
       "  <thead>\n",
       "    <tr style=\"text-align: right;\">\n",
       "      <th></th>\n",
       "      <th>lat+long_group</th>\n",
       "      <th>Number of Expensive Restaurants</th>\n",
       "    </tr>\n",
       "  </thead>\n",
       "  <tbody>\n",
       "    <tr>\n",
       "      <th>0</th>\n",
       "      <td>47.51670803571437,-122.2529999999999</td>\n",
       "      <td>0</td>\n",
       "    </tr>\n",
       "    <tr>\n",
       "      <th>1</th>\n",
       "      <td>47.71654017857156,-122.3089999999999</td>\n",
       "      <td>0</td>\n",
       "    </tr>\n",
       "    <tr>\n",
       "      <th>2</th>\n",
       "      <td>47.73874375000014,-122.2249999999999</td>\n",
       "      <td>0</td>\n",
       "    </tr>\n",
       "    <tr>\n",
       "      <th>3</th>\n",
       "      <td>47.51670803571437,-122.393</td>\n",
       "      <td>1</td>\n",
       "    </tr>\n",
       "    <tr>\n",
       "      <th>4</th>\n",
       "      <td>47.61662410714297,-122.0569999999999</td>\n",
       "      <td>0</td>\n",
       "    </tr>\n",
       "  </tbody>\n",
       "</table>\n",
       "</div>"
      ],
      "text/plain": [
       "                         lat+long_group  Number of Expensive Restaurants\n",
       "0  47.51670803571437,-122.2529999999999                                0\n",
       "1  47.71654017857156,-122.3089999999999                                0\n",
       "2  47.73874375000014,-122.2249999999999                                0\n",
       "3            47.51670803571437,-122.393                                1\n",
       "4  47.61662410714297,-122.0569999999999                                0"
      ]
     },
     "execution_count": 161,
     "metadata": {},
     "output_type": "execute_result"
    }
   ],
   "source": [
    "restaurants.head()"
   ]
  },
  {
   "cell_type": "markdown",
   "metadata": {},
   "source": [
    "#### Join datasets"
   ]
  },
  {
   "cell_type": "code",
   "execution_count": 163,
   "metadata": {},
   "outputs": [
    {
     "data": {
      "text/html": [
       "<div>\n",
       "<style scoped>\n",
       "    .dataframe tbody tr th:only-of-type {\n",
       "        vertical-align: middle;\n",
       "    }\n",
       "\n",
       "    .dataframe tbody tr th {\n",
       "        vertical-align: top;\n",
       "    }\n",
       "\n",
       "    .dataframe thead th {\n",
       "        text-align: right;\n",
       "    }\n",
       "</style>\n",
       "<table border=\"1\" class=\"dataframe\">\n",
       "  <thead>\n",
       "    <tr style=\"text-align: right;\">\n",
       "      <th></th>\n",
       "      <th>id</th>\n",
       "      <th>date</th>\n",
       "      <th>price</th>\n",
       "      <th>bedrooms</th>\n",
       "      <th>bathrooms</th>\n",
       "      <th>sqft_living</th>\n",
       "      <th>sqft_lot</th>\n",
       "      <th>floors</th>\n",
       "      <th>waterfront</th>\n",
       "      <th>view</th>\n",
       "      <th>...</th>\n",
       "      <th>yr_renovated</th>\n",
       "      <th>zipcode</th>\n",
       "      <th>lat</th>\n",
       "      <th>long</th>\n",
       "      <th>sqft_living15</th>\n",
       "      <th>sqft_lot15</th>\n",
       "      <th>lat_group</th>\n",
       "      <th>long_group</th>\n",
       "      <th>lat+long_group</th>\n",
       "      <th>Number of Expensive Restaurants</th>\n",
       "    </tr>\n",
       "  </thead>\n",
       "  <tbody>\n",
       "    <tr>\n",
       "      <th>0</th>\n",
       "      <td>7129300520</td>\n",
       "      <td>20141013T000000</td>\n",
       "      <td>221900</td>\n",
       "      <td>3</td>\n",
       "      <td>1.00</td>\n",
       "      <td>1180</td>\n",
       "      <td>5650</td>\n",
       "      <td>1.0</td>\n",
       "      <td>0</td>\n",
       "      <td>0</td>\n",
       "      <td>...</td>\n",
       "      <td>0</td>\n",
       "      <td>98178</td>\n",
       "      <td>47.5112</td>\n",
       "      <td>-122.257</td>\n",
       "      <td>1340</td>\n",
       "      <td>5650</td>\n",
       "      <td>47.516708</td>\n",
       "      <td>-122.253</td>\n",
       "      <td>47.51670803571437,-122.2529999999999</td>\n",
       "      <td>0.0</td>\n",
       "    </tr>\n",
       "    <tr>\n",
       "      <th>1</th>\n",
       "      <td>6414100192</td>\n",
       "      <td>20141209T000000</td>\n",
       "      <td>538000</td>\n",
       "      <td>3</td>\n",
       "      <td>2.25</td>\n",
       "      <td>2570</td>\n",
       "      <td>7242</td>\n",
       "      <td>2.0</td>\n",
       "      <td>0</td>\n",
       "      <td>0</td>\n",
       "      <td>...</td>\n",
       "      <td>1991</td>\n",
       "      <td>98125</td>\n",
       "      <td>47.7210</td>\n",
       "      <td>-122.319</td>\n",
       "      <td>1690</td>\n",
       "      <td>7639</td>\n",
       "      <td>47.716540</td>\n",
       "      <td>-122.309</td>\n",
       "      <td>47.71654017857156,-122.3089999999999</td>\n",
       "      <td>0.0</td>\n",
       "    </tr>\n",
       "    <tr>\n",
       "      <th>2</th>\n",
       "      <td>5631500400</td>\n",
       "      <td>20150225T000000</td>\n",
       "      <td>180000</td>\n",
       "      <td>2</td>\n",
       "      <td>1.00</td>\n",
       "      <td>770</td>\n",
       "      <td>10000</td>\n",
       "      <td>1.0</td>\n",
       "      <td>0</td>\n",
       "      <td>0</td>\n",
       "      <td>...</td>\n",
       "      <td>0</td>\n",
       "      <td>98028</td>\n",
       "      <td>47.7379</td>\n",
       "      <td>-122.233</td>\n",
       "      <td>2720</td>\n",
       "      <td>8062</td>\n",
       "      <td>47.738744</td>\n",
       "      <td>-122.225</td>\n",
       "      <td>47.73874375000014,-122.2249999999999</td>\n",
       "      <td>0.0</td>\n",
       "    </tr>\n",
       "    <tr>\n",
       "      <th>3</th>\n",
       "      <td>2487200875</td>\n",
       "      <td>20141209T000000</td>\n",
       "      <td>604000</td>\n",
       "      <td>4</td>\n",
       "      <td>3.00</td>\n",
       "      <td>1960</td>\n",
       "      <td>5000</td>\n",
       "      <td>1.0</td>\n",
       "      <td>0</td>\n",
       "      <td>0</td>\n",
       "      <td>...</td>\n",
       "      <td>0</td>\n",
       "      <td>98136</td>\n",
       "      <td>47.5208</td>\n",
       "      <td>-122.393</td>\n",
       "      <td>1360</td>\n",
       "      <td>5000</td>\n",
       "      <td>47.516708</td>\n",
       "      <td>-122.393</td>\n",
       "      <td>47.51670803571437,-122.393</td>\n",
       "      <td>1.0</td>\n",
       "    </tr>\n",
       "    <tr>\n",
       "      <th>4</th>\n",
       "      <td>1954400510</td>\n",
       "      <td>20150218T000000</td>\n",
       "      <td>510000</td>\n",
       "      <td>3</td>\n",
       "      <td>2.00</td>\n",
       "      <td>1680</td>\n",
       "      <td>8080</td>\n",
       "      <td>1.0</td>\n",
       "      <td>0</td>\n",
       "      <td>0</td>\n",
       "      <td>...</td>\n",
       "      <td>0</td>\n",
       "      <td>98074</td>\n",
       "      <td>47.6168</td>\n",
       "      <td>-122.045</td>\n",
       "      <td>1800</td>\n",
       "      <td>7503</td>\n",
       "      <td>47.616624</td>\n",
       "      <td>-122.057</td>\n",
       "      <td>47.61662410714297,-122.0569999999999</td>\n",
       "      <td>0.0</td>\n",
       "    </tr>\n",
       "  </tbody>\n",
       "</table>\n",
       "<p>5 rows × 25 columns</p>\n",
       "</div>"
      ],
      "text/plain": [
       "           id             date   price  bedrooms  bathrooms  sqft_living  \\\n",
       "0  7129300520  20141013T000000  221900         3       1.00         1180   \n",
       "1  6414100192  20141209T000000  538000         3       2.25         2570   \n",
       "2  5631500400  20150225T000000  180000         2       1.00          770   \n",
       "3  2487200875  20141209T000000  604000         4       3.00         1960   \n",
       "4  1954400510  20150218T000000  510000         3       2.00         1680   \n",
       "\n",
       "   sqft_lot  floors  waterfront  view               ...                 \\\n",
       "0      5650     1.0           0     0               ...                  \n",
       "1      7242     2.0           0     0               ...                  \n",
       "2     10000     1.0           0     0               ...                  \n",
       "3      5000     1.0           0     0               ...                  \n",
       "4      8080     1.0           0     0               ...                  \n",
       "\n",
       "   yr_renovated  zipcode      lat     long  sqft_living15  sqft_lot15  \\\n",
       "0             0    98178  47.5112 -122.257           1340        5650   \n",
       "1          1991    98125  47.7210 -122.319           1690        7639   \n",
       "2             0    98028  47.7379 -122.233           2720        8062   \n",
       "3             0    98136  47.5208 -122.393           1360        5000   \n",
       "4             0    98074  47.6168 -122.045           1800        7503   \n",
       "\n",
       "   lat_group  long_group                        lat+long_group  \\\n",
       "0  47.516708    -122.253  47.51670803571437,-122.2529999999999   \n",
       "1  47.716540    -122.309  47.71654017857156,-122.3089999999999   \n",
       "2  47.738744    -122.225  47.73874375000014,-122.2249999999999   \n",
       "3  47.516708    -122.393            47.51670803571437,-122.393   \n",
       "4  47.616624    -122.057  47.61662410714297,-122.0569999999999   \n",
       "\n",
       "   Number of Expensive Restaurants  \n",
       "0                              0.0  \n",
       "1                              0.0  \n",
       "2                              0.0  \n",
       "3                              1.0  \n",
       "4                              0.0  \n",
       "\n",
       "[5 rows x 25 columns]"
      ]
     },
     "execution_count": 163,
     "metadata": {},
     "output_type": "execute_result"
    }
   ],
   "source": [
    "df = joinable_raw_data.join(restaurants['Number of Expensive Restaurants'], how='outer')\n",
    "df.head()"
   ]
  },
  {
   "cell_type": "markdown",
   "metadata": {},
   "source": [
    "#### Drop rows with no data"
   ]
  },
  {
   "cell_type": "code",
   "execution_count": 164,
   "metadata": {},
   "outputs": [
    {
     "data": {
      "text/plain": [
       "21436"
      ]
     },
     "execution_count": 164,
     "metadata": {},
     "output_type": "execute_result"
    }
   ],
   "source": [
    "len(df)"
   ]
  },
  {
   "cell_type": "code",
   "execution_count": 165,
   "metadata": {},
   "outputs": [],
   "source": [
    "df2 = df.dropna()"
   ]
  },
  {
   "cell_type": "code",
   "execution_count": 166,
   "metadata": {},
   "outputs": [
    {
     "data": {
      "text/plain": [
       "21435"
      ]
     },
     "execution_count": 166,
     "metadata": {},
     "output_type": "execute_result"
    }
   ],
   "source": [
    "len(df2)"
   ]
  },
  {
   "cell_type": "code",
   "execution_count": 167,
   "metadata": {},
   "outputs": [
    {
     "data": {
      "text/plain": [
       "263.99122609195075"
      ]
     },
     "execution_count": 167,
     "metadata": {},
     "output_type": "execute_result"
    }
   ],
   "source": [
    "pd.Series(df2['price']/df2['sqft_living']).mean()"
   ]
  },
  {
   "cell_type": "markdown",
   "metadata": {},
   "source": [
    "#### Plot"
   ]
  },
  {
   "cell_type": "code",
   "execution_count": 168,
   "metadata": {},
   "outputs": [
    {
     "data": {
      "image/png": "[encoded data removed]",
      "text/plain": [
       "<matplotlib.figure.Figure at 0x1188ca208>"
      ]
     },
     "metadata": {},
     "output_type": "display_data"
    }
   ],
   "source": [
    "#plt.figure(figsize=(20,10))\n",
    "plt.scatter(df2['price']/df2['sqft_living'], df2['Number of Expensive Restaurants'], s=20)\n",
    "#plt.xlim(0,1250000)\n",
    "plt.show()"
   ]
  },
  {
   "cell_type": "code",
   "execution_count": 169,
   "metadata": {},
   "outputs": [],
   "source": [
    "df3 = df2[df2['Number of Expensive Restaurants'] >= 3]\n",
    "df4 = df2[df2['Number of Expensive Restaurants'] < 3]"
   ]
  },
  {
   "cell_type": "code",
   "execution_count": 170,
   "metadata": {},
   "outputs": [
    {
     "name": "stdout",
     "output_type": "stream",
     "text": [
      "651181.3486880467\n",
      "500811.27682374656\n",
      "1715\n"
     ]
    }
   ],
   "source": [
    "print(df3['price'].mean())\n",
    "print(df3['price'].std())\n",
    "print(len(df3))"
   ]
  },
  {
   "cell_type": "code",
   "execution_count": 171,
   "metadata": {},
   "outputs": [
    {
     "name": "stdout",
     "output_type": "stream",
     "text": [
      "531019.6134381338\n",
      "352406.4713352546\n",
      "19720\n"
     ]
    }
   ],
   "source": [
    "print(df4['price'].mean())\n",
    "print(df4['price'].std())\n",
    "print(len(df4))"
   ]
  },
  {
   "cell_type": "markdown",
   "metadata": {},
   "source": [
    "#### Linear Regression"
   ]
  },
  {
   "cell_type": "code",
   "execution_count": 172,
   "metadata": {},
   "outputs": [
    {
     "data": {
      "text/plain": [
       "Text(0,0.5,'Number of Expensive Restaurants')"
      ]
     },
     "execution_count": 172,
     "metadata": {},
     "output_type": "execute_result"
    }
   ],
   "source": [
    "fig, ax = plt.subplots()\n",
    "fit = np.polyfit((pd.Series(df2['price']/df2['sqft_living'])),\n",
    "                 df2['Number of Expensive Restaurants'], deg=1)\n",
    "ax.plot(pd.Series(df2['price']/df2['sqft_living']), fit[0] \n",
    "        * pd.Series(df2['price']/df2['sqft_living']) + fit[1],\n",
    "        color='red')\n",
    "ax.scatter((pd.Series(df2['price']/df2['sqft_living'])),\n",
    "           df2['Number of Expensive Restaurants'], s=1)\n",
    "plt.xlim(0, 1000)\n",
    "plt.ylim(0, 60)\n",
    "plt.title('Price Per SQFT vs. # of Expensive Restaurants')\n",
    "plt.xlabel('Price Per SQFT')\n",
    "plt.ylabel('Number of Expensive Restaurants')\n",
    "\n"
   ]
  },
  {
   "cell_type": "code",
   "execution_count": 173,
   "metadata": {},
   "outputs": [
    {
     "data": {
      "image/png": "[encoded data removed]",
      "text/plain": [
       "<matplotlib.figure.Figure at 0x11853f240>"
      ]
     },
     "metadata": {},
     "output_type": "display_data"
    }
   ],
   "source": [
    "plt.show()"
   ]
  },
  {
   "cell_type": "code",
   "execution_count": 192,
   "metadata": {},
   "outputs": [
    {
     "data": {
      "text/html": [
       "<div>\n",
       "<style scoped>\n",
       "    .dataframe tbody tr th:only-of-type {\n",
       "        vertical-align: middle;\n",
       "    }\n",
       "\n",
       "    .dataframe tbody tr th {\n",
       "        vertical-align: top;\n",
       "    }\n",
       "\n",
       "    .dataframe thead th {\n",
       "        text-align: right;\n",
       "    }\n",
       "</style>\n",
       "<table border=\"1\" class=\"dataframe\">\n",
       "  <thead>\n",
       "    <tr style=\"text-align: right;\">\n",
       "      <th></th>\n",
       "      <th>id</th>\n",
       "      <th>date</th>\n",
       "      <th>price</th>\n",
       "      <th>bedrooms</th>\n",
       "      <th>bathrooms</th>\n",
       "      <th>sqft_living</th>\n",
       "      <th>sqft_lot</th>\n",
       "      <th>floors</th>\n",
       "      <th>waterfront</th>\n",
       "      <th>view</th>\n",
       "      <th>...</th>\n",
       "      <th>yr_renovated</th>\n",
       "      <th>zipcode</th>\n",
       "      <th>lat</th>\n",
       "      <th>long</th>\n",
       "      <th>sqft_living15</th>\n",
       "      <th>sqft_lot15</th>\n",
       "      <th>lat_group</th>\n",
       "      <th>long_group</th>\n",
       "      <th>lat+long_group</th>\n",
       "      <th>Number of Expensive Restaurants</th>\n",
       "    </tr>\n",
       "  </thead>\n",
       "  <tbody>\n",
       "    <tr>\n",
       "      <th>3575</th>\n",
       "      <td>6848200475</td>\n",
       "      <td>20141126T000000</td>\n",
       "      <td>933000</td>\n",
       "      <td>3</td>\n",
       "      <td>1.5</td>\n",
       "      <td>1870</td>\n",
       "      <td>3300</td>\n",
       "      <td>2.0</td>\n",
       "      <td>0</td>\n",
       "      <td>2</td>\n",
       "      <td>...</td>\n",
       "      <td>0</td>\n",
       "      <td>98102</td>\n",
       "      <td>47.6221</td>\n",
       "      <td>-122.325</td>\n",
       "      <td>1820</td>\n",
       "      <td>2460</td>\n",
       "      <td>47.616624</td>\n",
       "      <td>-122.337</td>\n",
       "      <td>47.61662410714297,-122.3369999999999</td>\n",
       "      <td>45.0</td>\n",
       "    </tr>\n",
       "  </tbody>\n",
       "</table>\n",
       "<p>1 rows × 25 columns</p>\n",
       "</div>"
      ],
      "text/plain": [
       "              id             date   price  bedrooms  bathrooms  sqft_living  \\\n",
       "3575  6848200475  20141126T000000  933000         3        1.5         1870   \n",
       "\n",
       "      sqft_lot  floors  waterfront  view               ...                 \\\n",
       "3575      3300     2.0           0     2               ...                  \n",
       "\n",
       "      yr_renovated  zipcode      lat     long  sqft_living15  sqft_lot15  \\\n",
       "3575             0    98102  47.6221 -122.325           1820        2460   \n",
       "\n",
       "      lat_group  long_group                        lat+long_group  \\\n",
       "3575  47.616624    -122.337  47.61662410714297,-122.3369999999999   \n",
       "\n",
       "      Number of Expensive Restaurants  \n",
       "3575                             45.0  \n",
       "\n",
       "[1 rows x 25 columns]"
      ]
     },
     "execution_count": 192,
     "metadata": {},
     "output_type": "execute_result"
    }
   ],
   "source": [
    "df2[(df2['Number of Expensive Restaurants'] >= 30)].head()"
   ]
  },
  {
   "cell_type": "code",
   "execution_count": 195,
   "metadata": {},
   "outputs": [
    {
     "data": {
      "text/html": [
       "<div>\n",
       "<style scoped>\n",
       "    .dataframe tbody tr th:only-of-type {\n",
       "        vertical-align: middle;\n",
       "    }\n",
       "\n",
       "    .dataframe tbody tr th {\n",
       "        vertical-align: top;\n",
       "    }\n",
       "\n",
       "    .dataframe thead th {\n",
       "        text-align: right;\n",
       "    }\n",
       "</style>\n",
       "<table border=\"1\" class=\"dataframe\">\n",
       "  <thead>\n",
       "    <tr style=\"text-align: right;\">\n",
       "      <th></th>\n",
       "      <th>id</th>\n",
       "      <th>date</th>\n",
       "      <th>price</th>\n",
       "      <th>bedrooms</th>\n",
       "      <th>bathrooms</th>\n",
       "      <th>sqft_living</th>\n",
       "      <th>sqft_lot</th>\n",
       "      <th>floors</th>\n",
       "      <th>waterfront</th>\n",
       "      <th>view</th>\n",
       "      <th>...</th>\n",
       "      <th>yr_renovated</th>\n",
       "      <th>zipcode</th>\n",
       "      <th>lat</th>\n",
       "      <th>long</th>\n",
       "      <th>sqft_living15</th>\n",
       "      <th>sqft_lot15</th>\n",
       "      <th>lat_group</th>\n",
       "      <th>long_group</th>\n",
       "      <th>lat+long_group</th>\n",
       "      <th>Number of Expensive Restaurants</th>\n",
       "    </tr>\n",
       "  </thead>\n",
       "  <tbody>\n",
       "    <tr>\n",
       "      <th>520</th>\n",
       "      <td>4348800030</td>\n",
       "      <td>20141121T000000</td>\n",
       "      <td>727500</td>\n",
       "      <td>2</td>\n",
       "      <td>2.00</td>\n",
       "      <td>1240</td>\n",
       "      <td>9119</td>\n",
       "      <td>1.0</td>\n",
       "      <td>0</td>\n",
       "      <td>0</td>\n",
       "      <td>...</td>\n",
       "      <td>0</td>\n",
       "      <td>98004</td>\n",
       "      <td>47.6221</td>\n",
       "      <td>-122.193</td>\n",
       "      <td>1380</td>\n",
       "      <td>9121</td>\n",
       "      <td>47.616624</td>\n",
       "      <td>-122.197</td>\n",
       "      <td>47.61662410714297,-122.1969999999999</td>\n",
       "      <td>25.0</td>\n",
       "    </tr>\n",
       "    <tr>\n",
       "      <th>1260</th>\n",
       "      <td>4389200765</td>\n",
       "      <td>20140625T000000</td>\n",
       "      <td>2300000</td>\n",
       "      <td>4</td>\n",
       "      <td>3.25</td>\n",
       "      <td>4250</td>\n",
       "      <td>8570</td>\n",
       "      <td>2.0</td>\n",
       "      <td>0</td>\n",
       "      <td>0</td>\n",
       "      <td>...</td>\n",
       "      <td>0</td>\n",
       "      <td>98004</td>\n",
       "      <td>47.6154</td>\n",
       "      <td>-122.210</td>\n",
       "      <td>2830</td>\n",
       "      <td>12821</td>\n",
       "      <td>47.616624</td>\n",
       "      <td>-122.197</td>\n",
       "      <td>47.61662410714297,-122.1969999999999</td>\n",
       "      <td>25.0</td>\n",
       "    </tr>\n",
       "    <tr>\n",
       "      <th>1270</th>\n",
       "      <td>8964800445</td>\n",
       "      <td>20150209T000000</td>\n",
       "      <td>2260000</td>\n",
       "      <td>3</td>\n",
       "      <td>3.50</td>\n",
       "      <td>3110</td>\n",
       "      <td>14872</td>\n",
       "      <td>1.0</td>\n",
       "      <td>0</td>\n",
       "      <td>0</td>\n",
       "      <td>...</td>\n",
       "      <td>0</td>\n",
       "      <td>98004</td>\n",
       "      <td>47.6178</td>\n",
       "      <td>-122.209</td>\n",
       "      <td>3110</td>\n",
       "      <td>12433</td>\n",
       "      <td>47.616624</td>\n",
       "      <td>-122.197</td>\n",
       "      <td>47.61662410714297,-122.1969999999999</td>\n",
       "      <td>25.0</td>\n",
       "    </tr>\n",
       "    <tr>\n",
       "      <th>1519</th>\n",
       "      <td>4395600060</td>\n",
       "      <td>20140630T000000</td>\n",
       "      <td>935000</td>\n",
       "      <td>2</td>\n",
       "      <td>2.50</td>\n",
       "      <td>1780</td>\n",
       "      <td>2067</td>\n",
       "      <td>2.0</td>\n",
       "      <td>0</td>\n",
       "      <td>0</td>\n",
       "      <td>...</td>\n",
       "      <td>0</td>\n",
       "      <td>98004</td>\n",
       "      <td>47.6132</td>\n",
       "      <td>-122.210</td>\n",
       "      <td>2320</td>\n",
       "      <td>2067</td>\n",
       "      <td>47.616624</td>\n",
       "      <td>-122.197</td>\n",
       "      <td>47.61662410714297,-122.1969999999999</td>\n",
       "      <td>25.0</td>\n",
       "    </tr>\n",
       "    <tr>\n",
       "      <th>1569</th>\n",
       "      <td>8964800370</td>\n",
       "      <td>20141022T000000</td>\n",
       "      <td>1380000</td>\n",
       "      <td>3</td>\n",
       "      <td>1.50</td>\n",
       "      <td>1850</td>\n",
       "      <td>10572</td>\n",
       "      <td>1.0</td>\n",
       "      <td>0</td>\n",
       "      <td>0</td>\n",
       "      <td>...</td>\n",
       "      <td>0</td>\n",
       "      <td>98004</td>\n",
       "      <td>47.6194</td>\n",
       "      <td>-122.208</td>\n",
       "      <td>3030</td>\n",
       "      <td>12752</td>\n",
       "      <td>47.616624</td>\n",
       "      <td>-122.197</td>\n",
       "      <td>47.61662410714297,-122.1969999999999</td>\n",
       "      <td>25.0</td>\n",
       "    </tr>\n",
       "    <tr>\n",
       "      <th>2716</th>\n",
       "      <td>1552100135</td>\n",
       "      <td>20140609T000000</td>\n",
       "      <td>1150000</td>\n",
       "      <td>3</td>\n",
       "      <td>2.50</td>\n",
       "      <td>2850</td>\n",
       "      <td>10474</td>\n",
       "      <td>1.0</td>\n",
       "      <td>0</td>\n",
       "      <td>0</td>\n",
       "      <td>...</td>\n",
       "      <td>0</td>\n",
       "      <td>98004</td>\n",
       "      <td>47.6218</td>\n",
       "      <td>-122.209</td>\n",
       "      <td>2820</td>\n",
       "      <td>10474</td>\n",
       "      <td>47.616624</td>\n",
       "      <td>-122.197</td>\n",
       "      <td>47.61662410714297,-122.1969999999999</td>\n",
       "      <td>25.0</td>\n",
       "    </tr>\n",
       "    <tr>\n",
       "      <th>3575</th>\n",
       "      <td>6848200475</td>\n",
       "      <td>20141126T000000</td>\n",
       "      <td>933000</td>\n",
       "      <td>3</td>\n",
       "      <td>1.50</td>\n",
       "      <td>1870</td>\n",
       "      <td>3300</td>\n",
       "      <td>2.0</td>\n",
       "      <td>0</td>\n",
       "      <td>2</td>\n",
       "      <td>...</td>\n",
       "      <td>0</td>\n",
       "      <td>98102</td>\n",
       "      <td>47.6221</td>\n",
       "      <td>-122.325</td>\n",
       "      <td>1820</td>\n",
       "      <td>2460</td>\n",
       "      <td>47.616624</td>\n",
       "      <td>-122.337</td>\n",
       "      <td>47.61662410714297,-122.3369999999999</td>\n",
       "      <td>45.0</td>\n",
       "    </tr>\n",
       "    <tr>\n",
       "      <th>5812</th>\n",
       "      <td>4348800080</td>\n",
       "      <td>20140711T000000</td>\n",
       "      <td>641200</td>\n",
       "      <td>3</td>\n",
       "      <td>1.00</td>\n",
       "      <td>1060</td>\n",
       "      <td>9123</td>\n",
       "      <td>1.0</td>\n",
       "      <td>0</td>\n",
       "      <td>0</td>\n",
       "      <td>...</td>\n",
       "      <td>0</td>\n",
       "      <td>98004</td>\n",
       "      <td>47.6218</td>\n",
       "      <td>-122.193</td>\n",
       "      <td>1620</td>\n",
       "      <td>9121</td>\n",
       "      <td>47.616624</td>\n",
       "      <td>-122.197</td>\n",
       "      <td>47.61662410714297,-122.1969999999999</td>\n",
       "      <td>25.0</td>\n",
       "    </tr>\n",
       "    <tr>\n",
       "      <th>6306</th>\n",
       "      <td>4340000080</td>\n",
       "      <td>20150327T000000</td>\n",
       "      <td>1450000</td>\n",
       "      <td>4</td>\n",
       "      <td>3.50</td>\n",
       "      <td>2820</td>\n",
       "      <td>7809</td>\n",
       "      <td>2.0</td>\n",
       "      <td>0</td>\n",
       "      <td>0</td>\n",
       "      <td>...</td>\n",
       "      <td>0</td>\n",
       "      <td>98004</td>\n",
       "      <td>47.6220</td>\n",
       "      <td>-122.195</td>\n",
       "      <td>2630</td>\n",
       "      <td>7904</td>\n",
       "      <td>47.616624</td>\n",
       "      <td>-122.197</td>\n",
       "      <td>47.61662410714297,-122.1969999999999</td>\n",
       "      <td>25.0</td>\n",
       "    </tr>\n",
       "    <tr>\n",
       "      <th>6768</th>\n",
       "      <td>8964800225</td>\n",
       "      <td>20150303T000000</td>\n",
       "      <td>1430000</td>\n",
       "      <td>3</td>\n",
       "      <td>2.00</td>\n",
       "      <td>1890</td>\n",
       "      <td>12017</td>\n",
       "      <td>1.0</td>\n",
       "      <td>0</td>\n",
       "      <td>2</td>\n",
       "      <td>...</td>\n",
       "      <td>0</td>\n",
       "      <td>98004</td>\n",
       "      <td>47.6203</td>\n",
       "      <td>-122.210</td>\n",
       "      <td>2000</td>\n",
       "      <td>12210</td>\n",
       "      <td>47.616624</td>\n",
       "      <td>-122.197</td>\n",
       "      <td>47.61662410714297,-122.1969999999999</td>\n",
       "      <td>25.0</td>\n",
       "    </tr>\n",
       "  </tbody>\n",
       "</table>\n",
       "<p>10 rows × 25 columns</p>\n",
       "</div>"
      ],
      "text/plain": [
       "              id             date    price  bedrooms  bathrooms  sqft_living  \\\n",
       "520   4348800030  20141121T000000   727500         2       2.00         1240   \n",
       "1260  4389200765  20140625T000000  2300000         4       3.25         4250   \n",
       "1270  8964800445  20150209T000000  2260000         3       3.50         3110   \n",
       "1519  4395600060  20140630T000000   935000         2       2.50         1780   \n",
       "1569  8964800370  20141022T000000  1380000         3       1.50         1850   \n",
       "2716  1552100135  20140609T000000  1150000         3       2.50         2850   \n",
       "3575  6848200475  20141126T000000   933000         3       1.50         1870   \n",
       "5812  4348800080  20140711T000000   641200         3       1.00         1060   \n",
       "6306  4340000080  20150327T000000  1450000         4       3.50         2820   \n",
       "6768  8964800225  20150303T000000  1430000         3       2.00         1890   \n",
       "\n",
       "      sqft_lot  floors  waterfront  view               ...                 \\\n",
       "520       9119     1.0           0     0               ...                  \n",
       "1260      8570     2.0           0     0               ...                  \n",
       "1270     14872     1.0           0     0               ...                  \n",
       "1519      2067     2.0           0     0               ...                  \n",
       "1569     10572     1.0           0     0               ...                  \n",
       "2716     10474     1.0           0     0               ...                  \n",
       "3575      3300     2.0           0     2               ...                  \n",
       "5812      9123     1.0           0     0               ...                  \n",
       "6306      7809     2.0           0     0               ...                  \n",
       "6768     12017     1.0           0     2               ...                  \n",
       "\n",
       "      yr_renovated  zipcode      lat     long  sqft_living15  sqft_lot15  \\\n",
       "520              0    98004  47.6221 -122.193           1380        9121   \n",
       "1260             0    98004  47.6154 -122.210           2830       12821   \n",
       "1270             0    98004  47.6178 -122.209           3110       12433   \n",
       "1519             0    98004  47.6132 -122.210           2320        2067   \n",
       "1569             0    98004  47.6194 -122.208           3030       12752   \n",
       "2716             0    98004  47.6218 -122.209           2820       10474   \n",
       "3575             0    98102  47.6221 -122.325           1820        2460   \n",
       "5812             0    98004  47.6218 -122.193           1620        9121   \n",
       "6306             0    98004  47.6220 -122.195           2630        7904   \n",
       "6768             0    98004  47.6203 -122.210           2000       12210   \n",
       "\n",
       "      lat_group  long_group                        lat+long_group  \\\n",
       "520   47.616624    -122.197  47.61662410714297,-122.1969999999999   \n",
       "1260  47.616624    -122.197  47.61662410714297,-122.1969999999999   \n",
       "1270  47.616624    -122.197  47.61662410714297,-122.1969999999999   \n",
       "1519  47.616624    -122.197  47.61662410714297,-122.1969999999999   \n",
       "1569  47.616624    -122.197  47.61662410714297,-122.1969999999999   \n",
       "2716  47.616624    -122.197  47.61662410714297,-122.1969999999999   \n",
       "3575  47.616624    -122.337  47.61662410714297,-122.3369999999999   \n",
       "5812  47.616624    -122.197  47.61662410714297,-122.1969999999999   \n",
       "6306  47.616624    -122.197  47.61662410714297,-122.1969999999999   \n",
       "6768  47.616624    -122.197  47.61662410714297,-122.1969999999999   \n",
       "\n",
       "      Number of Expensive Restaurants  \n",
       "520                              25.0  \n",
       "1260                             25.0  \n",
       "1270                             25.0  \n",
       "1519                             25.0  \n",
       "1569                             25.0  \n",
       "2716                             25.0  \n",
       "3575                             45.0  \n",
       "5812                             25.0  \n",
       "6306                             25.0  \n",
       "6768                             25.0  \n",
       "\n",
       "[10 rows x 25 columns]"
      ]
     },
     "execution_count": 195,
     "metadata": {},
     "output_type": "execute_result"
    }
   ],
   "source": [
    "df2[(df2['Number of Expensive Restaurants'] >= 20) & (pd.Series(df2['price']/df2['sqft_living']) < 1000)].head(10)"
   ]
  },
  {
   "cell_type": "code",
   "execution_count": 177,
   "metadata": {},
   "outputs": [
    {
     "data": {
      "text/plain": [
       "0        188.050847\n",
       "1        209.338521\n",
       "2        233.766234\n",
       "3        308.163265\n",
       "4        303.571429\n",
       "5        226.937269\n",
       "6        150.145773\n",
       "7        275.330189\n",
       "8        128.932584\n",
       "9        170.899471\n",
       "10       186.095506\n",
       "11       403.448276\n",
       "12       216.783217\n",
       "13       291.970803\n",
       "14       292.817680\n",
       "15       220.338983\n",
       "16       208.994709\n",
       "17       303.125000\n",
       "18       157.500000\n",
       "19       184.000000\n",
       "20       237.654321\n",
       "21       655.737705\n",
       "22       125.550661\n",
       "23       236.168224\n",
       "24       134.285714\n",
       "25       136.257310\n",
       "26       382.448980\n",
       "27       476.428571\n",
       "28       288.157895\n",
       "29       279.766537\n",
       "            ...    \n",
       "21405    326.666667\n",
       "21406    563.309859\n",
       "21407    301.587302\n",
       "21408    144.385027\n",
       "21409    353.146853\n",
       "21410    253.289474\n",
       "21411    342.561983\n",
       "21412    136.811024\n",
       "21413    248.472505\n",
       "21414    206.498195\n",
       "21415    399.159664\n",
       "21416    261.390887\n",
       "21417    140.000000\n",
       "21418    339.869281\n",
       "21419    188.875000\n",
       "21420    463.343109\n",
       "21421    173.765234\n",
       "21422    203.007519\n",
       "21423    344.519016\n",
       "21424    327.719298\n",
       "21425    149.333333\n",
       "21426    223.458150\n",
       "21427    287.919463\n",
       "21428    242.335317\n",
       "21429    287.749288\n",
       "21430    362.595420\n",
       "21431    235.294118\n",
       "21432    173.160173\n",
       "21433    394.216667\n",
       "21434    250.000000\n",
       "Length: 21435, dtype: float64"
      ]
     },
     "execution_count": 177,
     "metadata": {},
     "output_type": "execute_result"
    }
   ],
   "source": [
    "df2['price']/df2['sqft_living']"
   ]
  },
  {
   "cell_type": "markdown",
   "metadata": {},
   "source": [
    "#### Pearson's Correlation"
   ]
  },
  {
   "cell_type": "code",
   "execution_count": 178,
   "metadata": {},
   "outputs": [
    {
     "data": {
      "text/plain": [
       "0.17574588613024839"
      ]
     },
     "execution_count": 178,
     "metadata": {},
     "output_type": "execute_result"
    }
   ],
   "source": [
    "pd.Series(df2['price']/df2['sqft_living']).corr(df2['Number of Expensive Restaurants'])"
   ]
  },
  {
   "cell_type": "markdown",
   "metadata": {},
   "source": [
    "Correlation is weak"
   ]
  },
  {
   "cell_type": "code",
   "execution_count": 179,
   "metadata": {},
   "outputs": [
    {
     "data": {
      "text/plain": [
       "array([    1,     2,     3, ..., 21434, 21435, 21436])"
      ]
     },
     "execution_count": 179,
     "metadata": {},
     "output_type": "execute_result"
    }
   ],
   "source": [
    "x = np.arange(1,21437,1)\n",
    "x"
   ]
  },
  {
   "cell_type": "code",
   "execution_count": 180,
   "metadata": {},
   "outputs": [
    {
     "name": "stderr",
     "output_type": "stream",
     "text": [
      "/anaconda/lib/python3.6/site-packages/numpy/lib/function_base.py:3159: RuntimeWarning: Degrees of freedom <= 0 for slice\n",
      "  c = cov(x, y, rowvar)\n",
      "/anaconda/lib/python3.6/site-packages/numpy/lib/function_base.py:3093: RuntimeWarning: divide by zero encountered in double_scalars\n",
      "  c *= 1. / np.float64(fact)\n"
     ]
    }
   ],
   "source": [
    "corrs = []\n",
    "for a in x:\n",
    "    b = df2['price'].head(a).corr(df2['Number of Expensive Restaurants'].head(a))\n",
    "    corrs.append(b)\n",
    "    "
   ]
  },
  {
   "cell_type": "code",
   "execution_count": 181,
   "metadata": {},
   "outputs": [
    {
     "data": {
      "image/png": "[encoded data removed]",
      "text/plain": [
       "<matplotlib.figure.Figure at 0x1187fa780>"
      ]
     },
     "metadata": {},
     "output_type": "display_data"
    }
   ],
   "source": [
    "plt.scatter(x,corrs)\n",
    "#plt.xlim(0,2000)\n",
    "plt.show()"
   ]
  },
  {
   "cell_type": "code",
   "execution_count": null,
   "metadata": {},
   "outputs": [],
   "source": []
  }
 ],
 "metadata": {
  "kernelspec": {
   "display_name": "Python 3",
   "language": "python",
   "name": "python3"
  },
  "language_info": {
   "codemirror_mode": {
    "name": "ipython",
    "version": 3
   },
   "file_extension": ".py",
   "mimetype": "text/x-python",
   "name": "python",
   "nbconvert_exporter": "python",
   "pygments_lexer": "ipython3",
   "version": "3.6.3"
  }
 },
 "nbformat": 4,
 "nbformat_minor": 2
}
