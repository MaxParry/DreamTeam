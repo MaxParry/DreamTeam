{
 "cells": [
  {
   "cell_type": "markdown",
   "metadata": {},
   "source": [
    "# Joining Yelp Data to Original Dataset, Expensive Restaurants"
   ]
  },
  {
   "cell_type": "markdown",
   "metadata": {},
   "source": [
    "#### Import dependencies"
   ]
  },
  {
   "cell_type": "code",
   "execution_count": 120,
   "metadata": {},
   "outputs": [],
   "source": [
    "import pandas as pd\n",
    "import matplotlib.pyplot as plt\n",
    "import numpy as np"
   ]
  },
  {
   "cell_type": "markdown",
   "metadata": {},
   "source": [
    "#### Read in CSVs"
   ]
  },
  {
   "cell_type": "code",
   "execution_count": 121,
   "metadata": {},
   "outputs": [],
   "source": [
    "csv1 = pd.read_csv('joinable_kc_dataset.csv')\n",
    "csv2 = pd.read_csv('yelp_restaurants.csv')"
   ]
  },
  {
   "cell_type": "code",
   "execution_count": 122,
   "metadata": {},
   "outputs": [],
   "source": [
    "joinable_raw_data = pd.DataFrame(csv1)\n",
    "restaurants = pd.DataFrame(csv2)"
   ]
  },
  {
   "cell_type": "markdown",
   "metadata": {},
   "source": [
    "#### View the datasets"
   ]
  },
  {
   "cell_type": "code",
   "execution_count": 123,
   "metadata": {},
   "outputs": [
    {
     "data": {
      "text/html": [
       "<div>\n",
       "<style scoped>\n",
       "    .dataframe tbody tr th:only-of-type {\n",
       "        vertical-align: middle;\n",
       "    }\n",
       "\n",
       "    .dataframe tbody tr th {\n",
       "        vertical-align: top;\n",
       "    }\n",
       "\n",
       "    .dataframe thead th {\n",
       "        text-align: right;\n",
       "    }\n",
       "</style>\n",
       "<table border=\"1\" class=\"dataframe\">\n",
       "  <thead>\n",
       "    <tr style=\"text-align: right;\">\n",
       "      <th></th>\n",
       "      <th>id</th>\n",
       "      <th>date</th>\n",
       "      <th>price</th>\n",
       "      <th>bedrooms</th>\n",
       "      <th>bathrooms</th>\n",
       "      <th>sqft_living</th>\n",
       "      <th>sqft_lot</th>\n",
       "      <th>floors</th>\n",
       "      <th>waterfront</th>\n",
       "      <th>view</th>\n",
       "      <th>...</th>\n",
       "      <th>yr_built</th>\n",
       "      <th>yr_renovated</th>\n",
       "      <th>zipcode</th>\n",
       "      <th>lat</th>\n",
       "      <th>long</th>\n",
       "      <th>sqft_living15</th>\n",
       "      <th>sqft_lot15</th>\n",
       "      <th>lat_group</th>\n",
       "      <th>long_group</th>\n",
       "      <th>lat+long_group</th>\n",
       "    </tr>\n",
       "  </thead>\n",
       "  <tbody>\n",
       "    <tr>\n",
       "      <th>0</th>\n",
       "      <td>7129300520</td>\n",
       "      <td>20141013T000000</td>\n",
       "      <td>221900</td>\n",
       "      <td>3</td>\n",
       "      <td>1.00</td>\n",
       "      <td>1180</td>\n",
       "      <td>5650</td>\n",
       "      <td>1.0</td>\n",
       "      <td>0</td>\n",
       "      <td>0</td>\n",
       "      <td>...</td>\n",
       "      <td>1955</td>\n",
       "      <td>0</td>\n",
       "      <td>98178</td>\n",
       "      <td>47.5112</td>\n",
       "      <td>-122.257</td>\n",
       "      <td>1340</td>\n",
       "      <td>5650</td>\n",
       "      <td>47.516708</td>\n",
       "      <td>-122.253</td>\n",
       "      <td>47.51670803571437,-122.2529999999999</td>\n",
       "    </tr>\n",
       "    <tr>\n",
       "      <th>1</th>\n",
       "      <td>6414100192</td>\n",
       "      <td>20141209T000000</td>\n",
       "      <td>538000</td>\n",
       "      <td>3</td>\n",
       "      <td>2.25</td>\n",
       "      <td>2570</td>\n",
       "      <td>7242</td>\n",
       "      <td>2.0</td>\n",
       "      <td>0</td>\n",
       "      <td>0</td>\n",
       "      <td>...</td>\n",
       "      <td>1951</td>\n",
       "      <td>1991</td>\n",
       "      <td>98125</td>\n",
       "      <td>47.7210</td>\n",
       "      <td>-122.319</td>\n",
       "      <td>1690</td>\n",
       "      <td>7639</td>\n",
       "      <td>47.716540</td>\n",
       "      <td>-122.309</td>\n",
       "      <td>47.71654017857156,-122.3089999999999</td>\n",
       "    </tr>\n",
       "    <tr>\n",
       "      <th>2</th>\n",
       "      <td>5631500400</td>\n",
       "      <td>20150225T000000</td>\n",
       "      <td>180000</td>\n",
       "      <td>2</td>\n",
       "      <td>1.00</td>\n",
       "      <td>770</td>\n",
       "      <td>10000</td>\n",
       "      <td>1.0</td>\n",
       "      <td>0</td>\n",
       "      <td>0</td>\n",
       "      <td>...</td>\n",
       "      <td>1933</td>\n",
       "      <td>0</td>\n",
       "      <td>98028</td>\n",
       "      <td>47.7379</td>\n",
       "      <td>-122.233</td>\n",
       "      <td>2720</td>\n",
       "      <td>8062</td>\n",
       "      <td>47.738744</td>\n",
       "      <td>-122.225</td>\n",
       "      <td>47.73874375000014,-122.2249999999999</td>\n",
       "    </tr>\n",
       "    <tr>\n",
       "      <th>3</th>\n",
       "      <td>2487200875</td>\n",
       "      <td>20141209T000000</td>\n",
       "      <td>604000</td>\n",
       "      <td>4</td>\n",
       "      <td>3.00</td>\n",
       "      <td>1960</td>\n",
       "      <td>5000</td>\n",
       "      <td>1.0</td>\n",
       "      <td>0</td>\n",
       "      <td>0</td>\n",
       "      <td>...</td>\n",
       "      <td>1965</td>\n",
       "      <td>0</td>\n",
       "      <td>98136</td>\n",
       "      <td>47.5208</td>\n",
       "      <td>-122.393</td>\n",
       "      <td>1360</td>\n",
       "      <td>5000</td>\n",
       "      <td>47.516708</td>\n",
       "      <td>-122.393</td>\n",
       "      <td>47.51670803571437,-122.393</td>\n",
       "    </tr>\n",
       "    <tr>\n",
       "      <th>4</th>\n",
       "      <td>1954400510</td>\n",
       "      <td>20150218T000000</td>\n",
       "      <td>510000</td>\n",
       "      <td>3</td>\n",
       "      <td>2.00</td>\n",
       "      <td>1680</td>\n",
       "      <td>8080</td>\n",
       "      <td>1.0</td>\n",
       "      <td>0</td>\n",
       "      <td>0</td>\n",
       "      <td>...</td>\n",
       "      <td>1987</td>\n",
       "      <td>0</td>\n",
       "      <td>98074</td>\n",
       "      <td>47.6168</td>\n",
       "      <td>-122.045</td>\n",
       "      <td>1800</td>\n",
       "      <td>7503</td>\n",
       "      <td>47.616624</td>\n",
       "      <td>-122.057</td>\n",
       "      <td>47.61662410714297,-122.0569999999999</td>\n",
       "    </tr>\n",
       "  </tbody>\n",
       "</table>\n",
       "<p>5 rows × 24 columns</p>\n",
       "</div>"
      ],
      "text/plain": [
       "           id             date   price  bedrooms  bathrooms  sqft_living  \\\n",
       "0  7129300520  20141013T000000  221900         3       1.00         1180   \n",
       "1  6414100192  20141209T000000  538000         3       2.25         2570   \n",
       "2  5631500400  20150225T000000  180000         2       1.00          770   \n",
       "3  2487200875  20141209T000000  604000         4       3.00         1960   \n",
       "4  1954400510  20150218T000000  510000         3       2.00         1680   \n",
       "\n",
       "   sqft_lot  floors  waterfront  view                  ...                   \\\n",
       "0      5650     1.0           0     0                  ...                    \n",
       "1      7242     2.0           0     0                  ...                    \n",
       "2     10000     1.0           0     0                  ...                    \n",
       "3      5000     1.0           0     0                  ...                    \n",
       "4      8080     1.0           0     0                  ...                    \n",
       "\n",
       "   yr_built  yr_renovated  zipcode      lat     long  sqft_living15  \\\n",
       "0      1955             0    98178  47.5112 -122.257           1340   \n",
       "1      1951          1991    98125  47.7210 -122.319           1690   \n",
       "2      1933             0    98028  47.7379 -122.233           2720   \n",
       "3      1965             0    98136  47.5208 -122.393           1360   \n",
       "4      1987             0    98074  47.6168 -122.045           1800   \n",
       "\n",
       "   sqft_lot15  lat_group  long_group                        lat+long_group  \n",
       "0        5650  47.516708    -122.253  47.51670803571437,-122.2529999999999  \n",
       "1        7639  47.716540    -122.309  47.71654017857156,-122.3089999999999  \n",
       "2        8062  47.738744    -122.225  47.73874375000014,-122.2249999999999  \n",
       "3        5000  47.516708    -122.393            47.51670803571437,-122.393  \n",
       "4        7503  47.616624    -122.057  47.61662410714297,-122.0569999999999  \n",
       "\n",
       "[5 rows x 24 columns]"
      ]
     },
     "execution_count": 123,
     "metadata": {},
     "output_type": "execute_result"
    }
   ],
   "source": [
    "joinable_raw_data.head()"
   ]
  },
  {
   "cell_type": "code",
   "execution_count": 124,
   "metadata": {},
   "outputs": [
    {
     "data": {
      "text/html": [
       "<div>\n",
       "<style scoped>\n",
       "    .dataframe tbody tr th:only-of-type {\n",
       "        vertical-align: middle;\n",
       "    }\n",
       "\n",
       "    .dataframe tbody tr th {\n",
       "        vertical-align: top;\n",
       "    }\n",
       "\n",
       "    .dataframe thead th {\n",
       "        text-align: right;\n",
       "    }\n",
       "</style>\n",
       "<table border=\"1\" class=\"dataframe\">\n",
       "  <thead>\n",
       "    <tr style=\"text-align: right;\">\n",
       "      <th></th>\n",
       "      <th>lat+long_group</th>\n",
       "      <th>Number of Expensive Restaurants</th>\n",
       "    </tr>\n",
       "  </thead>\n",
       "  <tbody>\n",
       "    <tr>\n",
       "      <th>0</th>\n",
       "      <td>47.51670803571437,-122.2529999999999</td>\n",
       "      <td>0</td>\n",
       "    </tr>\n",
       "    <tr>\n",
       "      <th>1</th>\n",
       "      <td>47.71654017857156,-122.3089999999999</td>\n",
       "      <td>0</td>\n",
       "    </tr>\n",
       "    <tr>\n",
       "      <th>2</th>\n",
       "      <td>47.73874375000014,-122.2249999999999</td>\n",
       "      <td>0</td>\n",
       "    </tr>\n",
       "    <tr>\n",
       "      <th>3</th>\n",
       "      <td>47.51670803571437,-122.393</td>\n",
       "      <td>1</td>\n",
       "    </tr>\n",
       "    <tr>\n",
       "      <th>4</th>\n",
       "      <td>47.61662410714297,-122.0569999999999</td>\n",
       "      <td>0</td>\n",
       "    </tr>\n",
       "  </tbody>\n",
       "</table>\n",
       "</div>"
      ],
      "text/plain": [
       "                         lat+long_group  Number of Expensive Restaurants\n",
       "0  47.51670803571437,-122.2529999999999                                0\n",
       "1  47.71654017857156,-122.3089999999999                                0\n",
       "2  47.73874375000014,-122.2249999999999                                0\n",
       "3            47.51670803571437,-122.393                                1\n",
       "4  47.61662410714297,-122.0569999999999                                0"
      ]
     },
     "execution_count": 124,
     "metadata": {},
     "output_type": "execute_result"
    }
   ],
   "source": [
    "restaurants.head()"
   ]
  },
  {
   "cell_type": "markdown",
   "metadata": {},
   "source": [
    "#### Join datasets"
   ]
  },
  {
   "cell_type": "code",
   "execution_count": 125,
   "metadata": {},
   "outputs": [
    {
     "data": {
      "text/html": [
       "<div>\n",
       "<style scoped>\n",
       "    .dataframe tbody tr th:only-of-type {\n",
       "        vertical-align: middle;\n",
       "    }\n",
       "\n",
       "    .dataframe tbody tr th {\n",
       "        vertical-align: top;\n",
       "    }\n",
       "\n",
       "    .dataframe thead th {\n",
       "        text-align: right;\n",
       "    }\n",
       "</style>\n",
       "<table border=\"1\" class=\"dataframe\">\n",
       "  <thead>\n",
       "    <tr style=\"text-align: right;\">\n",
       "      <th></th>\n",
       "      <th>id</th>\n",
       "      <th>date</th>\n",
       "      <th>price</th>\n",
       "      <th>bedrooms</th>\n",
       "      <th>bathrooms</th>\n",
       "      <th>sqft_living</th>\n",
       "      <th>sqft_lot</th>\n",
       "      <th>floors</th>\n",
       "      <th>waterfront</th>\n",
       "      <th>view</th>\n",
       "      <th>...</th>\n",
       "      <th>yr_renovated</th>\n",
       "      <th>zipcode</th>\n",
       "      <th>lat</th>\n",
       "      <th>long</th>\n",
       "      <th>sqft_living15</th>\n",
       "      <th>sqft_lot15</th>\n",
       "      <th>lat_group</th>\n",
       "      <th>long_group</th>\n",
       "      <th>lat+long_group</th>\n",
       "      <th>Number of Expensive Restaurants</th>\n",
       "    </tr>\n",
       "  </thead>\n",
       "  <tbody>\n",
       "    <tr>\n",
       "      <th>0</th>\n",
       "      <td>7129300520</td>\n",
       "      <td>20141013T000000</td>\n",
       "      <td>221900</td>\n",
       "      <td>3</td>\n",
       "      <td>1.00</td>\n",
       "      <td>1180</td>\n",
       "      <td>5650</td>\n",
       "      <td>1.0</td>\n",
       "      <td>0</td>\n",
       "      <td>0</td>\n",
       "      <td>...</td>\n",
       "      <td>0</td>\n",
       "      <td>98178</td>\n",
       "      <td>47.5112</td>\n",
       "      <td>-122.257</td>\n",
       "      <td>1340</td>\n",
       "      <td>5650</td>\n",
       "      <td>47.516708</td>\n",
       "      <td>-122.253</td>\n",
       "      <td>47.51670803571437,-122.2529999999999</td>\n",
       "      <td>0</td>\n",
       "    </tr>\n",
       "    <tr>\n",
       "      <th>1</th>\n",
       "      <td>1895000260</td>\n",
       "      <td>20140721T000000</td>\n",
       "      <td>207950</td>\n",
       "      <td>2</td>\n",
       "      <td>2.00</td>\n",
       "      <td>890</td>\n",
       "      <td>5000</td>\n",
       "      <td>1.0</td>\n",
       "      <td>0</td>\n",
       "      <td>0</td>\n",
       "      <td>...</td>\n",
       "      <td>0</td>\n",
       "      <td>98118</td>\n",
       "      <td>47.5158</td>\n",
       "      <td>-122.264</td>\n",
       "      <td>1860</td>\n",
       "      <td>5000</td>\n",
       "      <td>47.516708</td>\n",
       "      <td>-122.253</td>\n",
       "      <td>47.51670803571437,-122.2529999999999</td>\n",
       "      <td>0</td>\n",
       "    </tr>\n",
       "    <tr>\n",
       "      <th>2</th>\n",
       "      <td>1895000045</td>\n",
       "      <td>20150504T000000</td>\n",
       "      <td>195000</td>\n",
       "      <td>2</td>\n",
       "      <td>1.00</td>\n",
       "      <td>820</td>\n",
       "      <td>5100</td>\n",
       "      <td>1.0</td>\n",
       "      <td>0</td>\n",
       "      <td>0</td>\n",
       "      <td>...</td>\n",
       "      <td>0</td>\n",
       "      <td>98118</td>\n",
       "      <td>47.5156</td>\n",
       "      <td>-122.262</td>\n",
       "      <td>1170</td>\n",
       "      <td>5304</td>\n",
       "      <td>47.516708</td>\n",
       "      <td>-122.253</td>\n",
       "      <td>47.51670803571437,-122.2529999999999</td>\n",
       "      <td>0</td>\n",
       "    </tr>\n",
       "    <tr>\n",
       "      <th>3</th>\n",
       "      <td>770000045</td>\n",
       "      <td>20141024T000000</td>\n",
       "      <td>405600</td>\n",
       "      <td>5</td>\n",
       "      <td>1.50</td>\n",
       "      <td>2830</td>\n",
       "      <td>4000</td>\n",
       "      <td>2.5</td>\n",
       "      <td>0</td>\n",
       "      <td>0</td>\n",
       "      <td>...</td>\n",
       "      <td>0</td>\n",
       "      <td>98118</td>\n",
       "      <td>47.5132</td>\n",
       "      <td>-122.262</td>\n",
       "      <td>1480</td>\n",
       "      <td>4000</td>\n",
       "      <td>47.516708</td>\n",
       "      <td>-122.253</td>\n",
       "      <td>47.51670803571437,-122.2529999999999</td>\n",
       "      <td>0</td>\n",
       "    </tr>\n",
       "    <tr>\n",
       "      <th>4</th>\n",
       "      <td>8073000550</td>\n",
       "      <td>20150415T000000</td>\n",
       "      <td>1700000</td>\n",
       "      <td>4</td>\n",
       "      <td>3.75</td>\n",
       "      <td>3190</td>\n",
       "      <td>17186</td>\n",
       "      <td>2.0</td>\n",
       "      <td>1</td>\n",
       "      <td>4</td>\n",
       "      <td>...</td>\n",
       "      <td>0</td>\n",
       "      <td>98178</td>\n",
       "      <td>47.5115</td>\n",
       "      <td>-122.246</td>\n",
       "      <td>2290</td>\n",
       "      <td>13496</td>\n",
       "      <td>47.516708</td>\n",
       "      <td>-122.253</td>\n",
       "      <td>47.51670803571437,-122.2529999999999</td>\n",
       "      <td>0</td>\n",
       "    </tr>\n",
       "  </tbody>\n",
       "</table>\n",
       "<p>5 rows × 25 columns</p>\n",
       "</div>"
      ],
      "text/plain": [
       "           id             date    price  bedrooms  bathrooms  sqft_living  \\\n",
       "0  7129300520  20141013T000000   221900         3       1.00         1180   \n",
       "1  1895000260  20140721T000000   207950         2       2.00          890   \n",
       "2  1895000045  20150504T000000   195000         2       1.00          820   \n",
       "3   770000045  20141024T000000   405600         5       1.50         2830   \n",
       "4  8073000550  20150415T000000  1700000         4       3.75         3190   \n",
       "\n",
       "   sqft_lot  floors  waterfront  view               ...                 \\\n",
       "0      5650     1.0           0     0               ...                  \n",
       "1      5000     1.0           0     0               ...                  \n",
       "2      5100     1.0           0     0               ...                  \n",
       "3      4000     2.5           0     0               ...                  \n",
       "4     17186     2.0           1     4               ...                  \n",
       "\n",
       "   yr_renovated  zipcode      lat     long  sqft_living15  sqft_lot15  \\\n",
       "0             0    98178  47.5112 -122.257           1340        5650   \n",
       "1             0    98118  47.5158 -122.264           1860        5000   \n",
       "2             0    98118  47.5156 -122.262           1170        5304   \n",
       "3             0    98118  47.5132 -122.262           1480        4000   \n",
       "4             0    98178  47.5115 -122.246           2290       13496   \n",
       "\n",
       "   lat_group  long_group                        lat+long_group  \\\n",
       "0  47.516708    -122.253  47.51670803571437,-122.2529999999999   \n",
       "1  47.516708    -122.253  47.51670803571437,-122.2529999999999   \n",
       "2  47.516708    -122.253  47.51670803571437,-122.2529999999999   \n",
       "3  47.516708    -122.253  47.51670803571437,-122.2529999999999   \n",
       "4  47.516708    -122.253  47.51670803571437,-122.2529999999999   \n",
       "\n",
       "   Number of Expensive Restaurants  \n",
       "0                                0  \n",
       "1                                0  \n",
       "2                                0  \n",
       "3                                0  \n",
       "4                                0  \n",
       "\n",
       "[5 rows x 25 columns]"
      ]
     },
     "execution_count": 125,
     "metadata": {},
     "output_type": "execute_result"
    }
   ],
   "source": [
    "df = pd.merge(joinable_raw_data, restaurants, on='lat+long_group')\n",
    "df.head()"
   ]
  },
  {
   "cell_type": "markdown",
   "metadata": {},
   "source": [
    "#### Drop rows with no data"
   ]
  },
  {
   "cell_type": "code",
   "execution_count": 126,
   "metadata": {},
   "outputs": [
    {
     "data": {
      "text/plain": [
       "21436"
      ]
     },
     "execution_count": 126,
     "metadata": {},
     "output_type": "execute_result"
    }
   ],
   "source": [
    "len(df)"
   ]
  },
  {
   "cell_type": "code",
   "execution_count": 127,
   "metadata": {},
   "outputs": [],
   "source": [
    "df2 = df.dropna()"
   ]
  },
  {
   "cell_type": "code",
   "execution_count": 128,
   "metadata": {},
   "outputs": [
    {
     "data": {
      "text/plain": [
       "21436"
      ]
     },
     "execution_count": 128,
     "metadata": {},
     "output_type": "execute_result"
    }
   ],
   "source": [
    "len(df2)"
   ]
  },
  {
   "cell_type": "code",
   "execution_count": 129,
   "metadata": {},
   "outputs": [
    {
     "data": {
      "text/plain": [
       "263.9937748988584"
      ]
     },
     "execution_count": 129,
     "metadata": {},
     "output_type": "execute_result"
    }
   ],
   "source": [
    "pd.Series(df2['price']/df2['sqft_living']).mean()"
   ]
  },
  {
   "cell_type": "markdown",
   "metadata": {},
   "source": [
    "#### Plot"
   ]
  },
  {
   "cell_type": "code",
   "execution_count": 130,
   "metadata": {},
   "outputs": [
    {
     "data": {
      "image/png": "[encoded data removed]",
      "text/plain": [
       "<matplotlib.figure.Figure at 0x119186c50>"
      ]
     },
     "metadata": {},
     "output_type": "display_data"
    }
   ],
   "source": [
    "#plt.figure(figsize=(20,10))\n",
    "plt.scatter(df2['price']/df2['sqft_living'], df2['Number of Expensive Restaurants'], s=20)\n",
    "#plt.xlim(0,1250000)\n",
    "plt.show()"
   ]
  },
  {
   "cell_type": "code",
   "execution_count": 131,
   "metadata": {},
   "outputs": [],
   "source": [
    "df3 = df2[df2['Number of Expensive Restaurants'] >= 3]\n",
    "df4 = df2[df2['Number of Expensive Restaurants'] < 3]"
   ]
  },
  {
   "cell_type": "code",
   "execution_count": 132,
   "metadata": {},
   "outputs": [
    {
     "name": "stdout",
     "output_type": "stream",
     "text": [
      "699993.9136442142\n",
      "453634.6854069897\n",
      "3474\n"
     ]
    }
   ],
   "source": [
    "print(df3['price'].mean())\n",
    "print(df3['price'].std())\n",
    "print(len(df3))"
   ]
  },
  {
   "cell_type": "code",
   "execution_count": 133,
   "metadata": {},
   "outputs": [
    {
     "name": "stdout",
     "output_type": "stream",
     "text": [
      "509800.0742678989\n",
      "340437.4537964234\n",
      "17962\n"
     ]
    }
   ],
   "source": [
    "print(df4['price'].mean())\n",
    "print(df4['price'].std())\n",
    "print(len(df4))"
   ]
  },
  {
   "cell_type": "markdown",
   "metadata": {},
   "source": [
    "#### Linear Regression"
   ]
  },
  {
   "cell_type": "code",
   "execution_count": 152,
   "metadata": {},
   "outputs": [
    {
     "data": {
      "text/plain": [
       "Text(0,0.5,'Number of Expensive Restaurants')"
      ]
     },
     "execution_count": 152,
     "metadata": {},
     "output_type": "execute_result"
    }
   ],
   "source": [
    "fig, ax = plt.subplots()\n",
    "fit = np.polyfit((pd.Series(df2['price']/df2['sqft_living'])), df2['Number of Expensive Restaurants'], deg=1)\n",
    "ax.plot(pd.Series(df2['price']/df2['sqft_living']), fit[0] * pd.Series(df2['price']/df2['sqft_living']) + fit[1], color='red')\n",
    "ax.scatter((pd.Series(df2['price']/df2['sqft_living'])), df2['Number of Expensive Restaurants'], s=1)\n",
    "plt.xlim(0, 1000)\n",
    "plt.ylim(0, 60)\n",
    "plt.title('Price Per SQFT vs. # of Expensive Restaurants')\n",
    "plt.xlabel('Price Per SQFT')\n",
    "plt.ylabel('Number of Expensive Restaurants')\n",
    "\n"
   ]
  },
  {
   "cell_type": "code",
   "execution_count": 153,
   "metadata": {},
   "outputs": [
    {
     "data": {
      "image/png": "[encoded data removed]",
      "text/plain": [
       "<matplotlib.figure.Figure at 0x119e16518>"
      ]
     },
     "metadata": {},
     "output_type": "display_data"
    }
   ],
   "source": [
    "plt.show()"
   ]
  },
  {
   "cell_type": "code",
   "execution_count": 151,
   "metadata": {},
   "outputs": [
    {
     "data": {
      "text/html": [
       "<div>\n",
       "<style scoped>\n",
       "    .dataframe tbody tr th:only-of-type {\n",
       "        vertical-align: middle;\n",
       "    }\n",
       "\n",
       "    .dataframe tbody tr th {\n",
       "        vertical-align: top;\n",
       "    }\n",
       "\n",
       "    .dataframe thead th {\n",
       "        text-align: right;\n",
       "    }\n",
       "</style>\n",
       "<table border=\"1\" class=\"dataframe\">\n",
       "  <thead>\n",
       "    <tr style=\"text-align: right;\">\n",
       "      <th></th>\n",
       "      <th>id</th>\n",
       "      <th>date</th>\n",
       "      <th>price</th>\n",
       "      <th>bedrooms</th>\n",
       "      <th>bathrooms</th>\n",
       "      <th>sqft_living</th>\n",
       "      <th>sqft_lot</th>\n",
       "      <th>floors</th>\n",
       "      <th>waterfront</th>\n",
       "      <th>view</th>\n",
       "      <th>...</th>\n",
       "      <th>yr_renovated</th>\n",
       "      <th>zipcode</th>\n",
       "      <th>lat</th>\n",
       "      <th>long</th>\n",
       "      <th>sqft_living15</th>\n",
       "      <th>sqft_lot15</th>\n",
       "      <th>lat_group</th>\n",
       "      <th>long_group</th>\n",
       "      <th>lat+long_group</th>\n",
       "      <th>Number of Expensive Restaurants</th>\n",
       "    </tr>\n",
       "  </thead>\n",
       "  <tbody>\n",
       "    <tr>\n",
       "      <th>16427</th>\n",
       "      <td>682000030</td>\n",
       "      <td>20140703T000000</td>\n",
       "      <td>610000</td>\n",
       "      <td>3</td>\n",
       "      <td>2.0</td>\n",
       "      <td>2300</td>\n",
       "      <td>13418</td>\n",
       "      <td>1.0</td>\n",
       "      <td>0</td>\n",
       "      <td>0</td>\n",
       "      <td>...</td>\n",
       "      <td>0</td>\n",
       "      <td>98004</td>\n",
       "      <td>47.6075</td>\n",
       "      <td>-122.2</td>\n",
       "      <td>2140</td>\n",
       "      <td>9380</td>\n",
       "      <td>47.605522</td>\n",
       "      <td>-122.197</td>\n",
       "      <td>47.60552232142868,-122.1969999999999</td>\n",
       "      <td>26</td>\n",
       "    </tr>\n",
       "  </tbody>\n",
       "</table>\n",
       "<p>1 rows × 25 columns</p>\n",
       "</div>"
      ],
      "text/plain": [
       "              id             date   price  bedrooms  bathrooms  sqft_living  \\\n",
       "16427  682000030  20140703T000000  610000         3        2.0         2300   \n",
       "\n",
       "       sqft_lot  floors  waterfront  view               ...                 \\\n",
       "16427     13418     1.0           0     0               ...                  \n",
       "\n",
       "       yr_renovated  zipcode      lat   long  sqft_living15  sqft_lot15  \\\n",
       "16427             0    98004  47.6075 -122.2           2140        9380   \n",
       "\n",
       "       lat_group  long_group                        lat+long_group  \\\n",
       "16427  47.605522    -122.197  47.60552232142868,-122.1969999999999   \n",
       "\n",
       "       Number of Expensive Restaurants  \n",
       "16427                               26  \n",
       "\n",
       "[1 rows x 25 columns]"
      ]
     },
     "execution_count": 151,
     "metadata": {},
     "output_type": "execute_result"
    }
   ],
   "source": [
    "df2[(df2['Number of Expensive Restaurants'] >= 25) & (df2['price']/df2['sqft_living'] <= 275)].head()"
   ]
  },
  {
   "cell_type": "code",
   "execution_count": 136,
   "metadata": {},
   "outputs": [
    {
     "data": {
      "text/plain": [
       "0        188.050847\n",
       "1        233.651685\n",
       "2        237.804878\n",
       "3        143.321555\n",
       "4        532.915361\n",
       "5        174.369748\n",
       "6        170.212766\n",
       "7        285.185185\n",
       "8        603.448276\n",
       "9        161.931818\n",
       "10       148.648649\n",
       "11       236.185383\n",
       "12       156.250000\n",
       "13       267.889908\n",
       "14       177.118644\n",
       "15       144.954128\n",
       "16       259.615385\n",
       "17       207.983193\n",
       "18       218.750000\n",
       "19       405.961538\n",
       "20       187.460938\n",
       "21       287.323944\n",
       "22       252.808989\n",
       "23       251.818182\n",
       "24       207.812500\n",
       "25       187.931034\n",
       "26       235.955056\n",
       "27       347.761194\n",
       "28       217.391304\n",
       "29       130.341880\n",
       "            ...    \n",
       "21406    273.484848\n",
       "21407    225.848564\n",
       "21408    339.694656\n",
       "21409    217.812500\n",
       "21410    165.467626\n",
       "21411    147.861607\n",
       "21412    181.055156\n",
       "21413    171.539594\n",
       "21414    189.939117\n",
       "21415    162.056738\n",
       "21416    140.796211\n",
       "21417    173.765234\n",
       "21418    167.224080\n",
       "21419    242.187500\n",
       "21420    250.000000\n",
       "21421    265.605096\n",
       "21422    243.176667\n",
       "21423    226.930000\n",
       "21424    231.284916\n",
       "21425    227.397778\n",
       "21426    257.545455\n",
       "21427    262.539394\n",
       "21428    209.677419\n",
       "21429    282.574568\n",
       "21430    218.508997\n",
       "21431    247.648903\n",
       "21432    406.666667\n",
       "21433     99.962977\n",
       "21434    216.569767\n",
       "21435    316.017316\n",
       "Length: 21436, dtype: float64"
      ]
     },
     "execution_count": 136,
     "metadata": {},
     "output_type": "execute_result"
    }
   ],
   "source": [
    "df2['price']/df2['sqft_living']"
   ]
  },
  {
   "cell_type": "markdown",
   "metadata": {},
   "source": [
    "#### Pearson's Correlation"
   ]
  },
  {
   "cell_type": "code",
   "execution_count": 137,
   "metadata": {},
   "outputs": [
    {
     "data": {
      "text/plain": [
       "0.34823872488080393"
      ]
     },
     "execution_count": 137,
     "metadata": {},
     "output_type": "execute_result"
    }
   ],
   "source": [
    "pd.Series(df2['price']/df2['sqft_living']).corr(df2['Number of Expensive Restaurants'])"
   ]
  },
  {
   "cell_type": "markdown",
   "metadata": {},
   "source": [
    "Correlation is weak"
   ]
  },
  {
   "cell_type": "code",
   "execution_count": 141,
   "metadata": {},
   "outputs": [
    {
     "data": {
      "text/plain": [
       "array([    1,     2,     3, ..., 21434, 21435, 21436])"
      ]
     },
     "execution_count": 141,
     "metadata": {},
     "output_type": "execute_result"
    }
   ],
   "source": [
    "x = np.arange(1,21437,1)\n",
    "x"
   ]
  },
  {
   "cell_type": "code",
   "execution_count": 142,
   "metadata": {},
   "outputs": [
    {
     "name": "stderr",
     "output_type": "stream",
     "text": [
      "/anaconda/lib/python3.6/site-packages/numpy/lib/function_base.py:3159: RuntimeWarning: Degrees of freedom <= 0 for slice\n",
      "  c = cov(x, y, rowvar)\n",
      "/anaconda/lib/python3.6/site-packages/numpy/lib/function_base.py:3093: RuntimeWarning: divide by zero encountered in double_scalars\n",
      "  c *= 1. / np.float64(fact)\n"
     ]
    }
   ],
   "source": [
    "corrs = []\n",
    "for a in x:\n",
    "    b = df2['price'].head(a).corr(df2['Number of Expensive Restaurants'].head(a))\n",
    "    corrs.append(b)\n",
    "    "
   ]
  },
  {
   "cell_type": "code",
   "execution_count": 143,
   "metadata": {},
   "outputs": [
    {
     "data": {
      "image/png": "[encoded data removed]",
      "text/plain": [
       "<matplotlib.figure.Figure at 0x119642860>"
      ]
     },
     "metadata": {},
     "output_type": "display_data"
    }
   ],
   "source": [
    "plt.scatter(x,corrs)\n",
    "#plt.xlim(0,2000)\n",
    "plt.show()"
   ]
  },
  {
   "cell_type": "code",
   "execution_count": null,
   "metadata": {},
   "outputs": [],
   "source": []
  }
 ],
 "metadata": {
  "kernelspec": {
   "display_name": "Python 3",
   "language": "python",
   "name": "python3"
  },
  "language_info": {
   "codemirror_mode": {
    "name": "ipython",
    "version": 3
   },
   "file_extension": ".py",
   "mimetype": "text/x-python",
   "name": "python",
   "nbconvert_exporter": "python",
   "pygments_lexer": "ipython3",
   "version": "3.6.3"
  }
 },
 "nbformat": 4,
 "nbformat_minor": 2
}
